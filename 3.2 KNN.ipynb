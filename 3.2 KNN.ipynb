{
 "cells": [
  {
   "cell_type": "markdown",
   "metadata": {},
   "source": [
    "# KNN\n",
    "\n",
    "- Binary Classification\n",
    "- Evaluation Methods"
   ]
  },
  {
   "cell_type": "markdown",
   "metadata": {},
   "source": [
    "## 1. Load Data"
   ]
  },
  {
   "cell_type": "code",
   "execution_count": 1,
   "metadata": {},
   "outputs": [],
   "source": [
    "import pandas as pd\n",
    "import numpy as np\n",
    "pd.set_option('display.max_columns', None)"
   ]
  },
  {
   "cell_type": "code",
   "execution_count": 2,
   "metadata": {},
   "outputs": [],
   "source": [
    "# Read in csv file for ibm_telco that is stored in path:\n",
    "url = 'https://raw.githubusercontent.com/RogerCui-GitHub/Data-Mining/master/datasets/ibm_telco_processed.csv'\n",
    "df = pd.read_csv(url) #'./datasets/ibm_telco_processed.csv')"
   ]
  },
  {
   "cell_type": "markdown",
   "metadata": {},
   "source": [
    "## 2. View Data"
   ]
  },
  {
   "cell_type": "code",
   "execution_count": 3,
   "metadata": {},
   "outputs": [
    {
     "data": {
      "text/html": [
       "<div>\n",
       "<style scoped>\n",
       "    .dataframe tbody tr th:only-of-type {\n",
       "        vertical-align: middle;\n",
       "    }\n",
       "\n",
       "    .dataframe tbody tr th {\n",
       "        vertical-align: top;\n",
       "    }\n",
       "\n",
       "    .dataframe thead th {\n",
       "        text-align: right;\n",
       "    }\n",
       "</style>\n",
       "<table border=\"1\" class=\"dataframe\">\n",
       "  <thead>\n",
       "    <tr style=\"text-align: right;\">\n",
       "      <th></th>\n",
       "      <th>customerID</th>\n",
       "      <th>tenure</th>\n",
       "      <th>MonthlyCharges</th>\n",
       "      <th>TotalCharges</th>\n",
       "      <th>Churn</th>\n",
       "      <th>gender_le</th>\n",
       "      <th>Partner_le</th>\n",
       "      <th>Dependents_le</th>\n",
       "      <th>PhoneService_le</th>\n",
       "      <th>MultipleLines_le</th>\n",
       "      <th>InternetService_le</th>\n",
       "      <th>OnlineSecurity_le</th>\n",
       "      <th>OnlineBackup_le</th>\n",
       "      <th>DeviceProtection_le</th>\n",
       "      <th>TechSupport_le</th>\n",
       "      <th>StreamingTV_le</th>\n",
       "      <th>StreamingMovies_le</th>\n",
       "      <th>Contract_le</th>\n",
       "      <th>PaperlessBilling_le</th>\n",
       "      <th>PaymentMethod_le</th>\n",
       "      <th>CHURN</th>\n",
       "    </tr>\n",
       "  </thead>\n",
       "  <tbody>\n",
       "    <tr>\n",
       "      <th>0</th>\n",
       "      <td>7590-VHVEG</td>\n",
       "      <td>1</td>\n",
       "      <td>29.85</td>\n",
       "      <td>29.85</td>\n",
       "      <td>No</td>\n",
       "      <td>0</td>\n",
       "      <td>1</td>\n",
       "      <td>0</td>\n",
       "      <td>0</td>\n",
       "      <td>1</td>\n",
       "      <td>0</td>\n",
       "      <td>0</td>\n",
       "      <td>2</td>\n",
       "      <td>0</td>\n",
       "      <td>0</td>\n",
       "      <td>0</td>\n",
       "      <td>0</td>\n",
       "      <td>0</td>\n",
       "      <td>1</td>\n",
       "      <td>2</td>\n",
       "      <td>0</td>\n",
       "    </tr>\n",
       "    <tr>\n",
       "      <th>1</th>\n",
       "      <td>5575-GNVDE</td>\n",
       "      <td>34</td>\n",
       "      <td>56.95</td>\n",
       "      <td>1889.5</td>\n",
       "      <td>No</td>\n",
       "      <td>1</td>\n",
       "      <td>0</td>\n",
       "      <td>0</td>\n",
       "      <td>1</td>\n",
       "      <td>0</td>\n",
       "      <td>0</td>\n",
       "      <td>2</td>\n",
       "      <td>0</td>\n",
       "      <td>2</td>\n",
       "      <td>0</td>\n",
       "      <td>0</td>\n",
       "      <td>0</td>\n",
       "      <td>1</td>\n",
       "      <td>0</td>\n",
       "      <td>3</td>\n",
       "      <td>0</td>\n",
       "    </tr>\n",
       "    <tr>\n",
       "      <th>2</th>\n",
       "      <td>3668-QPYBK</td>\n",
       "      <td>2</td>\n",
       "      <td>53.85</td>\n",
       "      <td>108.15</td>\n",
       "      <td>Yes</td>\n",
       "      <td>1</td>\n",
       "      <td>0</td>\n",
       "      <td>0</td>\n",
       "      <td>1</td>\n",
       "      <td>0</td>\n",
       "      <td>0</td>\n",
       "      <td>2</td>\n",
       "      <td>2</td>\n",
       "      <td>0</td>\n",
       "      <td>0</td>\n",
       "      <td>0</td>\n",
       "      <td>0</td>\n",
       "      <td>0</td>\n",
       "      <td>1</td>\n",
       "      <td>3</td>\n",
       "      <td>1</td>\n",
       "    </tr>\n",
       "  </tbody>\n",
       "</table>\n",
       "</div>"
      ],
      "text/plain": [
       "   customerID  tenure  MonthlyCharges TotalCharges Churn  gender_le  \\\n",
       "0  7590-VHVEG       1           29.85        29.85    No          0   \n",
       "1  5575-GNVDE      34           56.95       1889.5    No          1   \n",
       "2  3668-QPYBK       2           53.85       108.15   Yes          1   \n",
       "\n",
       "   Partner_le  Dependents_le  PhoneService_le  MultipleLines_le  \\\n",
       "0           1              0                0                 1   \n",
       "1           0              0                1                 0   \n",
       "2           0              0                1                 0   \n",
       "\n",
       "   InternetService_le  OnlineSecurity_le  OnlineBackup_le  \\\n",
       "0                   0                  0                2   \n",
       "1                   0                  2                0   \n",
       "2                   0                  2                2   \n",
       "\n",
       "   DeviceProtection_le  TechSupport_le  StreamingTV_le  StreamingMovies_le  \\\n",
       "0                    0               0               0                   0   \n",
       "1                    2               0               0                   0   \n",
       "2                    0               0               0                   0   \n",
       "\n",
       "   Contract_le  PaperlessBilling_le  PaymentMethod_le  CHURN  \n",
       "0            0                    1                 2      0  \n",
       "1            1                    0                 3      0  \n",
       "2            0                    1                 3      1  "
      ]
     },
     "execution_count": 3,
     "metadata": {},
     "output_type": "execute_result"
    }
   ],
   "source": [
    "#Preview the dataset\n",
    "df.head(3)"
   ]
  },
  {
   "cell_type": "code",
   "execution_count": 4,
   "metadata": {
    "scrolled": false
   },
   "outputs": [
    {
     "data": {
      "text/html": [
       "<div>\n",
       "<style scoped>\n",
       "    .dataframe tbody tr th:only-of-type {\n",
       "        vertical-align: middle;\n",
       "    }\n",
       "\n",
       "    .dataframe tbody tr th {\n",
       "        vertical-align: top;\n",
       "    }\n",
       "\n",
       "    .dataframe thead th {\n",
       "        text-align: right;\n",
       "    }\n",
       "</style>\n",
       "<table border=\"1\" class=\"dataframe\">\n",
       "  <thead>\n",
       "    <tr style=\"text-align: right;\">\n",
       "      <th></th>\n",
       "      <th>count</th>\n",
       "      <th>mean</th>\n",
       "      <th>std</th>\n",
       "      <th>min</th>\n",
       "      <th>25%</th>\n",
       "      <th>50%</th>\n",
       "      <th>75%</th>\n",
       "      <th>max</th>\n",
       "    </tr>\n",
       "  </thead>\n",
       "  <tbody>\n",
       "    <tr>\n",
       "      <th>tenure</th>\n",
       "      <td>7043.0</td>\n",
       "      <td>32.371149</td>\n",
       "      <td>24.559481</td>\n",
       "      <td>0.00</td>\n",
       "      <td>9.0</td>\n",
       "      <td>29.00</td>\n",
       "      <td>55.00</td>\n",
       "      <td>72.00</td>\n",
       "    </tr>\n",
       "    <tr>\n",
       "      <th>MonthlyCharges</th>\n",
       "      <td>7043.0</td>\n",
       "      <td>64.761692</td>\n",
       "      <td>30.090047</td>\n",
       "      <td>18.25</td>\n",
       "      <td>35.5</td>\n",
       "      <td>70.35</td>\n",
       "      <td>89.85</td>\n",
       "      <td>118.75</td>\n",
       "    </tr>\n",
       "    <tr>\n",
       "      <th>gender_le</th>\n",
       "      <td>7043.0</td>\n",
       "      <td>0.504756</td>\n",
       "      <td>0.500013</td>\n",
       "      <td>0.00</td>\n",
       "      <td>0.0</td>\n",
       "      <td>1.00</td>\n",
       "      <td>1.00</td>\n",
       "      <td>1.00</td>\n",
       "    </tr>\n",
       "    <tr>\n",
       "      <th>Partner_le</th>\n",
       "      <td>7043.0</td>\n",
       "      <td>0.483033</td>\n",
       "      <td>0.499748</td>\n",
       "      <td>0.00</td>\n",
       "      <td>0.0</td>\n",
       "      <td>0.00</td>\n",
       "      <td>1.00</td>\n",
       "      <td>1.00</td>\n",
       "    </tr>\n",
       "    <tr>\n",
       "      <th>Dependents_le</th>\n",
       "      <td>7043.0</td>\n",
       "      <td>0.299588</td>\n",
       "      <td>0.458110</td>\n",
       "      <td>0.00</td>\n",
       "      <td>0.0</td>\n",
       "      <td>0.00</td>\n",
       "      <td>1.00</td>\n",
       "      <td>1.00</td>\n",
       "    </tr>\n",
       "    <tr>\n",
       "      <th>PhoneService_le</th>\n",
       "      <td>7043.0</td>\n",
       "      <td>0.903166</td>\n",
       "      <td>0.295752</td>\n",
       "      <td>0.00</td>\n",
       "      <td>1.0</td>\n",
       "      <td>1.00</td>\n",
       "      <td>1.00</td>\n",
       "      <td>1.00</td>\n",
       "    </tr>\n",
       "    <tr>\n",
       "      <th>MultipleLines_le</th>\n",
       "      <td>7043.0</td>\n",
       "      <td>0.940508</td>\n",
       "      <td>0.948554</td>\n",
       "      <td>0.00</td>\n",
       "      <td>0.0</td>\n",
       "      <td>1.00</td>\n",
       "      <td>2.00</td>\n",
       "      <td>2.00</td>\n",
       "    </tr>\n",
       "    <tr>\n",
       "      <th>InternetService_le</th>\n",
       "      <td>7043.0</td>\n",
       "      <td>0.872923</td>\n",
       "      <td>0.737796</td>\n",
       "      <td>0.00</td>\n",
       "      <td>0.0</td>\n",
       "      <td>1.00</td>\n",
       "      <td>1.00</td>\n",
       "      <td>2.00</td>\n",
       "    </tr>\n",
       "    <tr>\n",
       "      <th>OnlineSecurity_le</th>\n",
       "      <td>7043.0</td>\n",
       "      <td>0.790004</td>\n",
       "      <td>0.859848</td>\n",
       "      <td>0.00</td>\n",
       "      <td>0.0</td>\n",
       "      <td>1.00</td>\n",
       "      <td>2.00</td>\n",
       "      <td>2.00</td>\n",
       "    </tr>\n",
       "    <tr>\n",
       "      <th>OnlineBackup_le</th>\n",
       "      <td>7043.0</td>\n",
       "      <td>0.906432</td>\n",
       "      <td>0.880162</td>\n",
       "      <td>0.00</td>\n",
       "      <td>0.0</td>\n",
       "      <td>1.00</td>\n",
       "      <td>2.00</td>\n",
       "      <td>2.00</td>\n",
       "    </tr>\n",
       "    <tr>\n",
       "      <th>DeviceProtection_le</th>\n",
       "      <td>7043.0</td>\n",
       "      <td>0.904444</td>\n",
       "      <td>0.879949</td>\n",
       "      <td>0.00</td>\n",
       "      <td>0.0</td>\n",
       "      <td>1.00</td>\n",
       "      <td>2.00</td>\n",
       "      <td>2.00</td>\n",
       "    </tr>\n",
       "    <tr>\n",
       "      <th>TechSupport_le</th>\n",
       "      <td>7043.0</td>\n",
       "      <td>0.797104</td>\n",
       "      <td>0.861551</td>\n",
       "      <td>0.00</td>\n",
       "      <td>0.0</td>\n",
       "      <td>1.00</td>\n",
       "      <td>2.00</td>\n",
       "      <td>2.00</td>\n",
       "    </tr>\n",
       "    <tr>\n",
       "      <th>StreamingTV_le</th>\n",
       "      <td>7043.0</td>\n",
       "      <td>0.985376</td>\n",
       "      <td>0.885002</td>\n",
       "      <td>0.00</td>\n",
       "      <td>0.0</td>\n",
       "      <td>1.00</td>\n",
       "      <td>2.00</td>\n",
       "      <td>2.00</td>\n",
       "    </tr>\n",
       "    <tr>\n",
       "      <th>StreamingMovies_le</th>\n",
       "      <td>7043.0</td>\n",
       "      <td>0.992475</td>\n",
       "      <td>0.885091</td>\n",
       "      <td>0.00</td>\n",
       "      <td>0.0</td>\n",
       "      <td>1.00</td>\n",
       "      <td>2.00</td>\n",
       "      <td>2.00</td>\n",
       "    </tr>\n",
       "    <tr>\n",
       "      <th>Contract_le</th>\n",
       "      <td>7043.0</td>\n",
       "      <td>0.690473</td>\n",
       "      <td>0.833755</td>\n",
       "      <td>0.00</td>\n",
       "      <td>0.0</td>\n",
       "      <td>0.00</td>\n",
       "      <td>1.00</td>\n",
       "      <td>2.00</td>\n",
       "    </tr>\n",
       "    <tr>\n",
       "      <th>PaperlessBilling_le</th>\n",
       "      <td>7043.0</td>\n",
       "      <td>0.592219</td>\n",
       "      <td>0.491457</td>\n",
       "      <td>0.00</td>\n",
       "      <td>0.0</td>\n",
       "      <td>1.00</td>\n",
       "      <td>1.00</td>\n",
       "      <td>1.00</td>\n",
       "    </tr>\n",
       "    <tr>\n",
       "      <th>PaymentMethod_le</th>\n",
       "      <td>7043.0</td>\n",
       "      <td>1.574329</td>\n",
       "      <td>1.068104</td>\n",
       "      <td>0.00</td>\n",
       "      <td>1.0</td>\n",
       "      <td>2.00</td>\n",
       "      <td>2.00</td>\n",
       "      <td>3.00</td>\n",
       "    </tr>\n",
       "    <tr>\n",
       "      <th>CHURN</th>\n",
       "      <td>7043.0</td>\n",
       "      <td>0.265370</td>\n",
       "      <td>0.441561</td>\n",
       "      <td>0.00</td>\n",
       "      <td>0.0</td>\n",
       "      <td>0.00</td>\n",
       "      <td>1.00</td>\n",
       "      <td>1.00</td>\n",
       "    </tr>\n",
       "  </tbody>\n",
       "</table>\n",
       "</div>"
      ],
      "text/plain": [
       "                      count       mean        std    min   25%    50%    75%  \\\n",
       "tenure               7043.0  32.371149  24.559481   0.00   9.0  29.00  55.00   \n",
       "MonthlyCharges       7043.0  64.761692  30.090047  18.25  35.5  70.35  89.85   \n",
       "gender_le            7043.0   0.504756   0.500013   0.00   0.0   1.00   1.00   \n",
       "Partner_le           7043.0   0.483033   0.499748   0.00   0.0   0.00   1.00   \n",
       "Dependents_le        7043.0   0.299588   0.458110   0.00   0.0   0.00   1.00   \n",
       "PhoneService_le      7043.0   0.903166   0.295752   0.00   1.0   1.00   1.00   \n",
       "MultipleLines_le     7043.0   0.940508   0.948554   0.00   0.0   1.00   2.00   \n",
       "InternetService_le   7043.0   0.872923   0.737796   0.00   0.0   1.00   1.00   \n",
       "OnlineSecurity_le    7043.0   0.790004   0.859848   0.00   0.0   1.00   2.00   \n",
       "OnlineBackup_le      7043.0   0.906432   0.880162   0.00   0.0   1.00   2.00   \n",
       "DeviceProtection_le  7043.0   0.904444   0.879949   0.00   0.0   1.00   2.00   \n",
       "TechSupport_le       7043.0   0.797104   0.861551   0.00   0.0   1.00   2.00   \n",
       "StreamingTV_le       7043.0   0.985376   0.885002   0.00   0.0   1.00   2.00   \n",
       "StreamingMovies_le   7043.0   0.992475   0.885091   0.00   0.0   1.00   2.00   \n",
       "Contract_le          7043.0   0.690473   0.833755   0.00   0.0   0.00   1.00   \n",
       "PaperlessBilling_le  7043.0   0.592219   0.491457   0.00   0.0   1.00   1.00   \n",
       "PaymentMethod_le     7043.0   1.574329   1.068104   0.00   1.0   2.00   2.00   \n",
       "CHURN                7043.0   0.265370   0.441561   0.00   0.0   0.00   1.00   \n",
       "\n",
       "                        max  \n",
       "tenure                72.00  \n",
       "MonthlyCharges       118.75  \n",
       "gender_le              1.00  \n",
       "Partner_le             1.00  \n",
       "Dependents_le          1.00  \n",
       "PhoneService_le        1.00  \n",
       "MultipleLines_le       2.00  \n",
       "InternetService_le     2.00  \n",
       "OnlineSecurity_le      2.00  \n",
       "OnlineBackup_le        2.00  \n",
       "DeviceProtection_le    2.00  \n",
       "TechSupport_le         2.00  \n",
       "StreamingTV_le         2.00  \n",
       "StreamingMovies_le     2.00  \n",
       "Contract_le            2.00  \n",
       "PaperlessBilling_le    1.00  \n",
       "PaymentMethod_le       3.00  \n",
       "CHURN                  1.00  "
      ]
     },
     "execution_count": 4,
     "metadata": {},
     "output_type": "execute_result"
    }
   ],
   "source": [
    "# We again see that the describe function only describes continuous variables\n",
    "df.describe().T"
   ]
  },
  {
   "cell_type": "code",
   "execution_count": 5,
   "metadata": {},
   "outputs": [
    {
     "data": {
      "text/plain": [
       "customerID              object\n",
       "tenure                   int64\n",
       "MonthlyCharges         float64\n",
       "TotalCharges            object\n",
       "Churn                   object\n",
       "gender_le                int64\n",
       "Partner_le               int64\n",
       "Dependents_le            int64\n",
       "PhoneService_le          int64\n",
       "MultipleLines_le         int64\n",
       "InternetService_le       int64\n",
       "OnlineSecurity_le        int64\n",
       "OnlineBackup_le          int64\n",
       "DeviceProtection_le      int64\n",
       "TechSupport_le           int64\n",
       "StreamingTV_le           int64\n",
       "StreamingMovies_le       int64\n",
       "Contract_le              int64\n",
       "PaperlessBilling_le      int64\n",
       "PaymentMethod_le         int64\n",
       "CHURN                    int64\n",
       "dtype: object"
      ]
     },
     "execution_count": 5,
     "metadata": {},
     "output_type": "execute_result"
    }
   ],
   "source": [
    "#Check datatypes\n",
    "df.dtypes"
   ]
  },
  {
   "cell_type": "markdown",
   "metadata": {},
   "source": [
    "## 3. Process Data"
   ]
  },
  {
   "cell_type": "code",
   "execution_count": 6,
   "metadata": {},
   "outputs": [],
   "source": [
    "target = df[['CHURN', 'customerID']]"
   ]
  },
  {
   "cell_type": "code",
   "execution_count": 7,
   "metadata": {},
   "outputs": [
    {
     "data": {
      "text/html": [
       "<div>\n",
       "<style scoped>\n",
       "    .dataframe tbody tr th:only-of-type {\n",
       "        vertical-align: middle;\n",
       "    }\n",
       "\n",
       "    .dataframe tbody tr th {\n",
       "        vertical-align: top;\n",
       "    }\n",
       "\n",
       "    .dataframe thead th {\n",
       "        text-align: right;\n",
       "    }\n",
       "</style>\n",
       "<table border=\"1\" class=\"dataframe\">\n",
       "  <thead>\n",
       "    <tr style=\"text-align: right;\">\n",
       "      <th></th>\n",
       "      <th>tenure</th>\n",
       "      <th>MonthlyCharges</th>\n",
       "      <th>TotalCharges</th>\n",
       "      <th>gender_le</th>\n",
       "      <th>Partner_le</th>\n",
       "      <th>Dependents_le</th>\n",
       "      <th>PhoneService_le</th>\n",
       "      <th>MultipleLines_le</th>\n",
       "      <th>InternetService_le</th>\n",
       "      <th>OnlineSecurity_le</th>\n",
       "      <th>OnlineBackup_le</th>\n",
       "      <th>DeviceProtection_le</th>\n",
       "      <th>TechSupport_le</th>\n",
       "      <th>StreamingTV_le</th>\n",
       "      <th>StreamingMovies_le</th>\n",
       "      <th>Contract_le</th>\n",
       "      <th>PaperlessBilling_le</th>\n",
       "      <th>PaymentMethod_le</th>\n",
       "    </tr>\n",
       "  </thead>\n",
       "  <tbody>\n",
       "    <tr>\n",
       "      <th>0</th>\n",
       "      <td>1</td>\n",
       "      <td>29.85</td>\n",
       "      <td>29.85</td>\n",
       "      <td>0</td>\n",
       "      <td>1</td>\n",
       "      <td>0</td>\n",
       "      <td>0</td>\n",
       "      <td>1</td>\n",
       "      <td>0</td>\n",
       "      <td>0</td>\n",
       "      <td>2</td>\n",
       "      <td>0</td>\n",
       "      <td>0</td>\n",
       "      <td>0</td>\n",
       "      <td>0</td>\n",
       "      <td>0</td>\n",
       "      <td>1</td>\n",
       "      <td>2</td>\n",
       "    </tr>\n",
       "    <tr>\n",
       "      <th>1</th>\n",
       "      <td>34</td>\n",
       "      <td>56.95</td>\n",
       "      <td>1889.5</td>\n",
       "      <td>1</td>\n",
       "      <td>0</td>\n",
       "      <td>0</td>\n",
       "      <td>1</td>\n",
       "      <td>0</td>\n",
       "      <td>0</td>\n",
       "      <td>2</td>\n",
       "      <td>0</td>\n",
       "      <td>2</td>\n",
       "      <td>0</td>\n",
       "      <td>0</td>\n",
       "      <td>0</td>\n",
       "      <td>1</td>\n",
       "      <td>0</td>\n",
       "      <td>3</td>\n",
       "    </tr>\n",
       "    <tr>\n",
       "      <th>2</th>\n",
       "      <td>2</td>\n",
       "      <td>53.85</td>\n",
       "      <td>108.15</td>\n",
       "      <td>1</td>\n",
       "      <td>0</td>\n",
       "      <td>0</td>\n",
       "      <td>1</td>\n",
       "      <td>0</td>\n",
       "      <td>0</td>\n",
       "      <td>2</td>\n",
       "      <td>2</td>\n",
       "      <td>0</td>\n",
       "      <td>0</td>\n",
       "      <td>0</td>\n",
       "      <td>0</td>\n",
       "      <td>0</td>\n",
       "      <td>1</td>\n",
       "      <td>3</td>\n",
       "    </tr>\n",
       "  </tbody>\n",
       "</table>\n",
       "</div>"
      ],
      "text/plain": [
       "   tenure  MonthlyCharges TotalCharges  gender_le  Partner_le  Dependents_le  \\\n",
       "0       1           29.85        29.85          0           1              0   \n",
       "1      34           56.95       1889.5          1           0              0   \n",
       "2       2           53.85       108.15          1           0              0   \n",
       "\n",
       "   PhoneService_le  MultipleLines_le  InternetService_le  OnlineSecurity_le  \\\n",
       "0                0                 1                   0                  0   \n",
       "1                1                 0                   0                  2   \n",
       "2                1                 0                   0                  2   \n",
       "\n",
       "   OnlineBackup_le  DeviceProtection_le  TechSupport_le  StreamingTV_le  \\\n",
       "0                2                    0               0               0   \n",
       "1                0                    2               0               0   \n",
       "2                2                    0               0               0   \n",
       "\n",
       "   StreamingMovies_le  Contract_le  PaperlessBilling_le  PaymentMethod_le  \n",
       "0                   0            0                    1                 2  \n",
       "1                   0            1                    0                 3  \n",
       "2                   0            0                    1                 3  "
      ]
     },
     "execution_count": 7,
     "metadata": {},
     "output_type": "execute_result"
    }
   ],
   "source": [
    "variables = df.drop(['Churn', 'CHURN', 'customerID'], axis=1)\n",
    "variables.head(3)"
   ]
  },
  {
   "cell_type": "code",
   "execution_count": 8,
   "metadata": {},
   "outputs": [],
   "source": [
    "# We are going to convert the TotalCharges to numeric.  However, there are blank spaces in the column, which will\n",
    "# cause errors as we are trying to convert it.  We can coerce these errors for now, which will make these black observations\n",
    "# null, but we will have to either impute values for the logistic regression, or, drop the records.\n",
    "\n",
    "#For simplicity, we will impute\n",
    "variables['TotalCharges'] = variables['TotalCharges'].apply(pd.to_numeric, errors = 'coerce')\n",
    "\n",
    "from sklearn.impute import SimpleImputer\n",
    "mean_imputer = SimpleImputer(missing_values=np.nan, strategy='mean')\n",
    "\n",
    "variables['TotalCharges'] = variables['TotalCharges'].fillna(variables['TotalCharges'].mean())"
   ]
  },
  {
   "cell_type": "code",
   "execution_count": 9,
   "metadata": {
    "scrolled": true
   },
   "outputs": [
    {
     "data": {
      "text/plain": [
       "tenure                   int64\n",
       "MonthlyCharges         float64\n",
       "TotalCharges           float64\n",
       "gender_le                int64\n",
       "Partner_le               int64\n",
       "Dependents_le            int64\n",
       "PhoneService_le          int64\n",
       "MultipleLines_le         int64\n",
       "InternetService_le       int64\n",
       "OnlineSecurity_le        int64\n",
       "OnlineBackup_le          int64\n",
       "DeviceProtection_le      int64\n",
       "TechSupport_le           int64\n",
       "StreamingTV_le           int64\n",
       "StreamingMovies_le       int64\n",
       "Contract_le              int64\n",
       "PaperlessBilling_le      int64\n",
       "PaymentMethod_le         int64\n",
       "dtype: object"
      ]
     },
     "execution_count": 9,
     "metadata": {},
     "output_type": "execute_result"
    }
   ],
   "source": [
    "variables.dtypes"
   ]
  },
  {
   "cell_type": "code",
   "execution_count": 10,
   "metadata": {},
   "outputs": [],
   "source": [
    "# Again, we split the data into training and testing\n",
    "from sklearn.model_selection import train_test_split\n",
    "x_train, x_test, y_train, y_test = train_test_split(variables, \n",
    "                                                    target, \n",
    "                                                    test_size=0.2, \n",
    "                                                    random_state=1)"
   ]
  },
  {
   "cell_type": "markdown",
   "metadata": {},
   "source": [
    "## 4. Model Creation"
   ]
  },
  {
   "cell_type": "code",
   "execution_count": 11,
   "metadata": {},
   "outputs": [
    {
     "data": {
      "text/plain": [
       "pandas.core.frame.DataFrame"
      ]
     },
     "execution_count": 11,
     "metadata": {},
     "output_type": "execute_result"
    }
   ],
   "source": [
    "# It is important to know that scikit-learn requires the variables to be numpy arrays for k-nearest neighbors.  Let's check that:\n",
    "x_train_vars_only = x_train.apply(pd.to_numeric)\n",
    "type(x_train)"
   ]
  },
  {
   "cell_type": "code",
   "execution_count": 12,
   "metadata": {},
   "outputs": [
    {
     "data": {
      "text/plain": [
       "numpy.ndarray"
      ]
     },
     "execution_count": 12,
     "metadata": {},
     "output_type": "execute_result"
    }
   ],
   "source": [
    "from sklearn.preprocessing import StandardScaler\n",
    "\n",
    "scaler = StandardScaler()\n",
    "x_train_vars_only_s = scaler.fit_transform(x_train_vars_only)\n",
    "\n",
    "scaler = StandardScaler()\n",
    "x_test_vars_only_s = scaler.fit_transform(x_test)\n",
    "\n",
    "type(x_train_vars_only_s)"
   ]
  },
  {
   "cell_type": "code",
   "execution_count": 13,
   "metadata": {},
   "outputs": [],
   "source": [
    "# Now, let's train the learner:\n",
    "# Remember, the variables are already scaled at this point!  No need to repeat this.\n",
    "from sklearn import neighbors\n",
    "knn_clf = neighbors.KNeighborsClassifier(50, weights = 'uniform')"
   ]
  },
  {
   "cell_type": "markdown",
   "metadata": {},
   "source": [
    "#### For weights we can use:\n",
    "- ‘uniform’ : uniform weights. All points in each neighborhood are weighted equally.\n",
    "\n",
    "- ‘distance’ : weight points by the inverse of their distance. in this case, closer neighbors of a query point will have a greater influence than neighbors which are further away."
   ]
  },
  {
   "cell_type": "code",
   "execution_count": 14,
   "metadata": {},
   "outputs": [],
   "source": [
    "knn_model = knn_clf.fit(x_train_vars_only_s, y_train['CHURN'])"
   ]
  },
  {
   "cell_type": "code",
   "execution_count": 15,
   "metadata": {},
   "outputs": [
    {
     "data": {
      "text/plain": [
       "0.7921547745828896"
      ]
     },
     "execution_count": 15,
     "metadata": {},
     "output_type": "execute_result"
    }
   ],
   "source": [
    "knn_model.score(x_train_vars_only_s, y_train['CHURN'])"
   ]
  },
  {
   "cell_type": "code",
   "execution_count": 16,
   "metadata": {},
   "outputs": [
    {
     "data": {
      "text/plain": [
       "0.8048261178140526"
      ]
     },
     "execution_count": 16,
     "metadata": {},
     "output_type": "execute_result"
    }
   ],
   "source": [
    "# 80% accuracy on train data!  What about test?\n",
    "knn_model.score(x_test_vars_only_s, y_test['CHURN'])"
   ]
  },
  {
   "cell_type": "code",
   "execution_count": 17,
   "metadata": {},
   "outputs": [
    {
     "data": {
      "text/plain": [
       "array([[0.84, 0.16],\n",
       "       [0.76, 0.24],\n",
       "       [0.46, 0.54],\n",
       "       ...,\n",
       "       [0.98, 0.02],\n",
       "       [0.84, 0.16],\n",
       "       [0.44, 0.56]])"
      ]
     },
     "execution_count": 17,
     "metadata": {},
     "output_type": "execute_result"
    }
   ],
   "source": [
    "# We can find the probabilities produced by this model:\n",
    "knn_probs_train = knn_model.predict_proba(x_train_vars_only_s)\n",
    "knn_probs_test = knn_model.predict_proba(x_test_vars_only_s)\n",
    "knn_probs_test"
   ]
  },
  {
   "cell_type": "code",
   "execution_count": 18,
   "metadata": {},
   "outputs": [
    {
     "name": "stderr",
     "output_type": "stream",
     "text": [
      "c:\\python38\\lib\\site-packages\\pandas\\core\\indexing.py:845: SettingWithCopyWarning: \n",
      "A value is trying to be set on a copy of a slice from a DataFrame.\n",
      "Try using .loc[row_indexer,col_indexer] = value instead\n",
      "\n",
      "See the caveats in the documentation: https://pandas.pydata.org/pandas-docs/stable/user_guide/indexing.html#returning-a-view-versus-a-copy\n",
      "  self.obj[key] = _infer_fill_value(value)\n",
      "c:\\python38\\lib\\site-packages\\pandas\\core\\indexing.py:966: SettingWithCopyWarning: \n",
      "A value is trying to be set on a copy of a slice from a DataFrame.\n",
      "Try using .loc[row_indexer,col_indexer] = value instead\n",
      "\n",
      "See the caveats in the documentation: https://pandas.pydata.org/pandas-docs/stable/user_guide/indexing.html#returning-a-view-versus-a-copy\n",
      "  self.obj[item] = s\n",
      "c:\\python38\\lib\\site-packages\\pandas\\core\\indexing.py:845: SettingWithCopyWarning: \n",
      "A value is trying to be set on a copy of a slice from a DataFrame.\n",
      "Try using .loc[row_indexer,col_indexer] = value instead\n",
      "\n",
      "See the caveats in the documentation: https://pandas.pydata.org/pandas-docs/stable/user_guide/indexing.html#returning-a-view-versus-a-copy\n",
      "  self.obj[key] = _infer_fill_value(value)\n",
      "c:\\python38\\lib\\site-packages\\pandas\\core\\indexing.py:966: SettingWithCopyWarning: \n",
      "A value is trying to be set on a copy of a slice from a DataFrame.\n",
      "Try using .loc[row_indexer,col_indexer] = value instead\n",
      "\n",
      "See the caveats in the documentation: https://pandas.pydata.org/pandas-docs/stable/user_guide/indexing.html#returning-a-view-versus-a-copy\n",
      "  self.obj[item] = s\n"
     ]
    }
   ],
   "source": [
    "# Let's produce these preditions in the dataframe:\n",
    "x_train.loc[:,'KNN_PROBS'] = knn_probs_train[:, 1]\n",
    "x_test.loc[:,'KNN_PROBS'] = knn_probs_test[:, 1]\n",
    "x_test.loc[:,'KNN_PREDS'] = knn_model.predict(x_test_vars_only_s)"
   ]
  },
  {
   "cell_type": "code",
   "execution_count": 19,
   "metadata": {},
   "outputs": [
    {
     "data": {
      "text/html": [
       "<div>\n",
       "<style scoped>\n",
       "    .dataframe tbody tr th:only-of-type {\n",
       "        vertical-align: middle;\n",
       "    }\n",
       "\n",
       "    .dataframe tbody tr th {\n",
       "        vertical-align: top;\n",
       "    }\n",
       "\n",
       "    .dataframe thead th {\n",
       "        text-align: right;\n",
       "    }\n",
       "</style>\n",
       "<table border=\"1\" class=\"dataframe\">\n",
       "  <thead>\n",
       "    <tr style=\"text-align: right;\">\n",
       "      <th></th>\n",
       "      <th>tenure</th>\n",
       "      <th>MonthlyCharges</th>\n",
       "      <th>TotalCharges</th>\n",
       "      <th>gender_le</th>\n",
       "      <th>Partner_le</th>\n",
       "      <th>Dependents_le</th>\n",
       "      <th>PhoneService_le</th>\n",
       "      <th>MultipleLines_le</th>\n",
       "      <th>InternetService_le</th>\n",
       "      <th>OnlineSecurity_le</th>\n",
       "      <th>OnlineBackup_le</th>\n",
       "      <th>DeviceProtection_le</th>\n",
       "      <th>TechSupport_le</th>\n",
       "      <th>StreamingTV_le</th>\n",
       "      <th>StreamingMovies_le</th>\n",
       "      <th>Contract_le</th>\n",
       "      <th>PaperlessBilling_le</th>\n",
       "      <th>PaymentMethod_le</th>\n",
       "      <th>KNN_PROBS</th>\n",
       "      <th>KNN_PREDS</th>\n",
       "    </tr>\n",
       "  </thead>\n",
       "  <tbody>\n",
       "    <tr>\n",
       "      <th>3381</th>\n",
       "      <td>41</td>\n",
       "      <td>79.85</td>\n",
       "      <td>3320.75</td>\n",
       "      <td>0</td>\n",
       "      <td>0</td>\n",
       "      <td>0</td>\n",
       "      <td>1</td>\n",
       "      <td>0</td>\n",
       "      <td>0</td>\n",
       "      <td>2</td>\n",
       "      <td>0</td>\n",
       "      <td>2</td>\n",
       "      <td>2</td>\n",
       "      <td>2</td>\n",
       "      <td>2</td>\n",
       "      <td>1</td>\n",
       "      <td>1</td>\n",
       "      <td>0</td>\n",
       "      <td>0.16</td>\n",
       "      <td>0</td>\n",
       "    </tr>\n",
       "    <tr>\n",
       "      <th>6180</th>\n",
       "      <td>66</td>\n",
       "      <td>102.40</td>\n",
       "      <td>6471.85</td>\n",
       "      <td>0</td>\n",
       "      <td>0</td>\n",
       "      <td>0</td>\n",
       "      <td>1</td>\n",
       "      <td>2</td>\n",
       "      <td>1</td>\n",
       "      <td>2</td>\n",
       "      <td>0</td>\n",
       "      <td>0</td>\n",
       "      <td>0</td>\n",
       "      <td>2</td>\n",
       "      <td>2</td>\n",
       "      <td>2</td>\n",
       "      <td>1</td>\n",
       "      <td>0</td>\n",
       "      <td>0.24</td>\n",
       "      <td>0</td>\n",
       "    </tr>\n",
       "    <tr>\n",
       "      <th>4829</th>\n",
       "      <td>12</td>\n",
       "      <td>45.00</td>\n",
       "      <td>524.35</td>\n",
       "      <td>0</td>\n",
       "      <td>0</td>\n",
       "      <td>0</td>\n",
       "      <td>1</td>\n",
       "      <td>0</td>\n",
       "      <td>0</td>\n",
       "      <td>0</td>\n",
       "      <td>0</td>\n",
       "      <td>0</td>\n",
       "      <td>0</td>\n",
       "      <td>0</td>\n",
       "      <td>0</td>\n",
       "      <td>0</td>\n",
       "      <td>1</td>\n",
       "      <td>0</td>\n",
       "      <td>0.54</td>\n",
       "      <td>1</td>\n",
       "    </tr>\n",
       "  </tbody>\n",
       "</table>\n",
       "</div>"
      ],
      "text/plain": [
       "      tenure  MonthlyCharges  TotalCharges  gender_le  Partner_le  \\\n",
       "3381      41           79.85       3320.75          0           0   \n",
       "6180      66          102.40       6471.85          0           0   \n",
       "4829      12           45.00        524.35          0           0   \n",
       "\n",
       "      Dependents_le  PhoneService_le  MultipleLines_le  InternetService_le  \\\n",
       "3381              0                1                 0                   0   \n",
       "6180              0                1                 2                   1   \n",
       "4829              0                1                 0                   0   \n",
       "\n",
       "      OnlineSecurity_le  OnlineBackup_le  DeviceProtection_le  TechSupport_le  \\\n",
       "3381                  2                0                    2               2   \n",
       "6180                  2                0                    0               0   \n",
       "4829                  0                0                    0               0   \n",
       "\n",
       "      StreamingTV_le  StreamingMovies_le  Contract_le  PaperlessBilling_le  \\\n",
       "3381               2                   2            1                    1   \n",
       "6180               2                   2            2                    1   \n",
       "4829               0                   0            0                    1   \n",
       "\n",
       "      PaymentMethod_le  KNN_PROBS  KNN_PREDS  \n",
       "3381                 0       0.16          0  \n",
       "6180                 0       0.24          0  \n",
       "4829                 0       0.54          1  "
      ]
     },
     "execution_count": 19,
     "metadata": {},
     "output_type": "execute_result"
    }
   ],
   "source": [
    "x_test.head(3)"
   ]
  },
  {
   "cell_type": "code",
   "execution_count": 20,
   "metadata": {},
   "outputs": [
    {
     "data": {
      "text/plain": [
       "0.8331547011903855"
      ]
     },
     "execution_count": 20,
     "metadata": {},
     "output_type": "execute_result"
    }
   ],
   "source": [
    "from sklearn import metrics\n",
    "fpr, tpr, thresholds = metrics.roc_curve(y_train['CHURN'], x_train['KNN_PROBS'])\n",
    "metrics.auc(fpr, tpr)"
   ]
  },
  {
   "cell_type": "code",
   "execution_count": 21,
   "metadata": {},
   "outputs": [
    {
     "data": {
      "text/plain": [
       "0.8417414172272959"
      ]
     },
     "execution_count": 21,
     "metadata": {},
     "output_type": "execute_result"
    }
   ],
   "source": [
    "fpr, tpr, thresholds = metrics.roc_curve(y_test['CHURN'], x_test['KNN_PROBS'])\n",
    "metrics.auc(fpr, tpr)"
   ]
  },
  {
   "cell_type": "code",
   "execution_count": 22,
   "metadata": {},
   "outputs": [],
   "source": [
    "# We can also find the best value of K for our model with cross-validation:\n",
    "from sklearn.pipeline import Pipeline, FeatureUnion\n",
    "from sklearn.model_selection import GridSearchCV\n",
    "from sklearn.neighbors import KNeighborsClassifier\n",
    "standardizer = StandardScaler()"
   ]
  },
  {
   "cell_type": "code",
   "execution_count": 23,
   "metadata": {},
   "outputs": [],
   "source": [
    "knn = KNeighborsClassifier(n_neighbors=5, metric='euclidean', n_jobs=-1).fit(x_train_vars_only_s, y_train['CHURN'])"
   ]
  },
  {
   "cell_type": "code",
   "execution_count": 24,
   "metadata": {},
   "outputs": [],
   "source": [
    "# Create a pipeline\n",
    "pipe = Pipeline([('standardizer', standardizer), ('knn', knn)])\n",
    "\n",
    "# Create space of candidate values\n",
    "search_space = [{'knn__n_neighbors': [1, 2, 3, 4, 5, 6, 7, 8, 9, 10, 11]}]"
   ]
  },
  {
   "cell_type": "code",
   "execution_count": 25,
   "metadata": {},
   "outputs": [],
   "source": [
    "# Create grid search \n",
    "clf = GridSearchCV(pipe, search_space, cv=5, verbose=0).fit(x_train_vars_only_s, y_train['CHURN'])"
   ]
  },
  {
   "cell_type": "code",
   "execution_count": 26,
   "metadata": {},
   "outputs": [
    {
     "data": {
      "text/plain": [
       "10"
      ]
     },
     "execution_count": 26,
     "metadata": {},
     "output_type": "execute_result"
    }
   ],
   "source": [
    "# Best neighborhood size (k)\n",
    "clf.best_estimator_.get_params()['knn__n_neighbors']"
   ]
  },
  {
   "cell_type": "code",
   "execution_count": null,
   "metadata": {},
   "outputs": [],
   "source": []
  }
 ],
 "metadata": {
  "kernelspec": {
   "display_name": "Python 3",
   "language": "python",
   "name": "python3"
  },
  "language_info": {
   "codemirror_mode": {
    "name": "ipython",
    "version": 3
   },
   "file_extension": ".py",
   "mimetype": "text/x-python",
   "name": "python",
   "nbconvert_exporter": "python",
   "pygments_lexer": "ipython3",
   "version": "3.8.3"
  }
 },
 "nbformat": 4,
 "nbformat_minor": 2
}
