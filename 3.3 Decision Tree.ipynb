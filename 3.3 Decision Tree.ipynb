{
 "cells": [
  {
   "cell_type": "markdown",
   "metadata": {},
   "source": [
    "# Decision Trees"
   ]
  },
  {
   "cell_type": "code",
   "execution_count": 1,
   "metadata": {},
   "outputs": [
    {
     "data": {
      "text/plain": [
       "'C:\\\\Users\\\\roger\\\\OneDrive\\\\Github\\\\Data-Mining'"
      ]
     },
     "execution_count": 1,
     "metadata": {},
     "output_type": "execute_result"
    }
   ],
   "source": [
    "# Get working directory\n",
    "import os\n",
    "import math\n",
    "import pandas as pd\n",
    "pd.set_option('display.max_columns', None)\n",
    "import seaborn as sns\n",
    "sns.set(style='white', rc={'figure.figsize':(10,10)})\n",
    "os.getcwd()"
   ]
  },
  {
   "cell_type": "markdown",
   "metadata": {},
   "source": [
    "## 1. Load Data\n",
    "### Our first dataset will analyze a surgery and 30 day mortality"
   ]
  },
  {
   "cell_type": "code",
   "execution_count": 2,
   "metadata": {},
   "outputs": [],
   "source": [
    "# Read in csv file for World War 2 weather conditions that is stored in path:\n",
    "url = 'https://raw.githubusercontent.com/RogerCui-GitHub/Data-Mining/master/datasets/Surgicaldeepnet.csv'\n",
    "surg_df = pd.read_csv(url)"
   ]
  },
  {
   "cell_type": "markdown",
   "metadata": {},
   "source": [
    "## 2. View Data"
   ]
  },
  {
   "cell_type": "code",
   "execution_count": 3,
   "metadata": {},
   "outputs": [
    {
     "data": {
      "text/html": [
       "<div>\n",
       "<style scoped>\n",
       "    .dataframe tbody tr th:only-of-type {\n",
       "        vertical-align: middle;\n",
       "    }\n",
       "\n",
       "    .dataframe tbody tr th {\n",
       "        vertical-align: top;\n",
       "    }\n",
       "\n",
       "    .dataframe thead th {\n",
       "        text-align: right;\n",
       "    }\n",
       "</style>\n",
       "<table border=\"1\" class=\"dataframe\">\n",
       "  <thead>\n",
       "    <tr style=\"text-align: right;\">\n",
       "      <th></th>\n",
       "      <th>bmi</th>\n",
       "      <th>Age</th>\n",
       "      <th>asa_status</th>\n",
       "      <th>baseline_cancer</th>\n",
       "      <th>baseline_charlson</th>\n",
       "      <th>baseline_cvd</th>\n",
       "      <th>baseline_dementia</th>\n",
       "      <th>baseline_diabetes</th>\n",
       "      <th>baseline_digestive</th>\n",
       "      <th>baseline_osteoart</th>\n",
       "      <th>baseline_psych</th>\n",
       "      <th>baseline_pulmonary</th>\n",
       "      <th>ahrq_ccs</th>\n",
       "      <th>ccsComplicationRate</th>\n",
       "      <th>ccsMort30Rate</th>\n",
       "      <th>complication_rsi</th>\n",
       "      <th>dow</th>\n",
       "      <th>gender</th>\n",
       "      <th>hour</th>\n",
       "      <th>month</th>\n",
       "      <th>moonphase</th>\n",
       "      <th>mort30</th>\n",
       "      <th>mortality_rsi</th>\n",
       "      <th>race</th>\n",
       "      <th>complication</th>\n",
       "    </tr>\n",
       "  </thead>\n",
       "  <tbody>\n",
       "    <tr>\n",
       "      <th>0</th>\n",
       "      <td>19.31</td>\n",
       "      <td>59.2</td>\n",
       "      <td>1</td>\n",
       "      <td>1</td>\n",
       "      <td>0</td>\n",
       "      <td>0</td>\n",
       "      <td>0</td>\n",
       "      <td>0</td>\n",
       "      <td>0</td>\n",
       "      <td>0</td>\n",
       "      <td>0</td>\n",
       "      <td>0</td>\n",
       "      <td>19</td>\n",
       "      <td>0.183370</td>\n",
       "      <td>0.007424</td>\n",
       "      <td>-0.57</td>\n",
       "      <td>3</td>\n",
       "      <td>0</td>\n",
       "      <td>7.63</td>\n",
       "      <td>6</td>\n",
       "      <td>1</td>\n",
       "      <td>0</td>\n",
       "      <td>-0.43</td>\n",
       "      <td>1</td>\n",
       "      <td>0</td>\n",
       "    </tr>\n",
       "    <tr>\n",
       "      <th>1</th>\n",
       "      <td>18.73</td>\n",
       "      <td>59.1</td>\n",
       "      <td>0</td>\n",
       "      <td>0</td>\n",
       "      <td>0</td>\n",
       "      <td>0</td>\n",
       "      <td>0</td>\n",
       "      <td>0</td>\n",
       "      <td>0</td>\n",
       "      <td>0</td>\n",
       "      <td>0</td>\n",
       "      <td>0</td>\n",
       "      <td>1</td>\n",
       "      <td>0.312029</td>\n",
       "      <td>0.016673</td>\n",
       "      <td>0.21</td>\n",
       "      <td>0</td>\n",
       "      <td>0</td>\n",
       "      <td>12.93</td>\n",
       "      <td>0</td>\n",
       "      <td>1</td>\n",
       "      <td>0</td>\n",
       "      <td>-0.41</td>\n",
       "      <td>1</td>\n",
       "      <td>0</td>\n",
       "    </tr>\n",
       "    <tr>\n",
       "      <th>2</th>\n",
       "      <td>21.85</td>\n",
       "      <td>59.0</td>\n",
       "      <td>0</td>\n",
       "      <td>0</td>\n",
       "      <td>0</td>\n",
       "      <td>0</td>\n",
       "      <td>0</td>\n",
       "      <td>0</td>\n",
       "      <td>0</td>\n",
       "      <td>0</td>\n",
       "      <td>0</td>\n",
       "      <td>0</td>\n",
       "      <td>6</td>\n",
       "      <td>0.150706</td>\n",
       "      <td>0.001962</td>\n",
       "      <td>0.00</td>\n",
       "      <td>2</td>\n",
       "      <td>0</td>\n",
       "      <td>7.68</td>\n",
       "      <td>5</td>\n",
       "      <td>3</td>\n",
       "      <td>0</td>\n",
       "      <td>0.08</td>\n",
       "      <td>1</td>\n",
       "      <td>0</td>\n",
       "    </tr>\n",
       "  </tbody>\n",
       "</table>\n",
       "</div>"
      ],
      "text/plain": [
       "     bmi   Age  asa_status  baseline_cancer  baseline_charlson  baseline_cvd  \\\n",
       "0  19.31  59.2           1                1                  0             0   \n",
       "1  18.73  59.1           0                0                  0             0   \n",
       "2  21.85  59.0           0                0                  0             0   \n",
       "\n",
       "   baseline_dementia  baseline_diabetes  baseline_digestive  \\\n",
       "0                  0                  0                   0   \n",
       "1                  0                  0                   0   \n",
       "2                  0                  0                   0   \n",
       "\n",
       "   baseline_osteoart  baseline_psych  baseline_pulmonary  ahrq_ccs  \\\n",
       "0                  0               0                   0        19   \n",
       "1                  0               0                   0         1   \n",
       "2                  0               0                   0         6   \n",
       "\n",
       "   ccsComplicationRate  ccsMort30Rate  complication_rsi  dow  gender   hour  \\\n",
       "0             0.183370       0.007424             -0.57    3       0   7.63   \n",
       "1             0.312029       0.016673              0.21    0       0  12.93   \n",
       "2             0.150706       0.001962              0.00    2       0   7.68   \n",
       "\n",
       "   month  moonphase  mort30  mortality_rsi  race  complication  \n",
       "0      6          1       0          -0.43     1             0  \n",
       "1      0          1       0          -0.41     1             0  \n",
       "2      5          3       0           0.08     1             0  "
      ]
     },
     "execution_count": 3,
     "metadata": {},
     "output_type": "execute_result"
    }
   ],
   "source": [
    "surg_df.head(3)"
   ]
  },
  {
   "cell_type": "code",
   "execution_count": 4,
   "metadata": {},
   "outputs": [
    {
     "data": {
      "text/html": [
       "<div>\n",
       "<style scoped>\n",
       "    .dataframe tbody tr th:only-of-type {\n",
       "        vertical-align: middle;\n",
       "    }\n",
       "\n",
       "    .dataframe tbody tr th {\n",
       "        vertical-align: top;\n",
       "    }\n",
       "\n",
       "    .dataframe thead th {\n",
       "        text-align: right;\n",
       "    }\n",
       "</style>\n",
       "<table border=\"1\" class=\"dataframe\">\n",
       "  <thead>\n",
       "    <tr style=\"text-align: right;\">\n",
       "      <th></th>\n",
       "      <th>count</th>\n",
       "      <th>mean</th>\n",
       "      <th>std</th>\n",
       "      <th>min</th>\n",
       "      <th>25%</th>\n",
       "      <th>50%</th>\n",
       "      <th>75%</th>\n",
       "      <th>max</th>\n",
       "    </tr>\n",
       "  </thead>\n",
       "  <tbody>\n",
       "    <tr>\n",
       "      <th>bmi</th>\n",
       "      <td>14635.0</td>\n",
       "      <td>31.295642</td>\n",
       "      <td>8.152709</td>\n",
       "      <td>2.150000</td>\n",
       "      <td>26.510000</td>\n",
       "      <td>28.980000</td>\n",
       "      <td>35.295000</td>\n",
       "      <td>92.590000</td>\n",
       "    </tr>\n",
       "    <tr>\n",
       "      <th>Age</th>\n",
       "      <td>14635.0</td>\n",
       "      <td>63.205268</td>\n",
       "      <td>18.088191</td>\n",
       "      <td>6.100000</td>\n",
       "      <td>51.500000</td>\n",
       "      <td>59.700000</td>\n",
       "      <td>74.700000</td>\n",
       "      <td>90.000000</td>\n",
       "    </tr>\n",
       "    <tr>\n",
       "      <th>asa_status</th>\n",
       "      <td>14635.0</td>\n",
       "      <td>0.632320</td>\n",
       "      <td>0.539952</td>\n",
       "      <td>0.000000</td>\n",
       "      <td>0.000000</td>\n",
       "      <td>1.000000</td>\n",
       "      <td>1.000000</td>\n",
       "      <td>2.000000</td>\n",
       "    </tr>\n",
       "    <tr>\n",
       "      <th>baseline_cancer</th>\n",
       "      <td>14635.0</td>\n",
       "      <td>0.262316</td>\n",
       "      <td>0.439909</td>\n",
       "      <td>0.000000</td>\n",
       "      <td>0.000000</td>\n",
       "      <td>0.000000</td>\n",
       "      <td>1.000000</td>\n",
       "      <td>1.000000</td>\n",
       "    </tr>\n",
       "    <tr>\n",
       "      <th>baseline_charlson</th>\n",
       "      <td>14635.0</td>\n",
       "      <td>0.977520</td>\n",
       "      <td>1.758355</td>\n",
       "      <td>0.000000</td>\n",
       "      <td>0.000000</td>\n",
       "      <td>0.000000</td>\n",
       "      <td>2.000000</td>\n",
       "      <td>13.000000</td>\n",
       "    </tr>\n",
       "    <tr>\n",
       "      <th>baseline_cvd</th>\n",
       "      <td>14635.0</td>\n",
       "      <td>0.620294</td>\n",
       "      <td>0.485330</td>\n",
       "      <td>0.000000</td>\n",
       "      <td>0.000000</td>\n",
       "      <td>1.000000</td>\n",
       "      <td>1.000000</td>\n",
       "      <td>1.000000</td>\n",
       "    </tr>\n",
       "    <tr>\n",
       "      <th>baseline_dementia</th>\n",
       "      <td>14635.0</td>\n",
       "      <td>0.004851</td>\n",
       "      <td>0.069485</td>\n",
       "      <td>0.000000</td>\n",
       "      <td>0.000000</td>\n",
       "      <td>0.000000</td>\n",
       "      <td>0.000000</td>\n",
       "      <td>1.000000</td>\n",
       "    </tr>\n",
       "    <tr>\n",
       "      <th>baseline_diabetes</th>\n",
       "      <td>14635.0</td>\n",
       "      <td>0.120875</td>\n",
       "      <td>0.325993</td>\n",
       "      <td>0.000000</td>\n",
       "      <td>0.000000</td>\n",
       "      <td>0.000000</td>\n",
       "      <td>0.000000</td>\n",
       "      <td>1.000000</td>\n",
       "    </tr>\n",
       "    <tr>\n",
       "      <th>baseline_digestive</th>\n",
       "      <td>14635.0</td>\n",
       "      <td>0.189546</td>\n",
       "      <td>0.391955</td>\n",
       "      <td>0.000000</td>\n",
       "      <td>0.000000</td>\n",
       "      <td>0.000000</td>\n",
       "      <td>0.000000</td>\n",
       "      <td>1.000000</td>\n",
       "    </tr>\n",
       "    <tr>\n",
       "      <th>baseline_osteoart</th>\n",
       "      <td>14635.0</td>\n",
       "      <td>0.342740</td>\n",
       "      <td>0.474642</td>\n",
       "      <td>0.000000</td>\n",
       "      <td>0.000000</td>\n",
       "      <td>0.000000</td>\n",
       "      <td>1.000000</td>\n",
       "      <td>1.000000</td>\n",
       "    </tr>\n",
       "    <tr>\n",
       "      <th>baseline_psych</th>\n",
       "      <td>14635.0</td>\n",
       "      <td>0.082405</td>\n",
       "      <td>0.274990</td>\n",
       "      <td>0.000000</td>\n",
       "      <td>0.000000</td>\n",
       "      <td>0.000000</td>\n",
       "      <td>0.000000</td>\n",
       "      <td>1.000000</td>\n",
       "    </tr>\n",
       "    <tr>\n",
       "      <th>baseline_pulmonary</th>\n",
       "      <td>14635.0</td>\n",
       "      <td>0.094090</td>\n",
       "      <td>0.291963</td>\n",
       "      <td>0.000000</td>\n",
       "      <td>0.000000</td>\n",
       "      <td>0.000000</td>\n",
       "      <td>0.000000</td>\n",
       "      <td>1.000000</td>\n",
       "    </tr>\n",
       "    <tr>\n",
       "      <th>ahrq_ccs</th>\n",
       "      <td>14635.0</td>\n",
       "      <td>7.428493</td>\n",
       "      <td>6.949455</td>\n",
       "      <td>0.000000</td>\n",
       "      <td>0.000000</td>\n",
       "      <td>6.000000</td>\n",
       "      <td>13.000000</td>\n",
       "      <td>21.000000</td>\n",
       "    </tr>\n",
       "    <tr>\n",
       "      <th>ccsComplicationRate</th>\n",
       "      <td>14635.0</td>\n",
       "      <td>0.133570</td>\n",
       "      <td>0.088402</td>\n",
       "      <td>0.016118</td>\n",
       "      <td>0.081977</td>\n",
       "      <td>0.105720</td>\n",
       "      <td>0.183370</td>\n",
       "      <td>0.466129</td>\n",
       "    </tr>\n",
       "    <tr>\n",
       "      <th>ccsMort30Rate</th>\n",
       "      <td>14635.0</td>\n",
       "      <td>0.004447</td>\n",
       "      <td>0.004579</td>\n",
       "      <td>0.000000</td>\n",
       "      <td>0.001962</td>\n",
       "      <td>0.002959</td>\n",
       "      <td>0.007398</td>\n",
       "      <td>0.016673</td>\n",
       "    </tr>\n",
       "    <tr>\n",
       "      <th>complication_rsi</th>\n",
       "      <td>14635.0</td>\n",
       "      <td>-0.699044</td>\n",
       "      <td>1.339394</td>\n",
       "      <td>-4.720000</td>\n",
       "      <td>-1.970000</td>\n",
       "      <td>-0.580000</td>\n",
       "      <td>0.000000</td>\n",
       "      <td>12.560000</td>\n",
       "    </tr>\n",
       "    <tr>\n",
       "      <th>dow</th>\n",
       "      <td>14635.0</td>\n",
       "      <td>1.606970</td>\n",
       "      <td>1.497738</td>\n",
       "      <td>0.000000</td>\n",
       "      <td>0.000000</td>\n",
       "      <td>1.000000</td>\n",
       "      <td>3.000000</td>\n",
       "      <td>4.000000</td>\n",
       "    </tr>\n",
       "    <tr>\n",
       "      <th>gender</th>\n",
       "      <td>14635.0</td>\n",
       "      <td>0.548890</td>\n",
       "      <td>0.497621</td>\n",
       "      <td>0.000000</td>\n",
       "      <td>0.000000</td>\n",
       "      <td>1.000000</td>\n",
       "      <td>1.000000</td>\n",
       "      <td>1.000000</td>\n",
       "    </tr>\n",
       "    <tr>\n",
       "      <th>hour</th>\n",
       "      <td>14635.0</td>\n",
       "      <td>10.171613</td>\n",
       "      <td>2.659881</td>\n",
       "      <td>6.070000</td>\n",
       "      <td>7.820000</td>\n",
       "      <td>9.120000</td>\n",
       "      <td>12.050000</td>\n",
       "      <td>18.920000</td>\n",
       "    </tr>\n",
       "    <tr>\n",
       "      <th>month</th>\n",
       "      <td>14635.0</td>\n",
       "      <td>5.915408</td>\n",
       "      <td>3.239825</td>\n",
       "      <td>0.000000</td>\n",
       "      <td>3.000000</td>\n",
       "      <td>7.000000</td>\n",
       "      <td>8.000000</td>\n",
       "      <td>11.000000</td>\n",
       "    </tr>\n",
       "    <tr>\n",
       "      <th>moonphase</th>\n",
       "      <td>14635.0</td>\n",
       "      <td>1.187086</td>\n",
       "      <td>1.158357</td>\n",
       "      <td>0.000000</td>\n",
       "      <td>0.000000</td>\n",
       "      <td>1.000000</td>\n",
       "      <td>2.000000</td>\n",
       "      <td>3.000000</td>\n",
       "    </tr>\n",
       "    <tr>\n",
       "      <th>mort30</th>\n",
       "      <td>14635.0</td>\n",
       "      <td>0.003963</td>\n",
       "      <td>0.062830</td>\n",
       "      <td>0.000000</td>\n",
       "      <td>0.000000</td>\n",
       "      <td>0.000000</td>\n",
       "      <td>0.000000</td>\n",
       "      <td>1.000000</td>\n",
       "    </tr>\n",
       "    <tr>\n",
       "      <th>mortality_rsi</th>\n",
       "      <td>14635.0</td>\n",
       "      <td>-0.836712</td>\n",
       "      <td>1.194111</td>\n",
       "      <td>-3.820000</td>\n",
       "      <td>-2.250000</td>\n",
       "      <td>-0.640000</td>\n",
       "      <td>0.000000</td>\n",
       "      <td>4.400000</td>\n",
       "    </tr>\n",
       "    <tr>\n",
       "      <th>race</th>\n",
       "      <td>14635.0</td>\n",
       "      <td>0.919440</td>\n",
       "      <td>0.364663</td>\n",
       "      <td>0.000000</td>\n",
       "      <td>1.000000</td>\n",
       "      <td>1.000000</td>\n",
       "      <td>1.000000</td>\n",
       "      <td>2.000000</td>\n",
       "    </tr>\n",
       "    <tr>\n",
       "      <th>complication</th>\n",
       "      <td>14635.0</td>\n",
       "      <td>0.252135</td>\n",
       "      <td>0.434253</td>\n",
       "      <td>0.000000</td>\n",
       "      <td>0.000000</td>\n",
       "      <td>0.000000</td>\n",
       "      <td>1.000000</td>\n",
       "      <td>1.000000</td>\n",
       "    </tr>\n",
       "  </tbody>\n",
       "</table>\n",
       "</div>"
      ],
      "text/plain": [
       "                       count       mean        std       min        25%  \\\n",
       "bmi                  14635.0  31.295642   8.152709  2.150000  26.510000   \n",
       "Age                  14635.0  63.205268  18.088191  6.100000  51.500000   \n",
       "asa_status           14635.0   0.632320   0.539952  0.000000   0.000000   \n",
       "baseline_cancer      14635.0   0.262316   0.439909  0.000000   0.000000   \n",
       "baseline_charlson    14635.0   0.977520   1.758355  0.000000   0.000000   \n",
       "baseline_cvd         14635.0   0.620294   0.485330  0.000000   0.000000   \n",
       "baseline_dementia    14635.0   0.004851   0.069485  0.000000   0.000000   \n",
       "baseline_diabetes    14635.0   0.120875   0.325993  0.000000   0.000000   \n",
       "baseline_digestive   14635.0   0.189546   0.391955  0.000000   0.000000   \n",
       "baseline_osteoart    14635.0   0.342740   0.474642  0.000000   0.000000   \n",
       "baseline_psych       14635.0   0.082405   0.274990  0.000000   0.000000   \n",
       "baseline_pulmonary   14635.0   0.094090   0.291963  0.000000   0.000000   \n",
       "ahrq_ccs             14635.0   7.428493   6.949455  0.000000   0.000000   \n",
       "ccsComplicationRate  14635.0   0.133570   0.088402  0.016118   0.081977   \n",
       "ccsMort30Rate        14635.0   0.004447   0.004579  0.000000   0.001962   \n",
       "complication_rsi     14635.0  -0.699044   1.339394 -4.720000  -1.970000   \n",
       "dow                  14635.0   1.606970   1.497738  0.000000   0.000000   \n",
       "gender               14635.0   0.548890   0.497621  0.000000   0.000000   \n",
       "hour                 14635.0  10.171613   2.659881  6.070000   7.820000   \n",
       "month                14635.0   5.915408   3.239825  0.000000   3.000000   \n",
       "moonphase            14635.0   1.187086   1.158357  0.000000   0.000000   \n",
       "mort30               14635.0   0.003963   0.062830  0.000000   0.000000   \n",
       "mortality_rsi        14635.0  -0.836712   1.194111 -3.820000  -2.250000   \n",
       "race                 14635.0   0.919440   0.364663  0.000000   1.000000   \n",
       "complication         14635.0   0.252135   0.434253  0.000000   0.000000   \n",
       "\n",
       "                           50%        75%        max  \n",
       "bmi                  28.980000  35.295000  92.590000  \n",
       "Age                  59.700000  74.700000  90.000000  \n",
       "asa_status            1.000000   1.000000   2.000000  \n",
       "baseline_cancer       0.000000   1.000000   1.000000  \n",
       "baseline_charlson     0.000000   2.000000  13.000000  \n",
       "baseline_cvd          1.000000   1.000000   1.000000  \n",
       "baseline_dementia     0.000000   0.000000   1.000000  \n",
       "baseline_diabetes     0.000000   0.000000   1.000000  \n",
       "baseline_digestive    0.000000   0.000000   1.000000  \n",
       "baseline_osteoart     0.000000   1.000000   1.000000  \n",
       "baseline_psych        0.000000   0.000000   1.000000  \n",
       "baseline_pulmonary    0.000000   0.000000   1.000000  \n",
       "ahrq_ccs              6.000000  13.000000  21.000000  \n",
       "ccsComplicationRate   0.105720   0.183370   0.466129  \n",
       "ccsMort30Rate         0.002959   0.007398   0.016673  \n",
       "complication_rsi     -0.580000   0.000000  12.560000  \n",
       "dow                   1.000000   3.000000   4.000000  \n",
       "gender                1.000000   1.000000   1.000000  \n",
       "hour                  9.120000  12.050000  18.920000  \n",
       "month                 7.000000   8.000000  11.000000  \n",
       "moonphase             1.000000   2.000000   3.000000  \n",
       "mort30                0.000000   0.000000   1.000000  \n",
       "mortality_rsi        -0.640000   0.000000   4.400000  \n",
       "race                  1.000000   1.000000   2.000000  \n",
       "complication          0.000000   1.000000   1.000000  "
      ]
     },
     "execution_count": 4,
     "metadata": {},
     "output_type": "execute_result"
    }
   ],
   "source": [
    "# We again see that the describe function only describes continuous variables\n",
    "surg_df.describe().T"
   ]
  },
  {
   "cell_type": "code",
   "execution_count": 5,
   "metadata": {},
   "outputs": [
    {
     "data": {
      "text/plain": [
       "(14635, 25)"
      ]
     },
     "execution_count": 5,
     "metadata": {},
     "output_type": "execute_result"
    }
   ],
   "source": [
    "#Check dataframe shape\n",
    "surg_df.shape"
   ]
  },
  {
   "cell_type": "code",
   "execution_count": 6,
   "metadata": {},
   "outputs": [
    {
     "data": {
      "text/plain": [
       "bmi                    0\n",
       "Age                    0\n",
       "asa_status             0\n",
       "baseline_cancer        0\n",
       "baseline_charlson      0\n",
       "baseline_cvd           0\n",
       "baseline_dementia      0\n",
       "baseline_diabetes      0\n",
       "baseline_digestive     0\n",
       "baseline_osteoart      0\n",
       "baseline_psych         0\n",
       "baseline_pulmonary     0\n",
       "ahrq_ccs               0\n",
       "ccsComplicationRate    0\n",
       "ccsMort30Rate          0\n",
       "complication_rsi       0\n",
       "dow                    0\n",
       "gender                 0\n",
       "hour                   0\n",
       "month                  0\n",
       "moonphase              0\n",
       "mort30                 0\n",
       "mortality_rsi          0\n",
       "race                   0\n",
       "complication           0\n",
       "dtype: int64"
      ]
     },
     "execution_count": 6,
     "metadata": {},
     "output_type": "execute_result"
    }
   ],
   "source": [
    "#Check nulls per column\n",
    "surg_df.isnull().sum(axis = 0)"
   ]
  },
  {
   "cell_type": "code",
   "execution_count": 7,
   "metadata": {},
   "outputs": [
    {
     "data": {
      "text/plain": [
       "bmi                    float64\n",
       "Age                    float64\n",
       "asa_status               int64\n",
       "baseline_cancer          int64\n",
       "baseline_charlson        int64\n",
       "baseline_cvd             int64\n",
       "baseline_dementia        int64\n",
       "baseline_diabetes        int64\n",
       "baseline_digestive       int64\n",
       "baseline_osteoart        int64\n",
       "baseline_psych           int64\n",
       "baseline_pulmonary       int64\n",
       "ahrq_ccs                 int64\n",
       "ccsComplicationRate    float64\n",
       "ccsMort30Rate          float64\n",
       "complication_rsi       float64\n",
       "dow                      int64\n",
       "gender                   int64\n",
       "hour                   float64\n",
       "month                    int64\n",
       "moonphase                int64\n",
       "mort30                   int64\n",
       "mortality_rsi          float64\n",
       "race                     int64\n",
       "complication             int64\n",
       "dtype: object"
      ]
     },
     "execution_count": 7,
     "metadata": {},
     "output_type": "execute_result"
    }
   ],
   "source": [
    "surg_df.dtypes"
   ]
  },
  {
   "cell_type": "code",
   "execution_count": 8,
   "metadata": {},
   "outputs": [
    {
     "data": {
      "text/plain": [
       "count    14635.000000\n",
       "mean         0.003963\n",
       "std          0.062830\n",
       "min          0.000000\n",
       "25%          0.000000\n",
       "50%          0.000000\n",
       "75%          0.000000\n",
       "max          1.000000\n",
       "Name: mort30, dtype: float64"
      ]
     },
     "execution_count": 8,
     "metadata": {},
     "output_type": "execute_result"
    }
   ],
   "source": [
    "# Let's check the proportion of our target that make it 5 years:\n",
    "surg_df['mort30'].describe()"
   ]
  },
  {
   "cell_type": "code",
   "execution_count": 9,
   "metadata": {},
   "outputs": [
    {
     "data": {
      "text/plain": [
       "58"
      ]
     },
     "execution_count": 9,
     "metadata": {},
     "output_type": "execute_result"
    }
   ],
   "source": [
    "sum(surg_df['mort30'])"
   ]
  },
  {
   "cell_type": "markdown",
   "metadata": {},
   "source": [
    "## 3. Build the Model"
   ]
  },
  {
   "cell_type": "code",
   "execution_count": 10,
   "metadata": {},
   "outputs": [],
   "source": [
    "# Load libraries\n",
    "from sklearn.tree import DecisionTreeClassifier"
   ]
  },
  {
   "cell_type": "code",
   "execution_count": 11,
   "metadata": {},
   "outputs": [],
   "source": [
    "# Create decision tree classifer object using gini\n",
    "dt_clf = DecisionTreeClassifier(criterion='gini', random_state=0)"
   ]
  },
  {
   "cell_type": "code",
   "execution_count": 12,
   "metadata": {},
   "outputs": [],
   "source": [
    "target = surg_df['mort30']"
   ]
  },
  {
   "cell_type": "code",
   "execution_count": 13,
   "metadata": {},
   "outputs": [],
   "source": [
    "x_vars = surg_df.drop(['mort30'], axis=1)"
   ]
  },
  {
   "cell_type": "code",
   "execution_count": 14,
   "metadata": {},
   "outputs": [],
   "source": [
    "from sklearn.model_selection import train_test_split\n",
    "x_train, x_test, y_train, y_test = train_test_split(x_vars, \n",
    "                                                    target, \n",
    "                                                    test_size=0.2, \n",
    "                                                    random_state=1)"
   ]
  },
  {
   "cell_type": "code",
   "execution_count": 15,
   "metadata": {},
   "outputs": [],
   "source": [
    "# Train model\n",
    "dt_model = dt_clf.fit(x_train, y_train)"
   ]
  },
  {
   "cell_type": "markdown",
   "metadata": {},
   "source": [
    "### Let's check some attributes of our tree:"
   ]
  },
  {
   "cell_type": "code",
   "execution_count": 16,
   "metadata": {},
   "outputs": [
    {
     "data": {
      "text/plain": [
       "array([0, 1], dtype=int64)"
      ]
     },
     "execution_count": 16,
     "metadata": {},
     "output_type": "execute_result"
    }
   ],
   "source": [
    "dt_model.classes_"
   ]
  },
  {
   "cell_type": "code",
   "execution_count": 17,
   "metadata": {},
   "outputs": [
    {
     "data": {
      "text/plain": [
       "2"
      ]
     },
     "execution_count": 17,
     "metadata": {},
     "output_type": "execute_result"
    }
   ],
   "source": [
    "dt_model.n_classes_"
   ]
  },
  {
   "cell_type": "code",
   "execution_count": 18,
   "metadata": {},
   "outputs": [
    {
     "data": {
      "text/plain": [
       "24"
      ]
     },
     "execution_count": 18,
     "metadata": {},
     "output_type": "execute_result"
    }
   ],
   "source": [
    "dt_model.max_features_"
   ]
  },
  {
   "cell_type": "code",
   "execution_count": 19,
   "metadata": {},
   "outputs": [
    {
     "data": {
      "text/plain": [
       "{'ccp_alpha': 0.0,\n",
       " 'class_weight': None,\n",
       " 'criterion': 'gini',\n",
       " 'max_depth': None,\n",
       " 'max_features': None,\n",
       " 'max_leaf_nodes': None,\n",
       " 'min_impurity_decrease': 0.0,\n",
       " 'min_impurity_split': None,\n",
       " 'min_samples_leaf': 1,\n",
       " 'min_samples_split': 2,\n",
       " 'min_weight_fraction_leaf': 0.0,\n",
       " 'presort': 'deprecated',\n",
       " 'random_state': 0,\n",
       " 'splitter': 'best'}"
      ]
     },
     "execution_count": 19,
     "metadata": {},
     "output_type": "execute_result"
    }
   ],
   "source": [
    "dt_model.get_params()"
   ]
  },
  {
   "cell_type": "markdown",
   "metadata": {},
   "source": [
    "## 4. Predict probabilities for this decision tree:"
   ]
  },
  {
   "cell_type": "code",
   "execution_count": 20,
   "metadata": {},
   "outputs": [],
   "source": [
    "# Let's predict probabilities for this simple decision tree:\n",
    "train_probs = dt_model.predict_proba(x_train)\n",
    "test_probs = dt_model.predict_proba(x_test)"
   ]
  },
  {
   "cell_type": "code",
   "execution_count": 21,
   "metadata": {},
   "outputs": [
    {
     "data": {
      "text/plain": [
       "(2927, 2)"
      ]
     },
     "execution_count": 21,
     "metadata": {},
     "output_type": "execute_result"
    }
   ],
   "source": [
    "test_probs.shape"
   ]
  },
  {
   "cell_type": "code",
   "execution_count": 22,
   "metadata": {},
   "outputs": [],
   "source": [
    "train_probs_df = pd.DataFrame(train_probs)\n",
    "test_probs_df = pd.DataFrame(test_probs)\n",
    "train_probs_df.columns = ['trainprobs' + str(col) for col in train_probs_df.columns]\n",
    "test_probs_df.columns = ['testprobs' + str(col) for col in test_probs_df.columns]"
   ]
  },
  {
   "cell_type": "code",
   "execution_count": 23,
   "metadata": {},
   "outputs": [
    {
     "data": {
      "text/html": [
       "<div>\n",
       "<style scoped>\n",
       "    .dataframe tbody tr th:only-of-type {\n",
       "        vertical-align: middle;\n",
       "    }\n",
       "\n",
       "    .dataframe tbody tr th {\n",
       "        vertical-align: top;\n",
       "    }\n",
       "\n",
       "    .dataframe thead th {\n",
       "        text-align: right;\n",
       "    }\n",
       "</style>\n",
       "<table border=\"1\" class=\"dataframe\">\n",
       "  <thead>\n",
       "    <tr style=\"text-align: right;\">\n",
       "      <th></th>\n",
       "      <th>trainprobs0</th>\n",
       "      <th>trainprobs1</th>\n",
       "    </tr>\n",
       "  </thead>\n",
       "  <tbody>\n",
       "    <tr>\n",
       "      <th>0</th>\n",
       "      <td>1.0</td>\n",
       "      <td>0.0</td>\n",
       "    </tr>\n",
       "    <tr>\n",
       "      <th>1</th>\n",
       "      <td>1.0</td>\n",
       "      <td>0.0</td>\n",
       "    </tr>\n",
       "    <tr>\n",
       "      <th>2</th>\n",
       "      <td>1.0</td>\n",
       "      <td>0.0</td>\n",
       "    </tr>\n",
       "    <tr>\n",
       "      <th>3</th>\n",
       "      <td>1.0</td>\n",
       "      <td>0.0</td>\n",
       "    </tr>\n",
       "    <tr>\n",
       "      <th>4</th>\n",
       "      <td>1.0</td>\n",
       "      <td>0.0</td>\n",
       "    </tr>\n",
       "  </tbody>\n",
       "</table>\n",
       "</div>"
      ],
      "text/plain": [
       "   trainprobs0  trainprobs1\n",
       "0          1.0          0.0\n",
       "1          1.0          0.0\n",
       "2          1.0          0.0\n",
       "3          1.0          0.0\n",
       "4          1.0          0.0"
      ]
     },
     "execution_count": 23,
     "metadata": {},
     "output_type": "execute_result"
    }
   ],
   "source": [
    "train_probs_df.head()"
   ]
  },
  {
   "cell_type": "code",
   "execution_count": 24,
   "metadata": {},
   "outputs": [
    {
     "data": {
      "text/html": [
       "<div>\n",
       "<style scoped>\n",
       "    .dataframe tbody tr th:only-of-type {\n",
       "        vertical-align: middle;\n",
       "    }\n",
       "\n",
       "    .dataframe tbody tr th {\n",
       "        vertical-align: top;\n",
       "    }\n",
       "\n",
       "    .dataframe thead th {\n",
       "        text-align: right;\n",
       "    }\n",
       "</style>\n",
       "<table border=\"1\" class=\"dataframe\">\n",
       "  <thead>\n",
       "    <tr style=\"text-align: right;\">\n",
       "      <th></th>\n",
       "      <th>testprobs0</th>\n",
       "      <th>testprobs1</th>\n",
       "    </tr>\n",
       "  </thead>\n",
       "  <tbody>\n",
       "    <tr>\n",
       "      <th>count</th>\n",
       "      <td>2927.000000</td>\n",
       "      <td>2927.000000</td>\n",
       "    </tr>\n",
       "    <tr>\n",
       "      <th>mean</th>\n",
       "      <td>0.996242</td>\n",
       "      <td>0.003758</td>\n",
       "    </tr>\n",
       "    <tr>\n",
       "      <th>std</th>\n",
       "      <td>0.061199</td>\n",
       "      <td>0.061199</td>\n",
       "    </tr>\n",
       "    <tr>\n",
       "      <th>min</th>\n",
       "      <td>0.000000</td>\n",
       "      <td>0.000000</td>\n",
       "    </tr>\n",
       "    <tr>\n",
       "      <th>25%</th>\n",
       "      <td>1.000000</td>\n",
       "      <td>0.000000</td>\n",
       "    </tr>\n",
       "    <tr>\n",
       "      <th>50%</th>\n",
       "      <td>1.000000</td>\n",
       "      <td>0.000000</td>\n",
       "    </tr>\n",
       "    <tr>\n",
       "      <th>75%</th>\n",
       "      <td>1.000000</td>\n",
       "      <td>0.000000</td>\n",
       "    </tr>\n",
       "    <tr>\n",
       "      <th>max</th>\n",
       "      <td>1.000000</td>\n",
       "      <td>1.000000</td>\n",
       "    </tr>\n",
       "  </tbody>\n",
       "</table>\n",
       "</div>"
      ],
      "text/plain": [
       "        testprobs0   testprobs1\n",
       "count  2927.000000  2927.000000\n",
       "mean      0.996242     0.003758\n",
       "std       0.061199     0.061199\n",
       "min       0.000000     0.000000\n",
       "25%       1.000000     0.000000\n",
       "50%       1.000000     0.000000\n",
       "75%       1.000000     0.000000\n",
       "max       1.000000     1.000000"
      ]
     },
     "execution_count": 24,
     "metadata": {},
     "output_type": "execute_result"
    }
   ],
   "source": [
    "test_probs_df.describe()"
   ]
  },
  {
   "cell_type": "markdown",
   "metadata": {},
   "source": [
    "## 5. Evaluation: AUC"
   ]
  },
  {
   "cell_type": "code",
   "execution_count": 25,
   "metadata": {},
   "outputs": [
    {
     "data": {
      "text/plain": [
       "1.0"
      ]
     },
     "execution_count": 25,
     "metadata": {},
     "output_type": "execute_result"
    }
   ],
   "source": [
    "# Let's see hwo our model performed in terms of AUC on our training data\n",
    "from sklearn import metrics\n",
    "fpr, tpr, thresholds = metrics.roc_curve(y_train, train_probs[:,1])\n",
    "metrics.auc(fpr, tpr)"
   ]
  },
  {
   "cell_type": "code",
   "execution_count": 26,
   "metadata": {},
   "outputs": [
    {
     "data": {
      "text/plain": [
       "0.5698837722524642"
      ]
     },
     "execution_count": 26,
     "metadata": {},
     "output_type": "execute_result"
    }
   ],
   "source": [
    "fpr, tpr, thresholds = metrics.roc_curve(y_test, test_probs[:,1])\n",
    "metrics.auc(fpr, tpr)"
   ]
  },
  {
   "cell_type": "markdown",
   "metadata": {},
   "source": [
    "## 6. Tune Hyperparameters"
   ]
  },
  {
   "cell_type": "markdown",
   "metadata": {},
   "source": [
    "### Wow! we are very overfit.  Let's manually tune hyperparameters to take care of this.  What are some hyperparameters we can consider playing with to fit our model more appropriately?"
   ]
  },
  {
   "cell_type": "code",
   "execution_count": 27,
   "metadata": {},
   "outputs": [],
   "source": [
    "dt_clf = DecisionTreeClassifier(criterion='gini',\n",
    "                                max_depth = 5,\n",
    "                                min_samples_split = 2,\n",
    "                                min_samples_leaf = 300,\n",
    "                                max_features = 24,\n",
    "                                min_impurity_decrease = 0,\n",
    "                                class_weight = \"balanced\",\n",
    "                                random_state=0)"
   ]
  },
  {
   "cell_type": "code",
   "execution_count": 28,
   "metadata": {},
   "outputs": [],
   "source": [
    "# Train model\n",
    "dt_model = dt_clf.fit(x_train, y_train)"
   ]
  },
  {
   "cell_type": "code",
   "execution_count": 29,
   "metadata": {},
   "outputs": [],
   "source": [
    "train_probs = dt_model.predict_proba(x_train)\n",
    "test_probs = dt_model.predict_proba(x_test)"
   ]
  },
  {
   "cell_type": "code",
   "execution_count": 30,
   "metadata": {},
   "outputs": [],
   "source": [
    "train_probs_df = pd.DataFrame(train_probs)\n",
    "test_probs_df = pd.DataFrame(test_probs)\n",
    "train_probs_df.columns = ['trainprobs' + str(col) for col in train_probs_df.columns]\n",
    "test_probs_df.columns = ['testprobs' + str(col) for col in test_probs_df.columns]"
   ]
  },
  {
   "cell_type": "code",
   "execution_count": 31,
   "metadata": {},
   "outputs": [
    {
     "data": {
      "text/plain": [
       "0.9702123472378101"
      ]
     },
     "execution_count": 31,
     "metadata": {},
     "output_type": "execute_result"
    }
   ],
   "source": [
    "# Let's see hwo our model performed in terms of AUC on our training data\n",
    "from sklearn import metrics\n",
    "fpr, tpr, thresholds = metrics.roc_curve(y_train, train_probs[:,1])\n",
    "metrics.auc(fpr, tpr)"
   ]
  },
  {
   "cell_type": "code",
   "execution_count": 32,
   "metadata": {},
   "outputs": [
    {
     "data": {
      "text/plain": [
       "0.9354985042420676"
      ]
     },
     "execution_count": 32,
     "metadata": {},
     "output_type": "execute_result"
    }
   ],
   "source": [
    "fpr, tpr, thresholds = metrics.roc_curve(y_test, test_probs[:,1])\n",
    "metrics.auc(fpr, tpr)"
   ]
  },
  {
   "cell_type": "code",
   "execution_count": null,
   "metadata": {},
   "outputs": [],
   "source": []
  }
 ],
 "metadata": {
  "kernelspec": {
   "display_name": "Python 3",
   "language": "python",
   "name": "python3"
  },
  "language_info": {
   "codemirror_mode": {
    "name": "ipython",
    "version": 3
   },
   "file_extension": ".py",
   "mimetype": "text/x-python",
   "name": "python",
   "nbconvert_exporter": "python",
   "pygments_lexer": "ipython3",
   "version": "3.8.3"
  }
 },
 "nbformat": 4,
 "nbformat_minor": 2
}
