{
 "cells": [
  {
   "cell_type": "markdown",
   "metadata": {},
   "source": [
    "# Linear Regression\n",
    "\n",
    "- Linear Regression\n",
    "- Multiple Linear Regression\n",
    "- ANOVA\n",
    "- LASSO\n",
    "- Ridge Regression\n",
    "- Evaluation Methods"
   ]
  },
  {
   "cell_type": "code",
   "execution_count": 1,
   "metadata": {},
   "outputs": [
    {
     "data": {
      "text/plain": [
       "'C:\\\\Users\\\\roger\\\\OneDrive\\\\Github\\\\Data-Mining'"
      ]
     },
     "execution_count": 1,
     "metadata": {},
     "output_type": "execute_result"
    }
   ],
   "source": [
    "# Get working directory\n",
    "import os\n",
    "os.getcwd()"
   ]
  },
  {
   "cell_type": "markdown",
   "metadata": {},
   "source": [
    "## 1. Load Data"
   ]
  },
  {
   "cell_type": "code",
   "execution_count": 2,
   "metadata": {},
   "outputs": [],
   "source": [
    "# Read in csv file for World War 2 weather conditions that is stored in path:\n",
    "import pandas as pd\n",
    "pd.set_option('display.max_columns', None)\n",
    "pd.set_option('display.max_rows', None)\n",
    "url = 'https://raw.githubusercontent.com/RogerCui-GitHub/Data-Mining/master/datasets/Summary%20of%20Weather.csv'\n",
    "ww2_weath = pd.read_csv('./datasets/Summary of Weather.csv', low_memory=False)\n",
    "#low_memory=False:\n",
    "#c:\\python38\\lib\\site-packages\\IPython\\core\\interactiveshell.py:3071: DtypeWarning: Columns (7,8,18,25) have mixed types.Specify dtype option on import or set low_memory=False.\n",
    "#  has_raised = await self.run_ast_nodes(code_ast.body, cell_name,"
   ]
  },
  {
   "cell_type": "markdown",
   "metadata": {},
   "source": [
    "## 2. View Data"
   ]
  },
  {
   "cell_type": "code",
   "execution_count": 3,
   "metadata": {},
   "outputs": [
    {
     "data": {
      "text/html": [
       "<div>\n",
       "<style scoped>\n",
       "    .dataframe tbody tr th:only-of-type {\n",
       "        vertical-align: middle;\n",
       "    }\n",
       "\n",
       "    .dataframe tbody tr th {\n",
       "        vertical-align: top;\n",
       "    }\n",
       "\n",
       "    .dataframe thead th {\n",
       "        text-align: right;\n",
       "    }\n",
       "</style>\n",
       "<table border=\"1\" class=\"dataframe\">\n",
       "  <thead>\n",
       "    <tr style=\"text-align: right;\">\n",
       "      <th></th>\n",
       "      <th>STA</th>\n",
       "      <th>Date</th>\n",
       "      <th>Precip</th>\n",
       "      <th>WindGustSpd</th>\n",
       "      <th>MaxTemp</th>\n",
       "      <th>MinTemp</th>\n",
       "      <th>MeanTemp</th>\n",
       "      <th>Snowfall</th>\n",
       "      <th>PoorWeather</th>\n",
       "      <th>YR</th>\n",
       "      <th>MO</th>\n",
       "      <th>DA</th>\n",
       "      <th>PRCP</th>\n",
       "      <th>DR</th>\n",
       "      <th>SPD</th>\n",
       "      <th>MAX</th>\n",
       "      <th>MIN</th>\n",
       "      <th>MEA</th>\n",
       "      <th>SNF</th>\n",
       "      <th>SND</th>\n",
       "      <th>FT</th>\n",
       "      <th>FB</th>\n",
       "      <th>FTI</th>\n",
       "      <th>ITH</th>\n",
       "      <th>PGT</th>\n",
       "      <th>TSHDSBRSGF</th>\n",
       "      <th>SD3</th>\n",
       "      <th>RHX</th>\n",
       "      <th>RHN</th>\n",
       "      <th>RVG</th>\n",
       "      <th>WTE</th>\n",
       "    </tr>\n",
       "  </thead>\n",
       "  <tbody>\n",
       "    <tr>\n",
       "      <th>0</th>\n",
       "      <td>10001</td>\n",
       "      <td>1942-7-1</td>\n",
       "      <td>1.016</td>\n",
       "      <td>NaN</td>\n",
       "      <td>25.555556</td>\n",
       "      <td>22.222222</td>\n",
       "      <td>23.888889</td>\n",
       "      <td>0</td>\n",
       "      <td>NaN</td>\n",
       "      <td>42</td>\n",
       "      <td>7</td>\n",
       "      <td>1</td>\n",
       "      <td>0.04</td>\n",
       "      <td>NaN</td>\n",
       "      <td>NaN</td>\n",
       "      <td>78.0</td>\n",
       "      <td>72.0</td>\n",
       "      <td>75.0</td>\n",
       "      <td>0</td>\n",
       "      <td>NaN</td>\n",
       "      <td>NaN</td>\n",
       "      <td>NaN</td>\n",
       "      <td>NaN</td>\n",
       "      <td>NaN</td>\n",
       "      <td>NaN</td>\n",
       "      <td>NaN</td>\n",
       "      <td>NaN</td>\n",
       "      <td>NaN</td>\n",
       "      <td>NaN</td>\n",
       "      <td>NaN</td>\n",
       "      <td>NaN</td>\n",
       "    </tr>\n",
       "    <tr>\n",
       "      <th>1</th>\n",
       "      <td>10001</td>\n",
       "      <td>1942-7-2</td>\n",
       "      <td>0</td>\n",
       "      <td>NaN</td>\n",
       "      <td>28.888889</td>\n",
       "      <td>21.666667</td>\n",
       "      <td>25.555556</td>\n",
       "      <td>0</td>\n",
       "      <td>NaN</td>\n",
       "      <td>42</td>\n",
       "      <td>7</td>\n",
       "      <td>2</td>\n",
       "      <td>0</td>\n",
       "      <td>NaN</td>\n",
       "      <td>NaN</td>\n",
       "      <td>84.0</td>\n",
       "      <td>71.0</td>\n",
       "      <td>78.0</td>\n",
       "      <td>0</td>\n",
       "      <td>NaN</td>\n",
       "      <td>NaN</td>\n",
       "      <td>NaN</td>\n",
       "      <td>NaN</td>\n",
       "      <td>NaN</td>\n",
       "      <td>NaN</td>\n",
       "      <td>NaN</td>\n",
       "      <td>NaN</td>\n",
       "      <td>NaN</td>\n",
       "      <td>NaN</td>\n",
       "      <td>NaN</td>\n",
       "      <td>NaN</td>\n",
       "    </tr>\n",
       "    <tr>\n",
       "      <th>2</th>\n",
       "      <td>10001</td>\n",
       "      <td>1942-7-3</td>\n",
       "      <td>2.54</td>\n",
       "      <td>NaN</td>\n",
       "      <td>26.111111</td>\n",
       "      <td>22.222222</td>\n",
       "      <td>24.444444</td>\n",
       "      <td>0</td>\n",
       "      <td>NaN</td>\n",
       "      <td>42</td>\n",
       "      <td>7</td>\n",
       "      <td>3</td>\n",
       "      <td>0.1</td>\n",
       "      <td>NaN</td>\n",
       "      <td>NaN</td>\n",
       "      <td>79.0</td>\n",
       "      <td>72.0</td>\n",
       "      <td>76.0</td>\n",
       "      <td>0</td>\n",
       "      <td>NaN</td>\n",
       "      <td>NaN</td>\n",
       "      <td>NaN</td>\n",
       "      <td>NaN</td>\n",
       "      <td>NaN</td>\n",
       "      <td>NaN</td>\n",
       "      <td>NaN</td>\n",
       "      <td>NaN</td>\n",
       "      <td>NaN</td>\n",
       "      <td>NaN</td>\n",
       "      <td>NaN</td>\n",
       "      <td>NaN</td>\n",
       "    </tr>\n",
       "  </tbody>\n",
       "</table>\n",
       "</div>"
      ],
      "text/plain": [
       "     STA      Date Precip  WindGustSpd    MaxTemp    MinTemp   MeanTemp  \\\n",
       "0  10001  1942-7-1  1.016          NaN  25.555556  22.222222  23.888889   \n",
       "1  10001  1942-7-2      0          NaN  28.888889  21.666667  25.555556   \n",
       "2  10001  1942-7-3   2.54          NaN  26.111111  22.222222  24.444444   \n",
       "\n",
       "  Snowfall PoorWeather  YR  MO  DA  PRCP  DR  SPD   MAX   MIN   MEA SNF  SND  \\\n",
       "0        0         NaN  42   7   1  0.04 NaN  NaN  78.0  72.0  75.0   0  NaN   \n",
       "1        0         NaN  42   7   2     0 NaN  NaN  84.0  71.0  78.0   0  NaN   \n",
       "2        0         NaN  42   7   3   0.1 NaN  NaN  79.0  72.0  76.0   0  NaN   \n",
       "\n",
       "   FT  FB  FTI  ITH  PGT TSHDSBRSGF  SD3  RHX  RHN  RVG  WTE  \n",
       "0 NaN NaN  NaN  NaN  NaN        NaN  NaN  NaN  NaN  NaN  NaN  \n",
       "1 NaN NaN  NaN  NaN  NaN        NaN  NaN  NaN  NaN  NaN  NaN  \n",
       "2 NaN NaN  NaN  NaN  NaN        NaN  NaN  NaN  NaN  NaN  NaN  "
      ]
     },
     "execution_count": 3,
     "metadata": {},
     "output_type": "execute_result"
    }
   ],
   "source": [
    "# Preview the dataset with the .head() function:\n",
    "# Variable descriptions and definitions can be found at: https://www.kaggle.com/smid80/weatherww2/data\n",
    "ww2_weath.head(3)"
   ]
  },
  {
   "cell_type": "code",
   "execution_count": 4,
   "metadata": {},
   "outputs": [
    {
     "data": {
      "text/html": [
       "<div>\n",
       "<style scoped>\n",
       "    .dataframe tbody tr th:only-of-type {\n",
       "        vertical-align: middle;\n",
       "    }\n",
       "\n",
       "    .dataframe tbody tr th {\n",
       "        vertical-align: top;\n",
       "    }\n",
       "\n",
       "    .dataframe thead th {\n",
       "        text-align: right;\n",
       "    }\n",
       "</style>\n",
       "<table border=\"1\" class=\"dataframe\">\n",
       "  <thead>\n",
       "    <tr style=\"text-align: right;\">\n",
       "      <th></th>\n",
       "      <th>count</th>\n",
       "      <th>mean</th>\n",
       "      <th>std</th>\n",
       "      <th>min</th>\n",
       "      <th>25%</th>\n",
       "      <th>50%</th>\n",
       "      <th>75%</th>\n",
       "      <th>max</th>\n",
       "    </tr>\n",
       "  </thead>\n",
       "  <tbody>\n",
       "    <tr>\n",
       "      <th>STA</th>\n",
       "      <td>119040.0</td>\n",
       "      <td>29659.435795</td>\n",
       "      <td>20953.209402</td>\n",
       "      <td>10001.000000</td>\n",
       "      <td>11801.000000</td>\n",
       "      <td>22508.000000</td>\n",
       "      <td>33501.000000</td>\n",
       "      <td>82506.000000</td>\n",
       "    </tr>\n",
       "    <tr>\n",
       "      <th>WindGustSpd</th>\n",
       "      <td>532.0</td>\n",
       "      <td>37.774534</td>\n",
       "      <td>10.297808</td>\n",
       "      <td>18.520000</td>\n",
       "      <td>29.632000</td>\n",
       "      <td>37.040000</td>\n",
       "      <td>43.059000</td>\n",
       "      <td>75.932000</td>\n",
       "    </tr>\n",
       "    <tr>\n",
       "      <th>MaxTemp</th>\n",
       "      <td>119040.0</td>\n",
       "      <td>27.045111</td>\n",
       "      <td>8.717817</td>\n",
       "      <td>-33.333333</td>\n",
       "      <td>25.555556</td>\n",
       "      <td>29.444444</td>\n",
       "      <td>31.666667</td>\n",
       "      <td>50.000000</td>\n",
       "    </tr>\n",
       "    <tr>\n",
       "      <th>MinTemp</th>\n",
       "      <td>119040.0</td>\n",
       "      <td>17.789511</td>\n",
       "      <td>8.334572</td>\n",
       "      <td>-38.333333</td>\n",
       "      <td>15.000000</td>\n",
       "      <td>21.111111</td>\n",
       "      <td>23.333333</td>\n",
       "      <td>34.444444</td>\n",
       "    </tr>\n",
       "    <tr>\n",
       "      <th>MeanTemp</th>\n",
       "      <td>119040.0</td>\n",
       "      <td>22.411631</td>\n",
       "      <td>8.297982</td>\n",
       "      <td>-35.555556</td>\n",
       "      <td>20.555556</td>\n",
       "      <td>25.555556</td>\n",
       "      <td>27.222222</td>\n",
       "      <td>40.000000</td>\n",
       "    </tr>\n",
       "    <tr>\n",
       "      <th>YR</th>\n",
       "      <td>119040.0</td>\n",
       "      <td>43.805284</td>\n",
       "      <td>1.136718</td>\n",
       "      <td>40.000000</td>\n",
       "      <td>43.000000</td>\n",
       "      <td>44.000000</td>\n",
       "      <td>45.000000</td>\n",
       "      <td>45.000000</td>\n",
       "    </tr>\n",
       "    <tr>\n",
       "      <th>MO</th>\n",
       "      <td>119040.0</td>\n",
       "      <td>6.726016</td>\n",
       "      <td>3.425561</td>\n",
       "      <td>1.000000</td>\n",
       "      <td>4.000000</td>\n",
       "      <td>7.000000</td>\n",
       "      <td>10.000000</td>\n",
       "      <td>12.000000</td>\n",
       "    </tr>\n",
       "    <tr>\n",
       "      <th>DA</th>\n",
       "      <td>119040.0</td>\n",
       "      <td>15.797530</td>\n",
       "      <td>8.794541</td>\n",
       "      <td>1.000000</td>\n",
       "      <td>8.000000</td>\n",
       "      <td>16.000000</td>\n",
       "      <td>23.000000</td>\n",
       "      <td>31.000000</td>\n",
       "    </tr>\n",
       "    <tr>\n",
       "      <th>DR</th>\n",
       "      <td>533.0</td>\n",
       "      <td>26.998124</td>\n",
       "      <td>15.221732</td>\n",
       "      <td>2.000000</td>\n",
       "      <td>11.000000</td>\n",
       "      <td>32.000000</td>\n",
       "      <td>34.000000</td>\n",
       "      <td>78.000000</td>\n",
       "    </tr>\n",
       "    <tr>\n",
       "      <th>SPD</th>\n",
       "      <td>532.0</td>\n",
       "      <td>20.396617</td>\n",
       "      <td>5.560371</td>\n",
       "      <td>10.000000</td>\n",
       "      <td>16.000000</td>\n",
       "      <td>20.000000</td>\n",
       "      <td>23.250000</td>\n",
       "      <td>41.000000</td>\n",
       "    </tr>\n",
       "    <tr>\n",
       "      <th>MAX</th>\n",
       "      <td>118566.0</td>\n",
       "      <td>81.003745</td>\n",
       "      <td>14.869361</td>\n",
       "      <td>-28.000000</td>\n",
       "      <td>78.000000</td>\n",
       "      <td>85.000000</td>\n",
       "      <td>89.000000</td>\n",
       "      <td>122.000000</td>\n",
       "    </tr>\n",
       "    <tr>\n",
       "      <th>MIN</th>\n",
       "      <td>118572.0</td>\n",
       "      <td>64.273808</td>\n",
       "      <td>14.481498</td>\n",
       "      <td>-37.000000</td>\n",
       "      <td>59.000000</td>\n",
       "      <td>70.000000</td>\n",
       "      <td>74.000000</td>\n",
       "      <td>94.000000</td>\n",
       "    </tr>\n",
       "    <tr>\n",
       "      <th>MEA</th>\n",
       "      <td>118542.0</td>\n",
       "      <td>72.644843</td>\n",
       "      <td>14.211082</td>\n",
       "      <td>-32.000000</td>\n",
       "      <td>69.000000</td>\n",
       "      <td>78.000000</td>\n",
       "      <td>81.000000</td>\n",
       "      <td>104.000000</td>\n",
       "    </tr>\n",
       "    <tr>\n",
       "      <th>SND</th>\n",
       "      <td>5563.0</td>\n",
       "      <td>0.000000</td>\n",
       "      <td>0.000000</td>\n",
       "      <td>0.000000</td>\n",
       "      <td>0.000000</td>\n",
       "      <td>0.000000</td>\n",
       "      <td>0.000000</td>\n",
       "      <td>0.000000</td>\n",
       "    </tr>\n",
       "    <tr>\n",
       "      <th>FT</th>\n",
       "      <td>0.0</td>\n",
       "      <td>NaN</td>\n",
       "      <td>NaN</td>\n",
       "      <td>NaN</td>\n",
       "      <td>NaN</td>\n",
       "      <td>NaN</td>\n",
       "      <td>NaN</td>\n",
       "      <td>NaN</td>\n",
       "    </tr>\n",
       "    <tr>\n",
       "      <th>FB</th>\n",
       "      <td>0.0</td>\n",
       "      <td>NaN</td>\n",
       "      <td>NaN</td>\n",
       "      <td>NaN</td>\n",
       "      <td>NaN</td>\n",
       "      <td>NaN</td>\n",
       "      <td>NaN</td>\n",
       "      <td>NaN</td>\n",
       "    </tr>\n",
       "    <tr>\n",
       "      <th>FTI</th>\n",
       "      <td>0.0</td>\n",
       "      <td>NaN</td>\n",
       "      <td>NaN</td>\n",
       "      <td>NaN</td>\n",
       "      <td>NaN</td>\n",
       "      <td>NaN</td>\n",
       "      <td>NaN</td>\n",
       "      <td>NaN</td>\n",
       "    </tr>\n",
       "    <tr>\n",
       "      <th>ITH</th>\n",
       "      <td>0.0</td>\n",
       "      <td>NaN</td>\n",
       "      <td>NaN</td>\n",
       "      <td>NaN</td>\n",
       "      <td>NaN</td>\n",
       "      <td>NaN</td>\n",
       "      <td>NaN</td>\n",
       "      <td>NaN</td>\n",
       "    </tr>\n",
       "    <tr>\n",
       "      <th>PGT</th>\n",
       "      <td>525.0</td>\n",
       "      <td>12.085333</td>\n",
       "      <td>5.731328</td>\n",
       "      <td>0.000000</td>\n",
       "      <td>8.500000</td>\n",
       "      <td>11.600000</td>\n",
       "      <td>15.000000</td>\n",
       "      <td>23.900000</td>\n",
       "    </tr>\n",
       "    <tr>\n",
       "      <th>SD3</th>\n",
       "      <td>0.0</td>\n",
       "      <td>NaN</td>\n",
       "      <td>NaN</td>\n",
       "      <td>NaN</td>\n",
       "      <td>NaN</td>\n",
       "      <td>NaN</td>\n",
       "      <td>NaN</td>\n",
       "      <td>NaN</td>\n",
       "    </tr>\n",
       "    <tr>\n",
       "      <th>RHX</th>\n",
       "      <td>0.0</td>\n",
       "      <td>NaN</td>\n",
       "      <td>NaN</td>\n",
       "      <td>NaN</td>\n",
       "      <td>NaN</td>\n",
       "      <td>NaN</td>\n",
       "      <td>NaN</td>\n",
       "      <td>NaN</td>\n",
       "    </tr>\n",
       "    <tr>\n",
       "      <th>RHN</th>\n",
       "      <td>0.0</td>\n",
       "      <td>NaN</td>\n",
       "      <td>NaN</td>\n",
       "      <td>NaN</td>\n",
       "      <td>NaN</td>\n",
       "      <td>NaN</td>\n",
       "      <td>NaN</td>\n",
       "      <td>NaN</td>\n",
       "    </tr>\n",
       "    <tr>\n",
       "      <th>RVG</th>\n",
       "      <td>0.0</td>\n",
       "      <td>NaN</td>\n",
       "      <td>NaN</td>\n",
       "      <td>NaN</td>\n",
       "      <td>NaN</td>\n",
       "      <td>NaN</td>\n",
       "      <td>NaN</td>\n",
       "      <td>NaN</td>\n",
       "    </tr>\n",
       "    <tr>\n",
       "      <th>WTE</th>\n",
       "      <td>0.0</td>\n",
       "      <td>NaN</td>\n",
       "      <td>NaN</td>\n",
       "      <td>NaN</td>\n",
       "      <td>NaN</td>\n",
       "      <td>NaN</td>\n",
       "      <td>NaN</td>\n",
       "      <td>NaN</td>\n",
       "    </tr>\n",
       "  </tbody>\n",
       "</table>\n",
       "</div>"
      ],
      "text/plain": [
       "                count          mean           std           min           25%  \\\n",
       "STA          119040.0  29659.435795  20953.209402  10001.000000  11801.000000   \n",
       "WindGustSpd     532.0     37.774534     10.297808     18.520000     29.632000   \n",
       "MaxTemp      119040.0     27.045111      8.717817    -33.333333     25.555556   \n",
       "MinTemp      119040.0     17.789511      8.334572    -38.333333     15.000000   \n",
       "MeanTemp     119040.0     22.411631      8.297982    -35.555556     20.555556   \n",
       "YR           119040.0     43.805284      1.136718     40.000000     43.000000   \n",
       "MO           119040.0      6.726016      3.425561      1.000000      4.000000   \n",
       "DA           119040.0     15.797530      8.794541      1.000000      8.000000   \n",
       "DR              533.0     26.998124     15.221732      2.000000     11.000000   \n",
       "SPD             532.0     20.396617      5.560371     10.000000     16.000000   \n",
       "MAX          118566.0     81.003745     14.869361    -28.000000     78.000000   \n",
       "MIN          118572.0     64.273808     14.481498    -37.000000     59.000000   \n",
       "MEA          118542.0     72.644843     14.211082    -32.000000     69.000000   \n",
       "SND            5563.0      0.000000      0.000000      0.000000      0.000000   \n",
       "FT                0.0           NaN           NaN           NaN           NaN   \n",
       "FB                0.0           NaN           NaN           NaN           NaN   \n",
       "FTI               0.0           NaN           NaN           NaN           NaN   \n",
       "ITH               0.0           NaN           NaN           NaN           NaN   \n",
       "PGT             525.0     12.085333      5.731328      0.000000      8.500000   \n",
       "SD3               0.0           NaN           NaN           NaN           NaN   \n",
       "RHX               0.0           NaN           NaN           NaN           NaN   \n",
       "RHN               0.0           NaN           NaN           NaN           NaN   \n",
       "RVG               0.0           NaN           NaN           NaN           NaN   \n",
       "WTE               0.0           NaN           NaN           NaN           NaN   \n",
       "\n",
       "                      50%           75%           max  \n",
       "STA          22508.000000  33501.000000  82506.000000  \n",
       "WindGustSpd     37.040000     43.059000     75.932000  \n",
       "MaxTemp         29.444444     31.666667     50.000000  \n",
       "MinTemp         21.111111     23.333333     34.444444  \n",
       "MeanTemp        25.555556     27.222222     40.000000  \n",
       "YR              44.000000     45.000000     45.000000  \n",
       "MO               7.000000     10.000000     12.000000  \n",
       "DA              16.000000     23.000000     31.000000  \n",
       "DR              32.000000     34.000000     78.000000  \n",
       "SPD             20.000000     23.250000     41.000000  \n",
       "MAX             85.000000     89.000000    122.000000  \n",
       "MIN             70.000000     74.000000     94.000000  \n",
       "MEA             78.000000     81.000000    104.000000  \n",
       "SND              0.000000      0.000000      0.000000  \n",
       "FT                    NaN           NaN           NaN  \n",
       "FB                    NaN           NaN           NaN  \n",
       "FTI                   NaN           NaN           NaN  \n",
       "ITH                   NaN           NaN           NaN  \n",
       "PGT             11.600000     15.000000     23.900000  \n",
       "SD3                   NaN           NaN           NaN  \n",
       "RHX                   NaN           NaN           NaN  \n",
       "RHN                   NaN           NaN           NaN  \n",
       "RVG                   NaN           NaN           NaN  \n",
       "WTE                   NaN           NaN           NaN  "
      ]
     },
     "execution_count": 4,
     "metadata": {},
     "output_type": "execute_result"
    }
   ],
   "source": [
    "# We can also get a discription of the dataframe:\n",
    "ww2_weath.describe().T"
   ]
  },
  {
   "cell_type": "code",
   "execution_count": 5,
   "metadata": {
    "scrolled": true
   },
   "outputs": [
    {
     "data": {
      "text/plain": [
       "count    119040.000000\n",
       "mean      29659.435795\n",
       "std       20953.209402\n",
       "min       10001.000000\n",
       "25%       11801.000000\n",
       "50%       22508.000000\n",
       "75%       33501.000000\n",
       "max       82506.000000\n",
       "Name: STA, dtype: float64"
      ]
     },
     "execution_count": 5,
     "metadata": {},
     "output_type": "execute_result"
    }
   ],
   "source": [
    "# To get a description of a specific column:\n",
    "ww2_weath['STA'].describe()"
   ]
  },
  {
   "cell_type": "code",
   "execution_count": 6,
   "metadata": {},
   "outputs": [
    {
     "data": {
      "text/plain": [
       "(119040, 31)"
      ]
     },
     "execution_count": 6,
     "metadata": {},
     "output_type": "execute_result"
    }
   ],
   "source": [
    "#We can also see the shape of our dataframe:\n",
    "ww2_weath.shape"
   ]
  },
  {
   "cell_type": "code",
   "execution_count": 7,
   "metadata": {},
   "outputs": [
    {
     "data": {
      "text/plain": [
       "STA                 0\n",
       "Date                0\n",
       "Precip              0\n",
       "WindGustSpd    118508\n",
       "MaxTemp             0\n",
       "MinTemp             0\n",
       "MeanTemp            0\n",
       "Snowfall         1163\n",
       "PoorWeather     84803\n",
       "YR                  0\n",
       "MO                  0\n",
       "DA                  0\n",
       "PRCP             1932\n",
       "DR             118507\n",
       "SPD            118508\n",
       "MAX               474\n",
       "MIN               468\n",
       "MEA               498\n",
       "SNF              1163\n",
       "SND            113477\n",
       "FT             119040\n",
       "FB             119040\n",
       "FTI            119040\n",
       "ITH            119040\n",
       "PGT            118515\n",
       "TSHDSBRSGF      84803\n",
       "SD3            119040\n",
       "RHX            119040\n",
       "RHN            119040\n",
       "RVG            119040\n",
       "WTE            119040\n",
       "dtype: int64"
      ]
     },
     "execution_count": 7,
     "metadata": {},
     "output_type": "execute_result"
    }
   ],
   "source": [
    "# It looks like there are nulls in the dataframe.  How can we find how many nulls exist?\n",
    "ww2_weath.isnull().sum(axis = 0) # gives the number of nulls in each column"
   ]
  },
  {
   "cell_type": "markdown",
   "metadata": {},
   "source": [
    "### 2.1 Many of these columns have all null values.  We should drop these columns:"
   ]
  },
  {
   "cell_type": "code",
   "execution_count": 8,
   "metadata": {},
   "outputs": [],
   "source": [
    "ww2_weath.drop(['FT'],axis=1,inplace=True)\n",
    "ww2_weath.drop(['FB'],axis=1,inplace=True)\n",
    "ww2_weath.drop(['FTI'],axis=1,inplace=True)\n",
    "ww2_weath.drop(['ITH'],axis=1,inplace=True)\n",
    "ww2_weath.drop(['SD3'],axis=1,inplace=True)\n",
    "ww2_weath.drop(['RHX'],axis=1,inplace=True)\n",
    "ww2_weath.drop(['RHN'],axis=1,inplace=True)\n",
    "ww2_weath.drop(['RVG'],axis=1,inplace=True)\n",
    "ww2_weath.drop(['WTE'],axis=1,inplace=True)"
   ]
  },
  {
   "cell_type": "code",
   "execution_count": 9,
   "metadata": {
    "scrolled": true
   },
   "outputs": [
    {
     "data": {
      "text/plain": [
       "0    7\n",
       "1    7\n",
       "2    7\n",
       "3    7\n",
       "4    7\n",
       "5    7\n",
       "6    7\n",
       "7    7\n",
       "8    7\n",
       "9    7\n",
       "dtype: int64"
      ]
     },
     "execution_count": 9,
     "metadata": {},
     "output_type": "execute_result"
    }
   ],
   "source": [
    "ww2_weath.isnull().sum(axis = 1)[0:10] # gives the number of nulls in first 10 rows"
   ]
  },
  {
   "cell_type": "markdown",
   "metadata": {},
   "source": [
    "### 2.2 Convert variables that are numeric into categorical and vice versa if need be."
   ]
  },
  {
   "cell_type": "code",
   "execution_count": 10,
   "metadata": {
    "scrolled": true
   },
   "outputs": [
    {
     "data": {
      "text/plain": [
       "array(['1.016', '0', '2.54', 'T', '3.556', '0.508', '0.254', '1.778',\n",
       "       '3.302', '0.762'], dtype=object)"
      ]
     },
     "execution_count": 10,
     "metadata": {},
     "output_type": "execute_result"
    }
   ],
   "source": [
    "# Let's check the unique values in the \"Precip\" column.  Why is this listed as a string on Kaggle?\n",
    "ww2_weath.Precip.unique()[0:10]"
   ]
  },
  {
   "cell_type": "markdown",
   "metadata": {},
   "source": [
    "#### We can see in the \"Precip\" column, the value \"T\" exists.  If we try to conver this to a numeric field, python will fail:\n",
    "This will be true for all string fields in the dataset"
   ]
  },
  {
   "cell_type": "code",
   "execution_count": 11,
   "metadata": {},
   "outputs": [
    {
     "data": {
      "text/plain": [
       "\"ValueError: could not convert string to float: 'T' \""
      ]
     },
     "execution_count": 11,
     "metadata": {},
     "output_type": "execute_result"
    }
   ],
   "source": [
    "#ww2_weath['Precip'].astype(float)\n",
    "'''ValueError: could not convert string to float: 'T' '''"
   ]
  },
  {
   "cell_type": "code",
   "execution_count": 12,
   "metadata": {},
   "outputs": [
    {
     "data": {
      "text/plain": [
       "array([   nan, 29.632, 59.264, 50.004, 40.744, 51.856, 44.448, 57.412,\n",
       "       53.708, 42.596, 62.968, 68.524, 61.116, 46.3  , 38.892, 55.56 ,\n",
       "       31.484, 37.04 , 74.08 , 64.82 , 48.152, 35.188, 27.78 , 33.336,\n",
       "       20.372, 22.224, 24.076, 25.928, 75.932, 66.672, 18.52 ])"
      ]
     },
     "execution_count": 12,
     "metadata": {},
     "output_type": "execute_result"
    }
   ],
   "source": [
    "#Let's look at WindGustSpd\n",
    "ww2_weath.WindGustSpd.unique()"
   ]
  },
  {
   "cell_type": "code",
   "execution_count": 13,
   "metadata": {},
   "outputs": [],
   "source": [
    "#WindGustSpd does contain nulls, which allows this column to be converted to a float\n",
    "ww2_weath['WindGustSpd'] = ww2_weath['WindGustSpd'].astype(float)"
   ]
  },
  {
   "cell_type": "code",
   "execution_count": 14,
   "metadata": {
    "scrolled": true
   },
   "outputs": [
    {
     "data": {
      "text/plain": [
       "array(['0.04', '0', '0.1', 'T', '0.14', '0.02', '0.01', '0.07', '0.13',\n",
       "       '0.03'], dtype=object)"
      ]
     },
     "execution_count": 14,
     "metadata": {},
     "output_type": "execute_result"
    }
   ],
   "source": [
    "#Let's look at PRCP\n",
    "ww2_weath.PRCP.unique()[0:10]"
   ]
  },
  {
   "cell_type": "code",
   "execution_count": 15,
   "metadata": {
    "scrolled": true
   },
   "outputs": [],
   "source": [
    "# DR and SPD fields\n",
    "ww2_weath['DR'] = ww2_weath['DR'].astype(float)\n",
    "ww2_weath['SPD'] = ww2_weath['SPD'].astype(float)"
   ]
  },
  {
   "cell_type": "code",
   "execution_count": 16,
   "metadata": {},
   "outputs": [],
   "source": [
    "ww2_weath['SND'] = ww2_weath['SND'].astype(float)\n",
    "ww2_weath['PGT'] = ww2_weath['PGT'].astype(float)"
   ]
  },
  {
   "cell_type": "code",
   "execution_count": 17,
   "metadata": {},
   "outputs": [
    {
     "data": {
      "text/html": [
       "<div>\n",
       "<style scoped>\n",
       "    .dataframe tbody tr th:only-of-type {\n",
       "        vertical-align: middle;\n",
       "    }\n",
       "\n",
       "    .dataframe tbody tr th {\n",
       "        vertical-align: top;\n",
       "    }\n",
       "\n",
       "    .dataframe thead th {\n",
       "        text-align: right;\n",
       "    }\n",
       "</style>\n",
       "<table border=\"1\" class=\"dataframe\">\n",
       "  <thead>\n",
       "    <tr style=\"text-align: right;\">\n",
       "      <th></th>\n",
       "      <th>STA</th>\n",
       "      <th>Date</th>\n",
       "      <th>Precip</th>\n",
       "      <th>WindGustSpd</th>\n",
       "      <th>MaxTemp</th>\n",
       "      <th>MinTemp</th>\n",
       "      <th>MeanTemp</th>\n",
       "      <th>Snowfall</th>\n",
       "      <th>PoorWeather</th>\n",
       "      <th>YR</th>\n",
       "      <th>MO</th>\n",
       "      <th>DA</th>\n",
       "      <th>PRCP</th>\n",
       "      <th>DR</th>\n",
       "      <th>SPD</th>\n",
       "      <th>MAX</th>\n",
       "      <th>MIN</th>\n",
       "      <th>MEA</th>\n",
       "      <th>SNF</th>\n",
       "      <th>SND</th>\n",
       "      <th>PGT</th>\n",
       "      <th>TSHDSBRSGF</th>\n",
       "    </tr>\n",
       "  </thead>\n",
       "  <tbody>\n",
       "    <tr>\n",
       "      <th>0</th>\n",
       "      <td>10001</td>\n",
       "      <td>1942-7-1</td>\n",
       "      <td>1.016</td>\n",
       "      <td>NaN</td>\n",
       "      <td>25.555556</td>\n",
       "      <td>22.222222</td>\n",
       "      <td>23.888889</td>\n",
       "      <td>0</td>\n",
       "      <td>NaN</td>\n",
       "      <td>42</td>\n",
       "      <td>7</td>\n",
       "      <td>1</td>\n",
       "      <td>0.04</td>\n",
       "      <td>NaN</td>\n",
       "      <td>NaN</td>\n",
       "      <td>78.0</td>\n",
       "      <td>72.0</td>\n",
       "      <td>75.0</td>\n",
       "      <td>0</td>\n",
       "      <td>NaN</td>\n",
       "      <td>NaN</td>\n",
       "      <td>NaN</td>\n",
       "    </tr>\n",
       "    <tr>\n",
       "      <th>1</th>\n",
       "      <td>10001</td>\n",
       "      <td>1942-7-2</td>\n",
       "      <td>0</td>\n",
       "      <td>NaN</td>\n",
       "      <td>28.888889</td>\n",
       "      <td>21.666667</td>\n",
       "      <td>25.555556</td>\n",
       "      <td>0</td>\n",
       "      <td>NaN</td>\n",
       "      <td>42</td>\n",
       "      <td>7</td>\n",
       "      <td>2</td>\n",
       "      <td>0</td>\n",
       "      <td>NaN</td>\n",
       "      <td>NaN</td>\n",
       "      <td>84.0</td>\n",
       "      <td>71.0</td>\n",
       "      <td>78.0</td>\n",
       "      <td>0</td>\n",
       "      <td>NaN</td>\n",
       "      <td>NaN</td>\n",
       "      <td>NaN</td>\n",
       "    </tr>\n",
       "    <tr>\n",
       "      <th>2</th>\n",
       "      <td>10001</td>\n",
       "      <td>1942-7-3</td>\n",
       "      <td>2.54</td>\n",
       "      <td>NaN</td>\n",
       "      <td>26.111111</td>\n",
       "      <td>22.222222</td>\n",
       "      <td>24.444444</td>\n",
       "      <td>0</td>\n",
       "      <td>NaN</td>\n",
       "      <td>42</td>\n",
       "      <td>7</td>\n",
       "      <td>3</td>\n",
       "      <td>0.1</td>\n",
       "      <td>NaN</td>\n",
       "      <td>NaN</td>\n",
       "      <td>79.0</td>\n",
       "      <td>72.0</td>\n",
       "      <td>76.0</td>\n",
       "      <td>0</td>\n",
       "      <td>NaN</td>\n",
       "      <td>NaN</td>\n",
       "      <td>NaN</td>\n",
       "    </tr>\n",
       "  </tbody>\n",
       "</table>\n",
       "</div>"
      ],
      "text/plain": [
       "     STA      Date Precip  WindGustSpd    MaxTemp    MinTemp   MeanTemp  \\\n",
       "0  10001  1942-7-1  1.016          NaN  25.555556  22.222222  23.888889   \n",
       "1  10001  1942-7-2      0          NaN  28.888889  21.666667  25.555556   \n",
       "2  10001  1942-7-3   2.54          NaN  26.111111  22.222222  24.444444   \n",
       "\n",
       "  Snowfall PoorWeather  YR  MO  DA  PRCP  DR  SPD   MAX   MIN   MEA SNF  SND  \\\n",
       "0        0         NaN  42   7   1  0.04 NaN  NaN  78.0  72.0  75.0   0  NaN   \n",
       "1        0         NaN  42   7   2     0 NaN  NaN  84.0  71.0  78.0   0  NaN   \n",
       "2        0         NaN  42   7   3   0.1 NaN  NaN  79.0  72.0  76.0   0  NaN   \n",
       "\n",
       "   PGT TSHDSBRSGF  \n",
       "0  NaN        NaN  \n",
       "1  NaN        NaN  \n",
       "2  NaN        NaN  "
      ]
     },
     "execution_count": 17,
     "metadata": {},
     "output_type": "execute_result"
    }
   ],
   "source": [
    "ww2_weath.head(3)"
   ]
  },
  {
   "cell_type": "code",
   "execution_count": 18,
   "metadata": {},
   "outputs": [
    {
     "data": {
      "text/html": [
       "<div>\n",
       "<style scoped>\n",
       "    .dataframe tbody tr th:only-of-type {\n",
       "        vertical-align: middle;\n",
       "    }\n",
       "\n",
       "    .dataframe tbody tr th {\n",
       "        vertical-align: top;\n",
       "    }\n",
       "\n",
       "    .dataframe thead th {\n",
       "        text-align: right;\n",
       "    }\n",
       "</style>\n",
       "<table border=\"1\" class=\"dataframe\">\n",
       "  <thead>\n",
       "    <tr style=\"text-align: right;\">\n",
       "      <th></th>\n",
       "      <th>count</th>\n",
       "      <th>mean</th>\n",
       "      <th>std</th>\n",
       "      <th>min</th>\n",
       "      <th>25%</th>\n",
       "      <th>50%</th>\n",
       "      <th>75%</th>\n",
       "      <th>max</th>\n",
       "    </tr>\n",
       "  </thead>\n",
       "  <tbody>\n",
       "    <tr>\n",
       "      <th>STA</th>\n",
       "      <td>119040.0</td>\n",
       "      <td>29659.435795</td>\n",
       "      <td>20953.209402</td>\n",
       "      <td>10001.000000</td>\n",
       "      <td>11801.000000</td>\n",
       "      <td>22508.000000</td>\n",
       "      <td>33501.000000</td>\n",
       "      <td>82506.000000</td>\n",
       "    </tr>\n",
       "    <tr>\n",
       "      <th>WindGustSpd</th>\n",
       "      <td>532.0</td>\n",
       "      <td>37.774534</td>\n",
       "      <td>10.297808</td>\n",
       "      <td>18.520000</td>\n",
       "      <td>29.632000</td>\n",
       "      <td>37.040000</td>\n",
       "      <td>43.059000</td>\n",
       "      <td>75.932000</td>\n",
       "    </tr>\n",
       "    <tr>\n",
       "      <th>MaxTemp</th>\n",
       "      <td>119040.0</td>\n",
       "      <td>27.045111</td>\n",
       "      <td>8.717817</td>\n",
       "      <td>-33.333333</td>\n",
       "      <td>25.555556</td>\n",
       "      <td>29.444444</td>\n",
       "      <td>31.666667</td>\n",
       "      <td>50.000000</td>\n",
       "    </tr>\n",
       "    <tr>\n",
       "      <th>MinTemp</th>\n",
       "      <td>119040.0</td>\n",
       "      <td>17.789511</td>\n",
       "      <td>8.334572</td>\n",
       "      <td>-38.333333</td>\n",
       "      <td>15.000000</td>\n",
       "      <td>21.111111</td>\n",
       "      <td>23.333333</td>\n",
       "      <td>34.444444</td>\n",
       "    </tr>\n",
       "    <tr>\n",
       "      <th>MeanTemp</th>\n",
       "      <td>119040.0</td>\n",
       "      <td>22.411631</td>\n",
       "      <td>8.297982</td>\n",
       "      <td>-35.555556</td>\n",
       "      <td>20.555556</td>\n",
       "      <td>25.555556</td>\n",
       "      <td>27.222222</td>\n",
       "      <td>40.000000</td>\n",
       "    </tr>\n",
       "    <tr>\n",
       "      <th>YR</th>\n",
       "      <td>119040.0</td>\n",
       "      <td>43.805284</td>\n",
       "      <td>1.136718</td>\n",
       "      <td>40.000000</td>\n",
       "      <td>43.000000</td>\n",
       "      <td>44.000000</td>\n",
       "      <td>45.000000</td>\n",
       "      <td>45.000000</td>\n",
       "    </tr>\n",
       "    <tr>\n",
       "      <th>MO</th>\n",
       "      <td>119040.0</td>\n",
       "      <td>6.726016</td>\n",
       "      <td>3.425561</td>\n",
       "      <td>1.000000</td>\n",
       "      <td>4.000000</td>\n",
       "      <td>7.000000</td>\n",
       "      <td>10.000000</td>\n",
       "      <td>12.000000</td>\n",
       "    </tr>\n",
       "    <tr>\n",
       "      <th>DA</th>\n",
       "      <td>119040.0</td>\n",
       "      <td>15.797530</td>\n",
       "      <td>8.794541</td>\n",
       "      <td>1.000000</td>\n",
       "      <td>8.000000</td>\n",
       "      <td>16.000000</td>\n",
       "      <td>23.000000</td>\n",
       "      <td>31.000000</td>\n",
       "    </tr>\n",
       "    <tr>\n",
       "      <th>DR</th>\n",
       "      <td>533.0</td>\n",
       "      <td>26.998124</td>\n",
       "      <td>15.221732</td>\n",
       "      <td>2.000000</td>\n",
       "      <td>11.000000</td>\n",
       "      <td>32.000000</td>\n",
       "      <td>34.000000</td>\n",
       "      <td>78.000000</td>\n",
       "    </tr>\n",
       "    <tr>\n",
       "      <th>SPD</th>\n",
       "      <td>532.0</td>\n",
       "      <td>20.396617</td>\n",
       "      <td>5.560371</td>\n",
       "      <td>10.000000</td>\n",
       "      <td>16.000000</td>\n",
       "      <td>20.000000</td>\n",
       "      <td>23.250000</td>\n",
       "      <td>41.000000</td>\n",
       "    </tr>\n",
       "    <tr>\n",
       "      <th>MAX</th>\n",
       "      <td>118566.0</td>\n",
       "      <td>81.003745</td>\n",
       "      <td>14.869361</td>\n",
       "      <td>-28.000000</td>\n",
       "      <td>78.000000</td>\n",
       "      <td>85.000000</td>\n",
       "      <td>89.000000</td>\n",
       "      <td>122.000000</td>\n",
       "    </tr>\n",
       "    <tr>\n",
       "      <th>MIN</th>\n",
       "      <td>118572.0</td>\n",
       "      <td>64.273808</td>\n",
       "      <td>14.481498</td>\n",
       "      <td>-37.000000</td>\n",
       "      <td>59.000000</td>\n",
       "      <td>70.000000</td>\n",
       "      <td>74.000000</td>\n",
       "      <td>94.000000</td>\n",
       "    </tr>\n",
       "    <tr>\n",
       "      <th>MEA</th>\n",
       "      <td>118542.0</td>\n",
       "      <td>72.644843</td>\n",
       "      <td>14.211082</td>\n",
       "      <td>-32.000000</td>\n",
       "      <td>69.000000</td>\n",
       "      <td>78.000000</td>\n",
       "      <td>81.000000</td>\n",
       "      <td>104.000000</td>\n",
       "    </tr>\n",
       "    <tr>\n",
       "      <th>SND</th>\n",
       "      <td>5563.0</td>\n",
       "      <td>0.000000</td>\n",
       "      <td>0.000000</td>\n",
       "      <td>0.000000</td>\n",
       "      <td>0.000000</td>\n",
       "      <td>0.000000</td>\n",
       "      <td>0.000000</td>\n",
       "      <td>0.000000</td>\n",
       "    </tr>\n",
       "    <tr>\n",
       "      <th>PGT</th>\n",
       "      <td>525.0</td>\n",
       "      <td>12.085333</td>\n",
       "      <td>5.731328</td>\n",
       "      <td>0.000000</td>\n",
       "      <td>8.500000</td>\n",
       "      <td>11.600000</td>\n",
       "      <td>15.000000</td>\n",
       "      <td>23.900000</td>\n",
       "    </tr>\n",
       "  </tbody>\n",
       "</table>\n",
       "</div>"
      ],
      "text/plain": [
       "                count          mean           std           min           25%  \\\n",
       "STA          119040.0  29659.435795  20953.209402  10001.000000  11801.000000   \n",
       "WindGustSpd     532.0     37.774534     10.297808     18.520000     29.632000   \n",
       "MaxTemp      119040.0     27.045111      8.717817    -33.333333     25.555556   \n",
       "MinTemp      119040.0     17.789511      8.334572    -38.333333     15.000000   \n",
       "MeanTemp     119040.0     22.411631      8.297982    -35.555556     20.555556   \n",
       "YR           119040.0     43.805284      1.136718     40.000000     43.000000   \n",
       "MO           119040.0      6.726016      3.425561      1.000000      4.000000   \n",
       "DA           119040.0     15.797530      8.794541      1.000000      8.000000   \n",
       "DR              533.0     26.998124     15.221732      2.000000     11.000000   \n",
       "SPD             532.0     20.396617      5.560371     10.000000     16.000000   \n",
       "MAX          118566.0     81.003745     14.869361    -28.000000     78.000000   \n",
       "MIN          118572.0     64.273808     14.481498    -37.000000     59.000000   \n",
       "MEA          118542.0     72.644843     14.211082    -32.000000     69.000000   \n",
       "SND            5563.0      0.000000      0.000000      0.000000      0.000000   \n",
       "PGT             525.0     12.085333      5.731328      0.000000      8.500000   \n",
       "\n",
       "                      50%           75%           max  \n",
       "STA          22508.000000  33501.000000  82506.000000  \n",
       "WindGustSpd     37.040000     43.059000     75.932000  \n",
       "MaxTemp         29.444444     31.666667     50.000000  \n",
       "MinTemp         21.111111     23.333333     34.444444  \n",
       "MeanTemp        25.555556     27.222222     40.000000  \n",
       "YR              44.000000     45.000000     45.000000  \n",
       "MO               7.000000     10.000000     12.000000  \n",
       "DA              16.000000     23.000000     31.000000  \n",
       "DR              32.000000     34.000000     78.000000  \n",
       "SPD             20.000000     23.250000     41.000000  \n",
       "MAX             85.000000     89.000000    122.000000  \n",
       "MIN             70.000000     74.000000     94.000000  \n",
       "MEA             78.000000     81.000000    104.000000  \n",
       "SND              0.000000      0.000000      0.000000  \n",
       "PGT             11.600000     15.000000     23.900000  "
      ]
     },
     "execution_count": 18,
     "metadata": {},
     "output_type": "execute_result"
    }
   ],
   "source": [
    "ww2_weath.describe().T"
   ]
  },
  {
   "cell_type": "code",
   "execution_count": 19,
   "metadata": {},
   "outputs": [],
   "source": [
    "# We can see that STA (weather station), is stored as a numerical variable but should be a string.  We can convert this field\n",
    "ww2_weath['STA'] = ww2_weath['STA'].astype(str)"
   ]
  },
  {
   "cell_type": "code",
   "execution_count": 20,
   "metadata": {},
   "outputs": [
    {
     "data": {
      "text/plain": [
       "array([nan, '1', '1     1', '1 1', '1     1  1', '1  1', '1        1',\n",
       "       '0', '1   1 1', '1    1', '1     0', '1000', '1001', '100000',\n",
       "       '1000001000', '101000', '101001', '1000001001', '1000101001',\n",
       "       '100001', '1000000000', '1000101000', '1010001000', '1000100000',\n",
       "       '1000100001', '1010001001', '10001001', '11', '11 1', '11    1',\n",
       "       '1100000', '1 1  1', '1 0  1', '1 0', '1   1 1  1', '1000000',\n",
       "       '1101000', '1101001', '1   1'], dtype=object)"
      ]
     },
     "execution_count": 20,
     "metadata": {},
     "output_type": "execute_result"
    }
   ],
   "source": [
    "ww2_weath.PoorWeather.unique()"
   ]
  },
  {
   "cell_type": "markdown",
   "metadata": {},
   "source": [
    "### 2.3 We can see that there are many different values in this field.  If we had prior knowledge of what these values could mean, we could impute the correct values.  For now, we will drop this column."
   ]
  },
  {
   "cell_type": "code",
   "execution_count": 21,
   "metadata": {},
   "outputs": [],
   "source": [
    "ww2_weath.drop(['PoorWeather'],axis=1,inplace=True)"
   ]
  },
  {
   "cell_type": "code",
   "execution_count": 22,
   "metadata": {},
   "outputs": [
    {
     "data": {
      "text/plain": [
       "STA             object\n",
       "Date            object\n",
       "Precip          object\n",
       "WindGustSpd    float64\n",
       "MaxTemp        float64\n",
       "MinTemp        float64\n",
       "MeanTemp       float64\n",
       "Snowfall        object\n",
       "YR               int64\n",
       "MO               int64\n",
       "DA               int64\n",
       "PRCP            object\n",
       "DR             float64\n",
       "SPD            float64\n",
       "MAX            float64\n",
       "MIN            float64\n",
       "MEA            float64\n",
       "SNF             object\n",
       "SND            float64\n",
       "PGT            float64\n",
       "TSHDSBRSGF      object\n",
       "dtype: object"
      ]
     },
     "execution_count": 22,
     "metadata": {},
     "output_type": "execute_result"
    }
   ],
   "source": [
    "# Let's pause and take a look at our remaining variables and the datatypes:\n",
    "ww2_weath.dtypes"
   ]
  },
  {
   "cell_type": "markdown",
   "metadata": {},
   "source": [
    "### 2.4 Replace '#VALUE!' with null"
   ]
  },
  {
   "cell_type": "code",
   "execution_count": 23,
   "metadata": {},
   "outputs": [
    {
     "data": {
      "text/plain": [
       "array(['0', nan, '22.86', '33.02', '30.48', '2.54', '5.08', '10.16',\n",
       "       '7.62', '20.32', '15.24', '17.78', '12.7', '25.4', '27.94',\n",
       "       '43.18', '38.1', '45.72', '53.34', '58.42', '66.04', '76.2',\n",
       "       '81.28', '73.66', '63.5', '50.8', '48.26', '60.96', '55.88',\n",
       "       '35.56', '78.74', '40.64', '86.36', '83.82', '68.58', '#VALUE!'],\n",
       "      dtype=object)"
      ]
     },
     "execution_count": 23,
     "metadata": {},
     "output_type": "execute_result"
    }
   ],
   "source": [
    "# We can see in our Snowfall column #VALUE! exists as a unique observation.  A safe way to handle this value is replacing it with null\n",
    "ww2_weath.Snowfall.unique()"
   ]
  },
  {
   "cell_type": "code",
   "execution_count": 24,
   "metadata": {},
   "outputs": [
    {
     "data": {
      "text/plain": [
       "array(['0', nan, '22.86', '33.02', '30.48', '2.54', '5.08', '10.16',\n",
       "       '7.62', '20.32', '15.24', '17.78', '12.7', '25.4', '27.94',\n",
       "       '43.18', '38.1', '45.72', '53.34', '58.42', '66.04', '76.2',\n",
       "       '81.28', '73.66', '63.5', '50.8', '48.26', '60.96', '55.88',\n",
       "       '35.56', '78.74', '40.64', '86.36', '83.82', '68.58'], dtype=object)"
      ]
     },
     "execution_count": 24,
     "metadata": {},
     "output_type": "execute_result"
    }
   ],
   "source": [
    "ww2_weath['Snowfall'] = ww2_weath['Snowfall'].replace('#VALUE!', None)\n",
    "ww2_weath.Snowfall.unique()"
   ]
  },
  {
   "cell_type": "code",
   "execution_count": 25,
   "metadata": {},
   "outputs": [
    {
     "data": {
      "text/html": [
       "<div>\n",
       "<style scoped>\n",
       "    .dataframe tbody tr th:only-of-type {\n",
       "        vertical-align: middle;\n",
       "    }\n",
       "\n",
       "    .dataframe tbody tr th {\n",
       "        vertical-align: top;\n",
       "    }\n",
       "\n",
       "    .dataframe thead th {\n",
       "        text-align: right;\n",
       "    }\n",
       "</style>\n",
       "<table border=\"1\" class=\"dataframe\">\n",
       "  <thead>\n",
       "    <tr style=\"text-align: right;\">\n",
       "      <th></th>\n",
       "      <th>STA</th>\n",
       "      <th>Date</th>\n",
       "      <th>Precip</th>\n",
       "      <th>WindGustSpd</th>\n",
       "      <th>MaxTemp</th>\n",
       "      <th>MinTemp</th>\n",
       "      <th>MeanTemp</th>\n",
       "      <th>Snowfall</th>\n",
       "      <th>YR</th>\n",
       "      <th>MO</th>\n",
       "      <th>DA</th>\n",
       "      <th>PRCP</th>\n",
       "      <th>DR</th>\n",
       "      <th>SPD</th>\n",
       "      <th>MAX</th>\n",
       "      <th>MIN</th>\n",
       "      <th>MEA</th>\n",
       "      <th>SNF</th>\n",
       "      <th>SND</th>\n",
       "      <th>PGT</th>\n",
       "      <th>TSHDSBRSGF</th>\n",
       "    </tr>\n",
       "  </thead>\n",
       "  <tbody>\n",
       "    <tr>\n",
       "      <th>0</th>\n",
       "      <td>10001</td>\n",
       "      <td>1942-7-1</td>\n",
       "      <td>1.016</td>\n",
       "      <td>NaN</td>\n",
       "      <td>25.555556</td>\n",
       "      <td>22.222222</td>\n",
       "      <td>23.888889</td>\n",
       "      <td>0.0</td>\n",
       "      <td>42</td>\n",
       "      <td>7</td>\n",
       "      <td>1</td>\n",
       "      <td>0.04</td>\n",
       "      <td>NaN</td>\n",
       "      <td>NaN</td>\n",
       "      <td>78.0</td>\n",
       "      <td>72.0</td>\n",
       "      <td>75.0</td>\n",
       "      <td>0</td>\n",
       "      <td>NaN</td>\n",
       "      <td>NaN</td>\n",
       "      <td>NaN</td>\n",
       "    </tr>\n",
       "    <tr>\n",
       "      <th>1</th>\n",
       "      <td>10001</td>\n",
       "      <td>1942-7-2</td>\n",
       "      <td>0</td>\n",
       "      <td>NaN</td>\n",
       "      <td>28.888889</td>\n",
       "      <td>21.666667</td>\n",
       "      <td>25.555556</td>\n",
       "      <td>0.0</td>\n",
       "      <td>42</td>\n",
       "      <td>7</td>\n",
       "      <td>2</td>\n",
       "      <td>0</td>\n",
       "      <td>NaN</td>\n",
       "      <td>NaN</td>\n",
       "      <td>84.0</td>\n",
       "      <td>71.0</td>\n",
       "      <td>78.0</td>\n",
       "      <td>0</td>\n",
       "      <td>NaN</td>\n",
       "      <td>NaN</td>\n",
       "      <td>NaN</td>\n",
       "    </tr>\n",
       "    <tr>\n",
       "      <th>2</th>\n",
       "      <td>10001</td>\n",
       "      <td>1942-7-3</td>\n",
       "      <td>2.54</td>\n",
       "      <td>NaN</td>\n",
       "      <td>26.111111</td>\n",
       "      <td>22.222222</td>\n",
       "      <td>24.444444</td>\n",
       "      <td>0.0</td>\n",
       "      <td>42</td>\n",
       "      <td>7</td>\n",
       "      <td>3</td>\n",
       "      <td>0.1</td>\n",
       "      <td>NaN</td>\n",
       "      <td>NaN</td>\n",
       "      <td>79.0</td>\n",
       "      <td>72.0</td>\n",
       "      <td>76.0</td>\n",
       "      <td>0</td>\n",
       "      <td>NaN</td>\n",
       "      <td>NaN</td>\n",
       "      <td>NaN</td>\n",
       "    </tr>\n",
       "  </tbody>\n",
       "</table>\n",
       "</div>"
      ],
      "text/plain": [
       "     STA      Date Precip  WindGustSpd    MaxTemp    MinTemp   MeanTemp  \\\n",
       "0  10001  1942-7-1  1.016          NaN  25.555556  22.222222  23.888889   \n",
       "1  10001  1942-7-2      0          NaN  28.888889  21.666667  25.555556   \n",
       "2  10001  1942-7-3   2.54          NaN  26.111111  22.222222  24.444444   \n",
       "\n",
       "   Snowfall  YR  MO  DA  PRCP  DR  SPD   MAX   MIN   MEA SNF  SND  PGT  \\\n",
       "0       0.0  42   7   1  0.04 NaN  NaN  78.0  72.0  75.0   0  NaN  NaN   \n",
       "1       0.0  42   7   2     0 NaN  NaN  84.0  71.0  78.0   0  NaN  NaN   \n",
       "2       0.0  42   7   3   0.1 NaN  NaN  79.0  72.0  76.0   0  NaN  NaN   \n",
       "\n",
       "  TSHDSBRSGF  \n",
       "0        NaN  \n",
       "1        NaN  \n",
       "2        NaN  "
      ]
     },
     "execution_count": 25,
     "metadata": {},
     "output_type": "execute_result"
    }
   ],
   "source": [
    "ww2_weath['Snowfall'] = ww2_weath['Snowfall'].astype(float)\n",
    "ww2_weath.head(3)"
   ]
  },
  {
   "cell_type": "markdown",
   "metadata": {},
   "source": [
    "### 2.5 Throw out observations"
   ]
  },
  {
   "cell_type": "code",
   "execution_count": 26,
   "metadata": {
    "scrolled": false
   },
   "outputs": [
    {
     "data": {
      "text/plain": [
       "0        64267\n",
       "T        16753\n",
       "0.254     3389\n",
       "0.508     2909\n",
       "0.762     2015\n",
       "1.016     1639\n",
       "1.27      1451\n",
       "1.524     1233\n",
       "2.032     1059\n",
       "1.778      986\n",
       "Name: Precip, dtype: int64"
      ]
     },
     "execution_count": 26,
     "metadata": {},
     "output_type": "execute_result"
    }
   ],
   "source": [
    "# Precip, PRCP, and SNF all have a value, \"T\".  If this value is not prevalent, we could explor throwing out these observations:\n",
    "ww2_weath.Precip.value_counts()[0:10]"
   ]
  },
  {
   "cell_type": "code",
   "execution_count": 27,
   "metadata": {
    "scrolled": true
   },
   "outputs": [
    {
     "data": {
      "text/plain": [
       "0       62335\n",
       "T       16753\n",
       "0.01     3389\n",
       "0.02     2909\n",
       "0.03     2015\n",
       "0.04     1639\n",
       "0.05     1451\n",
       "0.06     1233\n",
       "0.08     1059\n",
       "0.07      986\n",
       "Name: PRCP, dtype: int64"
      ]
     },
     "execution_count": 27,
     "metadata": {},
     "output_type": "execute_result"
    }
   ],
   "source": [
    "ww2_weath.PRCP.value_counts()[0:10]"
   ]
  },
  {
   "cell_type": "code",
   "execution_count": 28,
   "metadata": {},
   "outputs": [
    {
     "data": {
      "text/plain": [
       "0      115690\n",
       "0.2       534\n",
       "0.1       339\n",
       "0.3       330\n",
       "0.4       205\n",
       "0.5        92\n",
       "0.8        83\n",
       "0.7        78\n",
       "0.6        74\n",
       "0.9        69\n",
       "Name: SNF, dtype: int64"
      ]
     },
     "execution_count": 28,
     "metadata": {},
     "output_type": "execute_result"
    }
   ],
   "source": [
    "ww2_weath.SNF.value_counts()[0:10]"
   ]
  },
  {
   "cell_type": "code",
   "execution_count": 29,
   "metadata": {},
   "outputs": [],
   "source": [
    "# SNF only has 44 observations with the value of 'T'.  It's save to say we can throw these observations out if we don't know what\n",
    "# 'T' represents\n",
    "ww2_weath = ww2_weath[(ww2_weath.SNF) != 'T']\n",
    "ww2_weath['SNF'] = ww2_weath['SNF'].astype(float)"
   ]
  },
  {
   "cell_type": "markdown",
   "metadata": {},
   "source": [
    "## 3. Check the shape of our remaining continuous variables:"
   ]
  },
  {
   "cell_type": "code",
   "execution_count": 30,
   "metadata": {},
   "outputs": [],
   "source": [
    "import matplotlib.pyplot as plt\n",
    "import numpy as np\n",
    "import math"
   ]
  },
  {
   "cell_type": "code",
   "execution_count": 31,
   "metadata": {},
   "outputs": [
    {
     "data": {
      "text/plain": [
       "STA             object\n",
       "Date            object\n",
       "Precip          object\n",
       "WindGustSpd    float64\n",
       "MaxTemp        float64\n",
       "MinTemp        float64\n",
       "MeanTemp       float64\n",
       "Snowfall       float64\n",
       "YR               int64\n",
       "MO               int64\n",
       "DA               int64\n",
       "PRCP            object\n",
       "DR             float64\n",
       "SPD            float64\n",
       "MAX            float64\n",
       "MIN            float64\n",
       "MEA            float64\n",
       "SNF            float64\n",
       "SND            float64\n",
       "PGT            float64\n",
       "TSHDSBRSGF      object\n",
       "dtype: object"
      ]
     },
     "execution_count": 31,
     "metadata": {},
     "output_type": "execute_result"
    }
   ],
   "source": [
    "ww2_weath.dtypes"
   ]
  },
  {
   "cell_type": "code",
   "execution_count": 32,
   "metadata": {},
   "outputs": [
    {
     "data": {
      "text/plain": [
       "STA                 0\n",
       "Date                0\n",
       "Precip              0\n",
       "WindGustSpd    118464\n",
       "MaxTemp             0\n",
       "MinTemp             0\n",
       "MeanTemp            0\n",
       "Snowfall         1163\n",
       "YR                  0\n",
       "MO                  0\n",
       "DA                  0\n",
       "PRCP             1932\n",
       "DR             118463\n",
       "SPD            118464\n",
       "MAX               474\n",
       "MIN               468\n",
       "MEA               498\n",
       "SNF              1163\n",
       "SND            113433\n",
       "PGT            118471\n",
       "TSHDSBRSGF      84770\n",
       "dtype: int64"
      ]
     },
     "execution_count": 32,
     "metadata": {},
     "output_type": "execute_result"
    }
   ],
   "source": [
    "# Important to remember we may have nulls in these columns:\n",
    "ww2_weath.isnull().sum(axis = 0)"
   ]
  },
  {
   "cell_type": "code",
   "execution_count": 33,
   "metadata": {},
   "outputs": [
    {
     "data": {
      "image/png": "[encoded data removed]",
      "text/plain": [
       "<Figure size 432x288 with 1 Axes>"
      ]
     },
     "metadata": {
      "needs_background": "light"
     },
     "output_type": "display_data"
    }
   ],
   "source": [
    "plt.hist(ww2_weath['MinTemp'],\n",
    "         bins = 10,\n",
    "         alpha=0.5, \n",
    "         color='#EDD834',\n",
    "         label = 'Min Temp C')\n",
    "\n",
    "plt.hist(ww2_weath['MeanTemp'],\n",
    "        bins = 10,\n",
    "        alpha = 0.5,\n",
    "        color = 'lightblue',\n",
    "        label = 'Mean Temp C')\n",
    "\n",
    "plt.legend(loc = 'upper left')\n",
    "\n",
    "plt.show()"
   ]
  },
  {
   "cell_type": "code",
   "execution_count": 34,
   "metadata": {},
   "outputs": [
    {
     "data": {
      "text/plain": [
       "<matplotlib.legend.Legend at 0x2d0a1b5f640>"
      ]
     },
     "execution_count": 34,
     "metadata": {},
     "output_type": "execute_result"
    },
    {
     "data": {
      "image/png": "[encoded data removed]",
      "text/plain": [
       "<Figure size 432x288 with 1 Axes>"
      ]
     },
     "metadata": {
      "needs_background": "light"
     },
     "output_type": "display_data"
    }
   ],
   "source": [
    "# These are a little left-skewed.  What will happen if we transform them?\n",
    "ww2_weath['MinTempTransf2'] = ww2_weath[['MinTemp']]**2\n",
    "ww2_weath['MeanTempTransf2'] = ww2_weath['MeanTemp']**2\n",
    "\n",
    "plt.hist(ww2_weath['MeanTemp']**2,\n",
    "         bins = 10,\n",
    "         alpha=0.5, \n",
    "         color='#EDD834',\n",
    "        label = 'Min Temp C Squared')\n",
    "\n",
    "plt.hist((ww2_weath['MinTemp'])**2,\n",
    "        bins = 10,\n",
    "        alpha = 0.5,\n",
    "        color = 'lightblue',\n",
    "        label = 'Mean Temp C Squared')\n",
    "\n",
    "\n",
    "plt.legend(loc = 'upper left')\n",
    "\n",
    "#plt.show()"
   ]
  },
  {
   "cell_type": "markdown",
   "metadata": {},
   "source": [
    "### 3.1 Impute values\n",
    "#### We can't check the shape of the other continuous variables because they contain nulls, which the histogram can't handle.  We need to decide whether we should impute values for these nulls, or drop the records.  Ideally, we do not want to lose data."
   ]
  },
  {
   "cell_type": "code",
   "execution_count": 35,
   "metadata": {},
   "outputs": [],
   "source": [
    "# For this exercise, we will use the mean value to impute.  THis is one of the most \"naive\" imputation methods, unlike other\n",
    "# methods that we will discuss in future lectures.\n",
    "from sklearn.impute import SimpleImputer\n",
    "mean_imputer = SimpleImputer(missing_values=np.nan, strategy='mean')"
   ]
  },
  {
   "cell_type": "code",
   "execution_count": 36,
   "metadata": {},
   "outputs": [],
   "source": [
    "ww2_weath['WindGustSpd'] = ww2_weath['WindGustSpd'].fillna(ww2_weath['WindGustSpd'].mean())\n",
    "ww2_weath['Snowfall'] = ww2_weath['Snowfall'].fillna(ww2_weath['Snowfall'].mean())\n",
    "ww2_weath['DR'] = ww2_weath['DR'].fillna(ww2_weath['DR'].mean())\n",
    "ww2_weath['SPD'] = ww2_weath['SPD'].fillna(ww2_weath['SPD'].mean())\n",
    "ww2_weath['MEA'] = ww2_weath['MEA'].fillna(ww2_weath['MEA'].mean())\n",
    "ww2_weath['MAX'] = ww2_weath['MAX'].fillna(ww2_weath['MAX'].mean())\n",
    "ww2_weath['MIN'] = ww2_weath['MIN'].fillna(ww2_weath['MIN'].mean())\n",
    "ww2_weath['SNF'] = ww2_weath['SNF'].fillna(ww2_weath['SNF'].mean())\n",
    "ww2_weath['SND'] = ww2_weath['SND'].fillna(ww2_weath['SND'].mean())\n",
    "ww2_weath['PGT'] = ww2_weath['PGT'].fillna(ww2_weath['PGT'].mean())"
   ]
  },
  {
   "cell_type": "code",
   "execution_count": 37,
   "metadata": {},
   "outputs": [
    {
     "data": {
      "text/plain": [
       "STA                    0\n",
       "Date                   0\n",
       "Precip                 0\n",
       "WindGustSpd            0\n",
       "MaxTemp                0\n",
       "MinTemp                0\n",
       "MeanTemp               0\n",
       "Snowfall               0\n",
       "YR                     0\n",
       "MO                     0\n",
       "DA                     0\n",
       "PRCP                1932\n",
       "DR                     0\n",
       "SPD                    0\n",
       "MAX                    0\n",
       "MIN                    0\n",
       "MEA                    0\n",
       "SNF                    0\n",
       "SND                    0\n",
       "PGT                    0\n",
       "TSHDSBRSGF         84770\n",
       "MinTempTransf2         0\n",
       "MeanTempTransf2        0\n",
       "dtype: int64"
      ]
     },
     "execution_count": 37,
     "metadata": {},
     "output_type": "execute_result"
    }
   ],
   "source": [
    "ww2_weath.isnull().sum(axis=0)"
   ]
  },
  {
   "cell_type": "code",
   "execution_count": 38,
   "metadata": {},
   "outputs": [
    {
     "data": {
      "image/png": "[encoded data removed]",
      "text/plain": [
       "<Figure size 432x288 with 1 Axes>"
      ]
     },
     "metadata": {
      "needs_background": "light"
     },
     "output_type": "display_data"
    }
   ],
   "source": [
    "plt.hist(ww2_weath['MEA'],\n",
    "         bins = 10,\n",
    "         alpha=0.5, \n",
    "         color='#EDD834',\n",
    "        label = 'Mean Temp F')\n",
    "\n",
    "plt.hist(ww2_weath['MIN'],\n",
    "        bins = 10,\n",
    "        alpha = 0.5,\n",
    "        color = 'lightblue',\n",
    "        label = 'Min Temp F')\n",
    "\n",
    "plt.hist(ww2_weath['MAX'],\n",
    "        bins = 10,\n",
    "        alpha = 0.3,\n",
    "        color = 'green',\n",
    "        label = 'Max Temp F')\n",
    "\n",
    "plt.legend(loc = 'upper left')\n",
    "\n",
    "plt.show()"
   ]
  },
  {
   "cell_type": "code",
   "execution_count": 39,
   "metadata": {},
   "outputs": [
    {
     "data": {
      "image/png": "[encoded data removed]",
      "text/plain": [
       "<Figure size 432x288 with 1 Axes>"
      ]
     },
     "metadata": {
      "needs_background": "light"
     },
     "output_type": "display_data"
    }
   ],
   "source": [
    "plt.hist(ww2_weath['SNF'],\n",
    "         bins = 25,\n",
    "         alpha=0.5, \n",
    "         color='#EDD834',\n",
    "        label = 'Snowfall in.')\n",
    "\n",
    "plt.legend(loc = 'upper right')\n",
    "\n",
    "plt.show()"
   ]
  },
  {
   "cell_type": "code",
   "execution_count": 40,
   "metadata": {},
   "outputs": [
    {
     "data": {
      "image/png": "[encoded data removed]",
      "text/plain": [
       "<Figure size 432x288 with 1 Axes>"
      ]
     },
     "metadata": {
      "needs_background": "light"
     },
     "output_type": "display_data"
    }
   ],
   "source": [
    "plt.hist(ww2_weath['Snowfall'],\n",
    "        bins = 25,\n",
    "        alpha = 0.1,\n",
    "        color = 'purple',\n",
    "        label = 'Snowfall & Ice Pellets mm')\n",
    "\n",
    "plt.legend(loc = 'upper right')\n",
    "\n",
    "plt.show()"
   ]
  },
  {
   "cell_type": "code",
   "execution_count": 41,
   "metadata": {},
   "outputs": [
    {
     "data": {
      "image/png": "[encoded data removed]",
      "text/plain": [
       "<Figure size 432x288 with 1 Axes>"
      ]
     },
     "metadata": {
      "needs_background": "light"
     },
     "output_type": "display_data"
    }
   ],
   "source": [
    "plt.hist(ww2_weath['SPD'],\n",
    "        bins = 25,\n",
    "        #alpha = 0.1,\n",
    "        color = 'purple',\n",
    "        label = 'Peak wind gust speed in knots')\n",
    "\n",
    "plt.legend(loc = 'upper right')\n",
    "\n",
    "plt.show()"
   ]
  },
  {
   "cell_type": "code",
   "execution_count": 42,
   "metadata": {},
   "outputs": [
    {
     "data": {
      "text/html": [
       "<div>\n",
       "<style scoped>\n",
       "    .dataframe tbody tr th:only-of-type {\n",
       "        vertical-align: middle;\n",
       "    }\n",
       "\n",
       "    .dataframe tbody tr th {\n",
       "        vertical-align: top;\n",
       "    }\n",
       "\n",
       "    .dataframe thead th {\n",
       "        text-align: right;\n",
       "    }\n",
       "</style>\n",
       "<table border=\"1\" class=\"dataframe\">\n",
       "  <thead>\n",
       "    <tr style=\"text-align: right;\">\n",
       "      <th></th>\n",
       "      <th>count</th>\n",
       "      <th>mean</th>\n",
       "      <th>std</th>\n",
       "      <th>min</th>\n",
       "      <th>25%</th>\n",
       "      <th>50%</th>\n",
       "      <th>75%</th>\n",
       "      <th>max</th>\n",
       "    </tr>\n",
       "  </thead>\n",
       "  <tbody>\n",
       "    <tr>\n",
       "      <th>SPD</th>\n",
       "      <td>118996.0</td>\n",
       "      <td>20.396617</td>\n",
       "      <td>0.371438</td>\n",
       "      <td>10.0</td>\n",
       "      <td>20.396617</td>\n",
       "      <td>20.396617</td>\n",
       "      <td>20.396617</td>\n",
       "      <td>41.0</td>\n",
       "    </tr>\n",
       "  </tbody>\n",
       "</table>\n",
       "</div>"
      ],
      "text/plain": [
       "        count       mean       std   min        25%        50%        75%  \\\n",
       "SPD  118996.0  20.396617  0.371438  10.0  20.396617  20.396617  20.396617   \n",
       "\n",
       "      max  \n",
       "SPD  41.0  "
      ]
     },
     "execution_count": 42,
     "metadata": {},
     "output_type": "execute_result"
    }
   ],
   "source": [
    "ww2_weath[['SPD']].describe().T"
   ]
  },
  {
   "cell_type": "code",
   "execution_count": 43,
   "metadata": {},
   "outputs": [
    {
     "data": {
      "image/png": "[encoded data removed]",
      "text/plain": [
       "<Figure size 432x288 with 1 Axes>"
      ]
     },
     "metadata": {
      "needs_background": "light"
     },
     "output_type": "display_data"
    }
   ],
   "source": [
    "plt.hist(ww2_weath['DR'],\n",
    "        bins = 25,\n",
    "        #alpha = 0.1,\n",
    "        color = 'green',\n",
    "        label = 'Peak wind gust direction in tens of degrees')\n",
    "\n",
    "plt.legend(loc = 'upper right')\n",
    "\n",
    "plt.show()"
   ]
  },
  {
   "cell_type": "code",
   "execution_count": 44,
   "metadata": {},
   "outputs": [
    {
     "data": {
      "image/png": "[encoded data removed]",
      "text/plain": [
       "<Figure size 432x288 with 1 Axes>"
      ]
     },
     "metadata": {
      "needs_background": "light"
     },
     "output_type": "display_data"
    }
   ],
   "source": [
    "plt.hist(ww2_weath['SND'],\n",
    "        bins = 25,\n",
    "        #alpha = 0.1,\n",
    "        color = 'green',\n",
    "        label = 'Snow depth')\n",
    "\n",
    "plt.legend(loc = 'upper right')\n",
    "\n",
    "plt.show()"
   ]
  },
  {
   "cell_type": "code",
   "execution_count": 45,
   "metadata": {},
   "outputs": [
    {
     "data": {
      "image/png": "[encoded data removed]",
      "text/plain": [
       "<Figure size 432x288 with 1 Axes>"
      ]
     },
     "metadata": {
      "needs_background": "light"
     },
     "output_type": "display_data"
    }
   ],
   "source": [
    "plt.hist(ww2_weath['PGT'],\n",
    "        bins = 25,\n",
    "        #alpha = 0.1,\n",
    "        color = 'red',\n",
    "        label = 'Peak wind gust time (hours and tenths)')\n",
    "\n",
    "plt.legend(loc = 'upper right')\n",
    "\n",
    "plt.show()"
   ]
  },
  {
   "cell_type": "markdown",
   "metadata": {},
   "source": [
    "#### We can see that, for the fields with a significant number of null values, imputing the mean value has given the field almost no predictive power, as we will likely see in our predictive model."
   ]
  },
  {
   "cell_type": "markdown",
   "metadata": {},
   "source": [
    "## 4. Variable selection\n",
    "\n",
    "### For this exercise, we will seek to predict the max temp by Celsius "
   ]
  },
  {
   "cell_type": "code",
   "execution_count": 46,
   "metadata": {},
   "outputs": [
    {
     "data": {
      "text/plain": [
       "STA                    0\n",
       "Date                   0\n",
       "Precip                 0\n",
       "WindGustSpd            0\n",
       "MaxTemp                0\n",
       "MinTemp                0\n",
       "MeanTemp               0\n",
       "Snowfall               0\n",
       "YR                     0\n",
       "MO                     0\n",
       "DA                     0\n",
       "PRCP                1932\n",
       "DR                     0\n",
       "SPD                    0\n",
       "MAX                    0\n",
       "MIN                    0\n",
       "MEA                    0\n",
       "SNF                    0\n",
       "SND                    0\n",
       "PGT                    0\n",
       "TSHDSBRSGF         84770\n",
       "MinTempTransf2         0\n",
       "MeanTempTransf2        0\n",
       "dtype: int64"
      ]
     },
     "execution_count": 46,
     "metadata": {},
     "output_type": "execute_result"
    }
   ],
   "source": [
    "ww2_weath.isnull().sum(axis = 0)"
   ]
  },
  {
   "cell_type": "code",
   "execution_count": 47,
   "metadata": {},
   "outputs": [
    {
     "data": {
      "text/plain": [
       "STA                 object\n",
       "Date                object\n",
       "Precip              object\n",
       "WindGustSpd        float64\n",
       "MaxTemp            float64\n",
       "MinTemp            float64\n",
       "MeanTemp           float64\n",
       "Snowfall           float64\n",
       "YR                   int64\n",
       "MO                   int64\n",
       "DA                   int64\n",
       "PRCP                object\n",
       "DR                 float64\n",
       "SPD                float64\n",
       "MAX                float64\n",
       "MIN                float64\n",
       "MEA                float64\n",
       "SNF                float64\n",
       "SND                float64\n",
       "PGT                float64\n",
       "TSHDSBRSGF          object\n",
       "MinTempTransf2     float64\n",
       "MeanTempTransf2    float64\n",
       "dtype: object"
      ]
     },
     "execution_count": 47,
     "metadata": {},
     "output_type": "execute_result"
    }
   ],
   "source": [
    "ww2_weath.dtypes"
   ]
  },
  {
   "cell_type": "code",
   "execution_count": 48,
   "metadata": {},
   "outputs": [
    {
     "data": {
      "text/html": [
       "<div>\n",
       "<style scoped>\n",
       "    .dataframe tbody tr th:only-of-type {\n",
       "        vertical-align: middle;\n",
       "    }\n",
       "\n",
       "    .dataframe tbody tr th {\n",
       "        vertical-align: top;\n",
       "    }\n",
       "\n",
       "    .dataframe thead th {\n",
       "        text-align: right;\n",
       "    }\n",
       "</style>\n",
       "<table border=\"1\" class=\"dataframe\">\n",
       "  <thead>\n",
       "    <tr style=\"text-align: right;\">\n",
       "      <th></th>\n",
       "      <th>STA</th>\n",
       "      <th>Date</th>\n",
       "      <th>Precip</th>\n",
       "      <th>WindGustSpd</th>\n",
       "      <th>MaxTemp</th>\n",
       "      <th>MinTemp</th>\n",
       "      <th>MeanTemp</th>\n",
       "      <th>Snowfall</th>\n",
       "      <th>YR</th>\n",
       "      <th>MO</th>\n",
       "      <th>DA</th>\n",
       "      <th>PRCP</th>\n",
       "      <th>DR</th>\n",
       "      <th>SPD</th>\n",
       "      <th>MAX</th>\n",
       "      <th>MIN</th>\n",
       "      <th>MEA</th>\n",
       "      <th>SNF</th>\n",
       "      <th>SND</th>\n",
       "      <th>PGT</th>\n",
       "      <th>TSHDSBRSGF</th>\n",
       "      <th>MinTempTransf2</th>\n",
       "      <th>MeanTempTransf2</th>\n",
       "    </tr>\n",
       "  </thead>\n",
       "  <tbody>\n",
       "    <tr>\n",
       "      <th>0</th>\n",
       "      <td>10001</td>\n",
       "      <td>1942-7-1</td>\n",
       "      <td>1.016</td>\n",
       "      <td>37.774534</td>\n",
       "      <td>25.555556</td>\n",
       "      <td>22.222222</td>\n",
       "      <td>23.888889</td>\n",
       "      <td>0.0</td>\n",
       "      <td>42</td>\n",
       "      <td>7</td>\n",
       "      <td>1</td>\n",
       "      <td>0.04</td>\n",
       "      <td>26.998124</td>\n",
       "      <td>20.396617</td>\n",
       "      <td>78.0</td>\n",
       "      <td>72.0</td>\n",
       "      <td>75.0</td>\n",
       "      <td>0.0</td>\n",
       "      <td>0.0</td>\n",
       "      <td>12.085333</td>\n",
       "      <td>NaN</td>\n",
       "      <td>493.827160</td>\n",
       "      <td>570.679012</td>\n",
       "    </tr>\n",
       "    <tr>\n",
       "      <th>1</th>\n",
       "      <td>10001</td>\n",
       "      <td>1942-7-2</td>\n",
       "      <td>0</td>\n",
       "      <td>37.774534</td>\n",
       "      <td>28.888889</td>\n",
       "      <td>21.666667</td>\n",
       "      <td>25.555556</td>\n",
       "      <td>0.0</td>\n",
       "      <td>42</td>\n",
       "      <td>7</td>\n",
       "      <td>2</td>\n",
       "      <td>0</td>\n",
       "      <td>26.998124</td>\n",
       "      <td>20.396617</td>\n",
       "      <td>84.0</td>\n",
       "      <td>71.0</td>\n",
       "      <td>78.0</td>\n",
       "      <td>0.0</td>\n",
       "      <td>0.0</td>\n",
       "      <td>12.085333</td>\n",
       "      <td>NaN</td>\n",
       "      <td>469.444445</td>\n",
       "      <td>653.086420</td>\n",
       "    </tr>\n",
       "    <tr>\n",
       "      <th>2</th>\n",
       "      <td>10001</td>\n",
       "      <td>1942-7-3</td>\n",
       "      <td>2.54</td>\n",
       "      <td>37.774534</td>\n",
       "      <td>26.111111</td>\n",
       "      <td>22.222222</td>\n",
       "      <td>24.444444</td>\n",
       "      <td>0.0</td>\n",
       "      <td>42</td>\n",
       "      <td>7</td>\n",
       "      <td>3</td>\n",
       "      <td>0.1</td>\n",
       "      <td>26.998124</td>\n",
       "      <td>20.396617</td>\n",
       "      <td>79.0</td>\n",
       "      <td>72.0</td>\n",
       "      <td>76.0</td>\n",
       "      <td>0.0</td>\n",
       "      <td>0.0</td>\n",
       "      <td>12.085333</td>\n",
       "      <td>NaN</td>\n",
       "      <td>493.827160</td>\n",
       "      <td>597.530864</td>\n",
       "    </tr>\n",
       "  </tbody>\n",
       "</table>\n",
       "</div>"
      ],
      "text/plain": [
       "     STA      Date Precip  WindGustSpd    MaxTemp    MinTemp   MeanTemp  \\\n",
       "0  10001  1942-7-1  1.016    37.774534  25.555556  22.222222  23.888889   \n",
       "1  10001  1942-7-2      0    37.774534  28.888889  21.666667  25.555556   \n",
       "2  10001  1942-7-3   2.54    37.774534  26.111111  22.222222  24.444444   \n",
       "\n",
       "   Snowfall  YR  MO  DA  PRCP         DR        SPD   MAX   MIN   MEA  SNF  \\\n",
       "0       0.0  42   7   1  0.04  26.998124  20.396617  78.0  72.0  75.0  0.0   \n",
       "1       0.0  42   7   2     0  26.998124  20.396617  84.0  71.0  78.0  0.0   \n",
       "2       0.0  42   7   3   0.1  26.998124  20.396617  79.0  72.0  76.0  0.0   \n",
       "\n",
       "   SND        PGT TSHDSBRSGF  MinTempTransf2  MeanTempTransf2  \n",
       "0  0.0  12.085333        NaN      493.827160       570.679012  \n",
       "1  0.0  12.085333        NaN      469.444445       653.086420  \n",
       "2  0.0  12.085333        NaN      493.827160       597.530864  "
      ]
     },
     "execution_count": 48,
     "metadata": {},
     "output_type": "execute_result"
    }
   ],
   "source": [
    "ww2_weath.head(3)"
   ]
  },
  {
   "cell_type": "markdown",
   "metadata": {},
   "source": [
    "### 4.1 Dropping highly correlated features"
   ]
  },
  {
   "cell_type": "code",
   "execution_count": 49,
   "metadata": {},
   "outputs": [
    {
     "data": {
      "text/html": [
       "<div>\n",
       "<style scoped>\n",
       "    .dataframe tbody tr th:only-of-type {\n",
       "        vertical-align: middle;\n",
       "    }\n",
       "\n",
       "    .dataframe tbody tr th {\n",
       "        vertical-align: top;\n",
       "    }\n",
       "\n",
       "    .dataframe thead th {\n",
       "        text-align: right;\n",
       "    }\n",
       "</style>\n",
       "<table border=\"1\" class=\"dataframe\">\n",
       "  <thead>\n",
       "    <tr style=\"text-align: right;\">\n",
       "      <th></th>\n",
       "      <th>WindGustSpd</th>\n",
       "      <th>MinTemp</th>\n",
       "      <th>MeanTemp</th>\n",
       "      <th>Snowfall</th>\n",
       "      <th>DR</th>\n",
       "      <th>SPD</th>\n",
       "      <th>MIN</th>\n",
       "      <th>MEA</th>\n",
       "      <th>SNF</th>\n",
       "      <th>SND</th>\n",
       "      <th>PGT</th>\n",
       "    </tr>\n",
       "  </thead>\n",
       "  <tbody>\n",
       "    <tr>\n",
       "      <th>0</th>\n",
       "      <td>37.774534</td>\n",
       "      <td>22.222222</td>\n",
       "      <td>23.888889</td>\n",
       "      <td>0.0</td>\n",
       "      <td>26.998124</td>\n",
       "      <td>20.396617</td>\n",
       "      <td>72.0</td>\n",
       "      <td>75.0</td>\n",
       "      <td>0.0</td>\n",
       "      <td>0.0</td>\n",
       "      <td>12.085333</td>\n",
       "    </tr>\n",
       "    <tr>\n",
       "      <th>1</th>\n",
       "      <td>37.774534</td>\n",
       "      <td>21.666667</td>\n",
       "      <td>25.555556</td>\n",
       "      <td>0.0</td>\n",
       "      <td>26.998124</td>\n",
       "      <td>20.396617</td>\n",
       "      <td>71.0</td>\n",
       "      <td>78.0</td>\n",
       "      <td>0.0</td>\n",
       "      <td>0.0</td>\n",
       "      <td>12.085333</td>\n",
       "    </tr>\n",
       "    <tr>\n",
       "      <th>2</th>\n",
       "      <td>37.774534</td>\n",
       "      <td>22.222222</td>\n",
       "      <td>24.444444</td>\n",
       "      <td>0.0</td>\n",
       "      <td>26.998124</td>\n",
       "      <td>20.396617</td>\n",
       "      <td>72.0</td>\n",
       "      <td>76.0</td>\n",
       "      <td>0.0</td>\n",
       "      <td>0.0</td>\n",
       "      <td>12.085333</td>\n",
       "    </tr>\n",
       "  </tbody>\n",
       "</table>\n",
       "</div>"
      ],
      "text/plain": [
       "   WindGustSpd    MinTemp   MeanTemp  Snowfall         DR        SPD   MIN  \\\n",
       "0    37.774534  22.222222  23.888889       0.0  26.998124  20.396617  72.0   \n",
       "1    37.774534  21.666667  25.555556       0.0  26.998124  20.396617  71.0   \n",
       "2    37.774534  22.222222  24.444444       0.0  26.998124  20.396617  72.0   \n",
       "\n",
       "    MEA  SNF  SND        PGT  \n",
       "0  75.0  0.0  0.0  12.085333  \n",
       "1  78.0  0.0  0.0  12.085333  \n",
       "2  76.0  0.0  0.0  12.085333  "
      ]
     },
     "execution_count": 49,
     "metadata": {},
     "output_type": "execute_result"
    }
   ],
   "source": [
    "## First, let's look at highly correlated continuous variables\n",
    "# Create correlation matrix\n",
    "import seaborn as sns\n",
    "ww2_weath_float_vars = ww2_weath[['WindGustSpd', 'MinTemp', 'MeanTemp', 'Snowfall', 'DR', 'SPD', 'MIN', 'MEA', 'SNF', 'SND', 'PGT']]\n",
    "corr_matrix = ww2_weath_float_vars.corr().abs()\n",
    "ww2_weath_float_vars.head(3)"
   ]
  },
  {
   "cell_type": "code",
   "execution_count": 50,
   "metadata": {},
   "outputs": [],
   "source": [
    "# Generate a mask for the upper triangle\n",
    "mask = np.zeros_like(corr_matrix, dtype=np.bool)\n",
    "mask[np.triu_indices_from(mask)] = True"
   ]
  },
  {
   "cell_type": "code",
   "execution_count": 51,
   "metadata": {},
   "outputs": [],
   "source": [
    "# Select the upper part of the triangle\n",
    "upper = corr_matrix.where(np.triu(np.ones(corr_matrix.shape), k=1).astype(np.bool))"
   ]
  },
  {
   "cell_type": "code",
   "execution_count": 52,
   "metadata": {},
   "outputs": [
    {
     "data": {
      "text/plain": [
       "<AxesSubplot:>"
      ]
     },
     "execution_count": 52,
     "metadata": {},
     "output_type": "execute_result"
    },
    {
     "data": {
      "image/png": "[encoded data removed]",
      "text/plain": [
       "<Figure size 792x648 with 2 Axes>"
      ]
     },
     "metadata": {
      "needs_background": "light"
     },
     "output_type": "display_data"
    }
   ],
   "source": [
    "# Set up the matplotlib figure\n",
    "f, ax = plt.subplots(figsize=(11, 9))\n",
    "\n",
    "# Generate a custom diverging colormap\n",
    "cmap = sns.diverging_palette(220, 10, as_cmap=True)\n",
    "\n",
    "# Draw the heatmap with the mask and correct aspect ratio\n",
    "sns.heatmap(corr_matrix, mask=mask, cmap=cmap, vmax=1, center=0,\n",
    "            square=True, linewidths=.5, cbar_kws={\"shrink\": .5})"
   ]
  },
  {
   "cell_type": "code",
   "execution_count": 53,
   "metadata": {},
   "outputs": [
    {
     "data": {
      "text/html": [
       "<div>\n",
       "<style scoped>\n",
       "    .dataframe tbody tr th:only-of-type {\n",
       "        vertical-align: middle;\n",
       "    }\n",
       "\n",
       "    .dataframe tbody tr th {\n",
       "        vertical-align: top;\n",
       "    }\n",
       "\n",
       "    .dataframe thead th {\n",
       "        text-align: right;\n",
       "    }\n",
       "</style>\n",
       "<table border=\"1\" class=\"dataframe\">\n",
       "  <thead>\n",
       "    <tr style=\"text-align: right;\">\n",
       "      <th></th>\n",
       "      <th>WindGustSpd</th>\n",
       "      <th>MinTemp</th>\n",
       "      <th>MeanTemp</th>\n",
       "      <th>Snowfall</th>\n",
       "      <th>DR</th>\n",
       "      <th>SPD</th>\n",
       "      <th>MIN</th>\n",
       "      <th>MEA</th>\n",
       "      <th>SNF</th>\n",
       "      <th>SND</th>\n",
       "      <th>PGT</th>\n",
       "    </tr>\n",
       "  </thead>\n",
       "  <tbody>\n",
       "    <tr>\n",
       "      <th>WindGustSpd</th>\n",
       "      <td>1.000000e+00</td>\n",
       "      <td>0.014547</td>\n",
       "      <td>0.006029</td>\n",
       "      <td>1.289474e-15</td>\n",
       "      <td>3.509761e-01</td>\n",
       "      <td>1.000000e+00</td>\n",
       "      <td>0.015103</td>\n",
       "      <td>0.006352</td>\n",
       "      <td>1.946774e-16</td>\n",
       "      <td>NaN</td>\n",
       "      <td>6.344282e-02</td>\n",
       "    </tr>\n",
       "    <tr>\n",
       "      <th>MinTemp</th>\n",
       "      <td>1.454723e-02</td>\n",
       "      <td>1.000000</td>\n",
       "      <td>0.965292</td>\n",
       "      <td>3.105900e-01</td>\n",
       "      <td>2.451488e-02</td>\n",
       "      <td>1.454723e-02</td>\n",
       "      <td>0.963219</td>\n",
       "      <td>0.930892</td>\n",
       "      <td>3.105900e-01</td>\n",
       "      <td>NaN</td>\n",
       "      <td>3.538512e-04</td>\n",
       "    </tr>\n",
       "    <tr>\n",
       "      <th>MeanTemp</th>\n",
       "      <td>6.029491e-03</td>\n",
       "      <td>0.965292</td>\n",
       "      <td>1.000000</td>\n",
       "      <td>3.266669e-01</td>\n",
       "      <td>1.245686e-02</td>\n",
       "      <td>6.029491e-03</td>\n",
       "      <td>0.917433</td>\n",
       "      <td>0.949199</td>\n",
       "      <td>3.266669e-01</td>\n",
       "      <td>NaN</td>\n",
       "      <td>6.645112e-04</td>\n",
       "    </tr>\n",
       "    <tr>\n",
       "      <th>Snowfall</th>\n",
       "      <td>1.289474e-15</td>\n",
       "      <td>0.310590</td>\n",
       "      <td>0.326667</td>\n",
       "      <td>1.000000e+00</td>\n",
       "      <td>1.077013e-15</td>\n",
       "      <td>1.080826e-15</td>\n",
       "      <td>0.322195</td>\n",
       "      <td>0.343977</td>\n",
       "      <td>1.000000e+00</td>\n",
       "      <td>NaN</td>\n",
       "      <td>2.293004e-16</td>\n",
       "    </tr>\n",
       "    <tr>\n",
       "      <th>DR</th>\n",
       "      <td>3.509761e-01</td>\n",
       "      <td>0.024515</td>\n",
       "      <td>0.012457</td>\n",
       "      <td>1.077013e-15</td>\n",
       "      <td>1.000000e+00</td>\n",
       "      <td>3.509761e-01</td>\n",
       "      <td>0.025451</td>\n",
       "      <td>0.013124</td>\n",
       "      <td>2.256650e-15</td>\n",
       "      <td>NaN</td>\n",
       "      <td>9.835302e-02</td>\n",
       "    </tr>\n",
       "    <tr>\n",
       "      <th>SPD</th>\n",
       "      <td>1.000000e+00</td>\n",
       "      <td>0.014547</td>\n",
       "      <td>0.006029</td>\n",
       "      <td>1.080826e-15</td>\n",
       "      <td>3.509761e-01</td>\n",
       "      <td>1.000000e+00</td>\n",
       "      <td>0.015103</td>\n",
       "      <td>0.006352</td>\n",
       "      <td>2.969031e-16</td>\n",
       "      <td>NaN</td>\n",
       "      <td>6.344282e-02</td>\n",
       "    </tr>\n",
       "    <tr>\n",
       "      <th>MIN</th>\n",
       "      <td>1.510272e-02</td>\n",
       "      <td>0.963219</td>\n",
       "      <td>0.917433</td>\n",
       "      <td>3.221947e-01</td>\n",
       "      <td>2.545099e-02</td>\n",
       "      <td>1.510272e-02</td>\n",
       "      <td>1.000000</td>\n",
       "      <td>0.966446</td>\n",
       "      <td>3.221947e-01</td>\n",
       "      <td>NaN</td>\n",
       "      <td>3.673631e-04</td>\n",
       "    </tr>\n",
       "    <tr>\n",
       "      <th>MEA</th>\n",
       "      <td>6.352188e-03</td>\n",
       "      <td>0.930892</td>\n",
       "      <td>0.949199</td>\n",
       "      <td>3.439775e-01</td>\n",
       "      <td>1.312355e-02</td>\n",
       "      <td>6.352188e-03</td>\n",
       "      <td>0.966446</td>\n",
       "      <td>1.000000</td>\n",
       "      <td>3.439775e-01</td>\n",
       "      <td>NaN</td>\n",
       "      <td>7.000757e-04</td>\n",
       "    </tr>\n",
       "    <tr>\n",
       "      <th>SNF</th>\n",
       "      <td>1.946774e-16</td>\n",
       "      <td>0.310590</td>\n",
       "      <td>0.326667</td>\n",
       "      <td>1.000000e+00</td>\n",
       "      <td>2.256650e-15</td>\n",
       "      <td>2.969031e-16</td>\n",
       "      <td>0.322195</td>\n",
       "      <td>0.343977</td>\n",
       "      <td>1.000000e+00</td>\n",
       "      <td>NaN</td>\n",
       "      <td>1.911208e-16</td>\n",
       "    </tr>\n",
       "    <tr>\n",
       "      <th>SND</th>\n",
       "      <td>NaN</td>\n",
       "      <td>NaN</td>\n",
       "      <td>NaN</td>\n",
       "      <td>NaN</td>\n",
       "      <td>NaN</td>\n",
       "      <td>NaN</td>\n",
       "      <td>NaN</td>\n",
       "      <td>NaN</td>\n",
       "      <td>NaN</td>\n",
       "      <td>NaN</td>\n",
       "      <td>NaN</td>\n",
       "    </tr>\n",
       "    <tr>\n",
       "      <th>PGT</th>\n",
       "      <td>6.344282e-02</td>\n",
       "      <td>0.000354</td>\n",
       "      <td>0.000665</td>\n",
       "      <td>2.293004e-16</td>\n",
       "      <td>9.835302e-02</td>\n",
       "      <td>6.344282e-02</td>\n",
       "      <td>0.000367</td>\n",
       "      <td>0.000700</td>\n",
       "      <td>1.911208e-16</td>\n",
       "      <td>NaN</td>\n",
       "      <td>1.000000e+00</td>\n",
       "    </tr>\n",
       "  </tbody>\n",
       "</table>\n",
       "</div>"
      ],
      "text/plain": [
       "              WindGustSpd   MinTemp  MeanTemp      Snowfall            DR  \\\n",
       "WindGustSpd  1.000000e+00  0.014547  0.006029  1.289474e-15  3.509761e-01   \n",
       "MinTemp      1.454723e-02  1.000000  0.965292  3.105900e-01  2.451488e-02   \n",
       "MeanTemp     6.029491e-03  0.965292  1.000000  3.266669e-01  1.245686e-02   \n",
       "Snowfall     1.289474e-15  0.310590  0.326667  1.000000e+00  1.077013e-15   \n",
       "DR           3.509761e-01  0.024515  0.012457  1.077013e-15  1.000000e+00   \n",
       "SPD          1.000000e+00  0.014547  0.006029  1.080826e-15  3.509761e-01   \n",
       "MIN          1.510272e-02  0.963219  0.917433  3.221947e-01  2.545099e-02   \n",
       "MEA          6.352188e-03  0.930892  0.949199  3.439775e-01  1.312355e-02   \n",
       "SNF          1.946774e-16  0.310590  0.326667  1.000000e+00  2.256650e-15   \n",
       "SND                   NaN       NaN       NaN           NaN           NaN   \n",
       "PGT          6.344282e-02  0.000354  0.000665  2.293004e-16  9.835302e-02   \n",
       "\n",
       "                      SPD       MIN       MEA           SNF  SND           PGT  \n",
       "WindGustSpd  1.000000e+00  0.015103  0.006352  1.946774e-16  NaN  6.344282e-02  \n",
       "MinTemp      1.454723e-02  0.963219  0.930892  3.105900e-01  NaN  3.538512e-04  \n",
       "MeanTemp     6.029491e-03  0.917433  0.949199  3.266669e-01  NaN  6.645112e-04  \n",
       "Snowfall     1.080826e-15  0.322195  0.343977  1.000000e+00  NaN  2.293004e-16  \n",
       "DR           3.509761e-01  0.025451  0.013124  2.256650e-15  NaN  9.835302e-02  \n",
       "SPD          1.000000e+00  0.015103  0.006352  2.969031e-16  NaN  6.344282e-02  \n",
       "MIN          1.510272e-02  1.000000  0.966446  3.221947e-01  NaN  3.673631e-04  \n",
       "MEA          6.352188e-03  0.966446  1.000000  3.439775e-01  NaN  7.000757e-04  \n",
       "SNF          2.969031e-16  0.322195  0.343977  1.000000e+00  NaN  1.911208e-16  \n",
       "SND                   NaN       NaN       NaN           NaN  NaN           NaN  \n",
       "PGT          6.344282e-02  0.000367  0.000700  1.911208e-16  NaN  1.000000e+00  "
      ]
     },
     "execution_count": 53,
     "metadata": {},
     "output_type": "execute_result"
    }
   ],
   "source": [
    "#We can also look at this in raw form:\n",
    "corr_matrix\n",
    "\n",
    "#We can see that the temperatures measured in C and F are highly correlated.  Given that the target is measure in C, \n",
    "# it is probably wise to not use the F Temperature columns as predictors\n",
    "\n",
    "# We could, in theory, also check the correlation between the C temp features and F temp features with respect to the target"
   ]
  },
  {
   "cell_type": "markdown",
   "metadata": {},
   "source": [
    "### 4.2 Computing ANOVA F-value between each feature and the target vector"
   ]
  },
  {
   "cell_type": "code",
   "execution_count": 54,
   "metadata": {},
   "outputs": [],
   "source": [
    "from sklearn.feature_selection import SelectKBest\n",
    "from sklearn.feature_selection import f_regression"
   ]
  },
  {
   "cell_type": "code",
   "execution_count": 55,
   "metadata": {},
   "outputs": [],
   "source": [
    "ww2_weather_vars = ww2_weath[['WindGustSpd', 'MinTemp', 'MeanTemp', 'Snowfall', 'DR', 'SPD', 'SNF', 'SND', 'PGT'\n",
    "                              #, 'STA'\n",
    "                             ]]"
   ]
  },
  {
   "cell_type": "code",
   "execution_count": 56,
   "metadata": {},
   "outputs": [],
   "source": [
    "target = ww2_weath[['MaxTemp']]"
   ]
  },
  {
   "cell_type": "code",
   "execution_count": 57,
   "metadata": {},
   "outputs": [
    {
     "data": {
      "text/html": [
       "<div>\n",
       "<style scoped>\n",
       "    .dataframe tbody tr th:only-of-type {\n",
       "        vertical-align: middle;\n",
       "    }\n",
       "\n",
       "    .dataframe tbody tr th {\n",
       "        vertical-align: top;\n",
       "    }\n",
       "\n",
       "    .dataframe thead th {\n",
       "        text-align: right;\n",
       "    }\n",
       "</style>\n",
       "<table border=\"1\" class=\"dataframe\">\n",
       "  <thead>\n",
       "    <tr style=\"text-align: right;\">\n",
       "      <th></th>\n",
       "      <th>MaxTemp</th>\n",
       "    </tr>\n",
       "  </thead>\n",
       "  <tbody>\n",
       "    <tr>\n",
       "      <th>0</th>\n",
       "      <td>25.555556</td>\n",
       "    </tr>\n",
       "    <tr>\n",
       "      <th>1</th>\n",
       "      <td>28.888889</td>\n",
       "    </tr>\n",
       "    <tr>\n",
       "      <th>2</th>\n",
       "      <td>26.111111</td>\n",
       "    </tr>\n",
       "  </tbody>\n",
       "</table>\n",
       "</div>"
      ],
      "text/plain": [
       "     MaxTemp\n",
       "0  25.555556\n",
       "1  28.888889\n",
       "2  26.111111"
      ]
     },
     "execution_count": 57,
     "metadata": {},
     "output_type": "execute_result"
    }
   ],
   "source": [
    "target.head(3)"
   ]
  },
  {
   "cell_type": "code",
   "execution_count": 58,
   "metadata": {},
   "outputs": [],
   "source": [
    "# Create an SelectKBest object to select features with two best ANOVA F-Values\n",
    "fvalue_selector = SelectKBest(f_regression, k=2)"
   ]
  },
  {
   "cell_type": "code",
   "execution_count": 59,
   "metadata": {
    "scrolled": true
   },
   "outputs": [],
   "source": [
    "np.seterr(divide='ignore', invalid='ignore')\n",
    "# c:\\python38\\lib\\site-packages\\sklearn\\feature_selection\\_univariate_selection.py:302: RuntimeWarning: invalid value encountered in true_divide\n",
    "#  corr /= X_norms\n",
    "X_kbest = fvalue_selector.fit_transform(ww2_weather_vars, target.values.ravel())"
   ]
  },
  {
   "cell_type": "code",
   "execution_count": 60,
   "metadata": {},
   "outputs": [
    {
     "name": "stdout",
     "output_type": "stream",
     "text": [
      "Original number of features: 9\n",
      "Reduced number of features: 2\n"
     ]
    }
   ],
   "source": [
    "# Show results\n",
    "print('Original number of features:', ww2_weather_vars.shape[1])\n",
    "print('Reduced number of features:', X_kbest.shape[1])"
   ]
  },
  {
   "cell_type": "code",
   "execution_count": 61,
   "metadata": {},
   "outputs": [
    {
     "data": {
      "text/plain": [
       "(118996, 2)"
      ]
     },
     "execution_count": 61,
     "metadata": {},
     "output_type": "execute_result"
    }
   ],
   "source": [
    "X_kbest.shape"
   ]
  },
  {
   "cell_type": "code",
   "execution_count": 62,
   "metadata": {},
   "outputs": [
    {
     "data": {
      "text/plain": [
       "array([[22.22222222, 23.88888889],\n",
       "       [21.66666667, 25.55555556],\n",
       "       [22.22222222, 24.44444444],\n",
       "       ...,\n",
       "       [18.33333333, 23.33333333],\n",
       "       [18.33333333, 23.33333333],\n",
       "       [17.22222222, 23.33333333]])"
      ]
     },
     "execution_count": 62,
     "metadata": {},
     "output_type": "execute_result"
    }
   ],
   "source": [
    "# We can see that X_kbest is an array\n",
    "X_kbest"
   ]
  },
  {
   "cell_type": "code",
   "execution_count": 63,
   "metadata": {},
   "outputs": [
    {
     "data": {
      "text/html": [
       "<div>\n",
       "<style scoped>\n",
       "    .dataframe tbody tr th:only-of-type {\n",
       "        vertical-align: middle;\n",
       "    }\n",
       "\n",
       "    .dataframe tbody tr th {\n",
       "        vertical-align: top;\n",
       "    }\n",
       "\n",
       "    .dataframe thead th {\n",
       "        text-align: right;\n",
       "    }\n",
       "</style>\n",
       "<table border=\"1\" class=\"dataframe\">\n",
       "  <thead>\n",
       "    <tr style=\"text-align: right;\">\n",
       "      <th></th>\n",
       "      <th>0</th>\n",
       "      <th>1</th>\n",
       "    </tr>\n",
       "  </thead>\n",
       "  <tbody>\n",
       "    <tr>\n",
       "      <th>0</th>\n",
       "      <td>22.222222</td>\n",
       "      <td>23.888889</td>\n",
       "    </tr>\n",
       "    <tr>\n",
       "      <th>1</th>\n",
       "      <td>21.666667</td>\n",
       "      <td>25.555556</td>\n",
       "    </tr>\n",
       "    <tr>\n",
       "      <th>2</th>\n",
       "      <td>22.222222</td>\n",
       "      <td>24.444444</td>\n",
       "    </tr>\n",
       "  </tbody>\n",
       "</table>\n",
       "</div>"
      ],
      "text/plain": [
       "           0          1\n",
       "0  22.222222  23.888889\n",
       "1  21.666667  25.555556\n",
       "2  22.222222  24.444444"
      ]
     },
     "execution_count": 63,
     "metadata": {},
     "output_type": "execute_result"
    }
   ],
   "source": [
    "# We can convert X_kbest to a dataframe\n",
    "X_kbest = pd.DataFrame(X_kbest)\n",
    "X_kbest.head(3)"
   ]
  },
  {
   "cell_type": "code",
   "execution_count": 64,
   "metadata": {},
   "outputs": [
    {
     "data": {
      "text/html": [
       "<div>\n",
       "<style scoped>\n",
       "    .dataframe tbody tr th:only-of-type {\n",
       "        vertical-align: middle;\n",
       "    }\n",
       "\n",
       "    .dataframe tbody tr th {\n",
       "        vertical-align: top;\n",
       "    }\n",
       "\n",
       "    .dataframe thead th {\n",
       "        text-align: right;\n",
       "    }\n",
       "</style>\n",
       "<table border=\"1\" class=\"dataframe\">\n",
       "  <thead>\n",
       "    <tr style=\"text-align: right;\">\n",
       "      <th></th>\n",
       "      <th>WindGustSpd</th>\n",
       "      <th>MinTemp</th>\n",
       "      <th>MeanTemp</th>\n",
       "      <th>Snowfall</th>\n",
       "      <th>DR</th>\n",
       "      <th>SPD</th>\n",
       "      <th>SNF</th>\n",
       "      <th>SND</th>\n",
       "      <th>PGT</th>\n",
       "    </tr>\n",
       "  </thead>\n",
       "  <tbody>\n",
       "    <tr>\n",
       "      <th>0</th>\n",
       "      <td>37.774534</td>\n",
       "      <td>22.222222</td>\n",
       "      <td>23.888889</td>\n",
       "      <td>0.0</td>\n",
       "      <td>26.998124</td>\n",
       "      <td>20.396617</td>\n",
       "      <td>0.0</td>\n",
       "      <td>0.0</td>\n",
       "      <td>12.085333</td>\n",
       "    </tr>\n",
       "    <tr>\n",
       "      <th>1</th>\n",
       "      <td>37.774534</td>\n",
       "      <td>21.666667</td>\n",
       "      <td>25.555556</td>\n",
       "      <td>0.0</td>\n",
       "      <td>26.998124</td>\n",
       "      <td>20.396617</td>\n",
       "      <td>0.0</td>\n",
       "      <td>0.0</td>\n",
       "      <td>12.085333</td>\n",
       "    </tr>\n",
       "    <tr>\n",
       "      <th>2</th>\n",
       "      <td>37.774534</td>\n",
       "      <td>22.222222</td>\n",
       "      <td>24.444444</td>\n",
       "      <td>0.0</td>\n",
       "      <td>26.998124</td>\n",
       "      <td>20.396617</td>\n",
       "      <td>0.0</td>\n",
       "      <td>0.0</td>\n",
       "      <td>12.085333</td>\n",
       "    </tr>\n",
       "  </tbody>\n",
       "</table>\n",
       "</div>"
      ],
      "text/plain": [
       "   WindGustSpd    MinTemp   MeanTemp  Snowfall         DR        SPD  SNF  \\\n",
       "0    37.774534  22.222222  23.888889       0.0  26.998124  20.396617  0.0   \n",
       "1    37.774534  21.666667  25.555556       0.0  26.998124  20.396617  0.0   \n",
       "2    37.774534  22.222222  24.444444       0.0  26.998124  20.396617  0.0   \n",
       "\n",
       "   SND        PGT  \n",
       "0  0.0  12.085333  \n",
       "1  0.0  12.085333  \n",
       "2  0.0  12.085333  "
      ]
     },
     "execution_count": 64,
     "metadata": {},
     "output_type": "execute_result"
    }
   ],
   "source": [
    "ww2_weather_vars.head(3)"
   ]
  },
  {
   "cell_type": "code",
   "execution_count": 65,
   "metadata": {},
   "outputs": [],
   "source": [
    "# We can see that MinTemp and MeanTemp are the most relevant features for this test"
   ]
  },
  {
   "cell_type": "markdown",
   "metadata": {},
   "source": [
    "## 5. Model Creation\n",
    "### 5.1 Split data into trianing and test sets"
   ]
  },
  {
   "cell_type": "code",
   "execution_count": 66,
   "metadata": {},
   "outputs": [],
   "source": [
    "from sklearn.model_selection import train_test_split\n",
    "x_train, x_test, y_train, y_test = train_test_split(ww2_weather_vars, \n",
    "                                                    target, \n",
    "                                                    test_size=0.2, \n",
    "                                                    random_state=1)"
   ]
  },
  {
   "cell_type": "markdown",
   "metadata": {},
   "source": [
    "### 5.2 Linear Model"
   ]
  },
  {
   "cell_type": "code",
   "execution_count": 67,
   "metadata": {},
   "outputs": [],
   "source": [
    "from sklearn import linear_model"
   ]
  },
  {
   "cell_type": "code",
   "execution_count": 68,
   "metadata": {},
   "outputs": [],
   "source": [
    "# Create an object that is an ols regression\n",
    "ols = linear_model.LinearRegression()"
   ]
  },
  {
   "cell_type": "code",
   "execution_count": 69,
   "metadata": {},
   "outputs": [],
   "source": [
    "# Train the model using our training data\n",
    "model = ols.fit(x_train, y_train)"
   ]
  },
  {
   "cell_type": "code",
   "execution_count": 70,
   "metadata": {},
   "outputs": [
    {
     "data": {
      "text/html": [
       "<div>\n",
       "<style scoped>\n",
       "    .dataframe tbody tr th:only-of-type {\n",
       "        vertical-align: middle;\n",
       "    }\n",
       "\n",
       "    .dataframe tbody tr th {\n",
       "        vertical-align: top;\n",
       "    }\n",
       "\n",
       "    .dataframe thead th {\n",
       "        text-align: right;\n",
       "    }\n",
       "</style>\n",
       "<table border=\"1\" class=\"dataframe\">\n",
       "  <thead>\n",
       "    <tr style=\"text-align: right;\">\n",
       "      <th></th>\n",
       "      <th>WindGustSpd</th>\n",
       "      <th>MinTemp</th>\n",
       "      <th>MeanTemp</th>\n",
       "      <th>Snowfall</th>\n",
       "      <th>DR</th>\n",
       "      <th>SPD</th>\n",
       "      <th>SNF</th>\n",
       "      <th>SND</th>\n",
       "      <th>PGT</th>\n",
       "    </tr>\n",
       "  </thead>\n",
       "  <tbody>\n",
       "    <tr>\n",
       "      <th>73357</th>\n",
       "      <td>37.774534</td>\n",
       "      <td>11.666667</td>\n",
       "      <td>19.444444</td>\n",
       "      <td>0.0</td>\n",
       "      <td>26.998124</td>\n",
       "      <td>20.396617</td>\n",
       "      <td>0.0</td>\n",
       "      <td>0.0</td>\n",
       "      <td>12.085333</td>\n",
       "    </tr>\n",
       "    <tr>\n",
       "      <th>42542</th>\n",
       "      <td>37.774534</td>\n",
       "      <td>23.333333</td>\n",
       "      <td>25.000000</td>\n",
       "      <td>0.0</td>\n",
       "      <td>26.998124</td>\n",
       "      <td>20.396617</td>\n",
       "      <td>0.0</td>\n",
       "      <td>0.0</td>\n",
       "      <td>12.085333</td>\n",
       "    </tr>\n",
       "    <tr>\n",
       "      <th>80464</th>\n",
       "      <td>37.774534</td>\n",
       "      <td>11.111111</td>\n",
       "      <td>16.666667</td>\n",
       "      <td>0.0</td>\n",
       "      <td>26.998124</td>\n",
       "      <td>20.396617</td>\n",
       "      <td>0.0</td>\n",
       "      <td>0.0</td>\n",
       "      <td>12.085333</td>\n",
       "    </tr>\n",
       "  </tbody>\n",
       "</table>\n",
       "</div>"
      ],
      "text/plain": [
       "       WindGustSpd    MinTemp   MeanTemp  Snowfall         DR        SPD  SNF  \\\n",
       "73357    37.774534  11.666667  19.444444       0.0  26.998124  20.396617  0.0   \n",
       "42542    37.774534  23.333333  25.000000       0.0  26.998124  20.396617  0.0   \n",
       "80464    37.774534  11.111111  16.666667       0.0  26.998124  20.396617  0.0   \n",
       "\n",
       "       SND        PGT  \n",
       "73357  0.0  12.085333  \n",
       "42542  0.0  12.085333  \n",
       "80464  0.0  12.085333  "
      ]
     },
     "execution_count": 70,
     "metadata": {},
     "output_type": "execute_result"
    }
   ],
   "source": [
    "x_train.head(3)"
   ]
  },
  {
   "cell_type": "code",
   "execution_count": 71,
   "metadata": {},
   "outputs": [
    {
     "data": {
      "text/plain": [
       "array([[-4.31687815e+09, -8.93438339e-01,  1.88500702e+00,\n",
       "        -9.37016339e+01, -9.06467438e-03,  7.99485834e+09,\n",
       "         2.37965272e+03,  0.00000000e+00,  2.63768435e-03]])"
      ]
     },
     "execution_count": 71,
     "metadata": {},
     "output_type": "execute_result"
    }
   ],
   "source": [
    "# View the training model's coefficient\n",
    "model.coef_"
   ]
  },
  {
   "cell_type": "code",
   "execution_count": 72,
   "metadata": {},
   "outputs": [
    {
     "data": {
      "text/plain": [
       "0.9892697321997305"
      ]
     },
     "execution_count": 72,
     "metadata": {},
     "output_type": "execute_result"
    }
   ],
   "source": [
    "model.score(x_train, y_train)"
   ]
  },
  {
   "cell_type": "code",
   "execution_count": 73,
   "metadata": {},
   "outputs": [
    {
     "data": {
      "text/plain": [
       "0.9781084927268188"
      ]
     },
     "execution_count": 73,
     "metadata": {},
     "output_type": "execute_result"
    }
   ],
   "source": [
    "model.score(x_test, y_test)"
   ]
  },
  {
   "cell_type": "code",
   "execution_count": 74,
   "metadata": {},
   "outputs": [
    {
     "data": {
      "text/plain": [
       "[array([-0.62851066]),\n",
       " array([30.22100716]),\n",
       " array([30.55383187]),\n",
       " array([29.11926156]),\n",
       " array([32.48470956])]"
      ]
     },
     "execution_count": 74,
     "metadata": {},
     "output_type": "execute_result"
    }
   ],
   "source": [
    "# Run the model on X_test and show the first five results\n",
    "list(model.predict(x_test)[0:5])"
   ]
  },
  {
   "cell_type": "code",
   "execution_count": 75,
   "metadata": {},
   "outputs": [
    {
     "data": {
      "text/html": [
       "<div>\n",
       "<style scoped>\n",
       "    .dataframe tbody tr th:only-of-type {\n",
       "        vertical-align: middle;\n",
       "    }\n",
       "\n",
       "    .dataframe tbody tr th {\n",
       "        vertical-align: top;\n",
       "    }\n",
       "\n",
       "    .dataframe thead th {\n",
       "        text-align: right;\n",
       "    }\n",
       "</style>\n",
       "<table border=\"1\" class=\"dataframe\">\n",
       "  <thead>\n",
       "    <tr style=\"text-align: right;\">\n",
       "      <th></th>\n",
       "      <th>MaxTemp</th>\n",
       "    </tr>\n",
       "  </thead>\n",
       "  <tbody>\n",
       "    <tr>\n",
       "      <th>47534</th>\n",
       "      <td>-0.555556</td>\n",
       "    </tr>\n",
       "    <tr>\n",
       "      <th>35851</th>\n",
       "      <td>30.555556</td>\n",
       "    </tr>\n",
       "    <tr>\n",
       "      <th>28719</th>\n",
       "      <td>30.555556</td>\n",
       "    </tr>\n",
       "    <tr>\n",
       "      <th>50520</th>\n",
       "      <td>29.444444</td>\n",
       "    </tr>\n",
       "    <tr>\n",
       "      <th>69440</th>\n",
       "      <td>32.777778</td>\n",
       "    </tr>\n",
       "  </tbody>\n",
       "</table>\n",
       "</div>"
      ],
      "text/plain": [
       "         MaxTemp\n",
       "47534  -0.555556\n",
       "35851  30.555556\n",
       "28719  30.555556\n",
       "50520  29.444444\n",
       "69440  32.777778"
      ]
     },
     "execution_count": 75,
     "metadata": {},
     "output_type": "execute_result"
    }
   ],
   "source": [
    "y_test[0:5]"
   ]
  },
  {
   "cell_type": "markdown",
   "metadata": {},
   "source": [
    "#### 5.2.1 RSS / MSE / R2 / Adjusted R2"
   ]
  },
  {
   "cell_type": "code",
   "execution_count": 76,
   "metadata": {},
   "outputs": [
    {
     "data": {
      "text/plain": [
       "38552.45787206432"
      ]
     },
     "execution_count": 76,
     "metadata": {},
     "output_type": "execute_result"
    }
   ],
   "source": [
    "# Apply the model we created using the training data to the test data, and calculate the RSS.\n",
    "((y_test.values - model.predict(x_test)) **2).sum()"
   ]
  },
  {
   "cell_type": "code",
   "execution_count": 77,
   "metadata": {},
   "outputs": [
    {
     "data": {
      "text/plain": [
       "1.6198511710951395"
      ]
     },
     "execution_count": 77,
     "metadata": {},
     "output_type": "execute_result"
    }
   ],
   "source": [
    "# For MSE:\n",
    "np.mean((y_test.values - model.predict(x_test)) **2)"
   ]
  },
  {
   "cell_type": "code",
   "execution_count": 78,
   "metadata": {},
   "outputs": [
    {
     "data": {
      "text/plain": [
       "0.9892697321997305"
      ]
     },
     "execution_count": 78,
     "metadata": {},
     "output_type": "execute_result"
    }
   ],
   "source": [
    "# For R2\n",
    "from sklearn.metrics import r2_score\n",
    "r2_score(y_train.values, model.predict(x_train)) "
   ]
  },
  {
   "cell_type": "code",
   "execution_count": 79,
   "metadata": {},
   "outputs": [
    {
     "data": {
      "text/plain": [
       "0.9781084927268188"
      ]
     },
     "execution_count": 79,
     "metadata": {},
     "output_type": "execute_result"
    }
   ],
   "source": [
    "r2 = r2_score(y_test.values, model.predict(x_test)) \n",
    "r2"
   ]
  },
  {
   "cell_type": "code",
   "execution_count": 80,
   "metadata": {},
   "outputs": [
    {
     "data": {
      "text/plain": [
       "0.9781002109460093"
      ]
     },
     "execution_count": 80,
     "metadata": {},
     "output_type": "execute_result"
    }
   ],
   "source": [
    "# To calculate adjusted R2\n",
    "adjusted_r_squared = 1 - (1-r2)*(len(y_test['MaxTemp'])-1)/(len(y_test['MaxTemp'])-x_test.shape[1]-1)\n",
    "adjusted_r_squared"
   ]
  },
  {
   "cell_type": "markdown",
   "metadata": {},
   "source": [
    "## 6. LASSO for feature selection\n",
    "\n",
    "#### The hyperparameter, α, lets us control how much we penalize the coefficients, with higher values of α creating simpler modelers. The ideal value of α should be tuned like any other hyperparameter. In scikit-learn, α is set using the alpha parameter."
   ]
  },
  {
   "cell_type": "code",
   "execution_count": 81,
   "metadata": {},
   "outputs": [],
   "source": [
    "from sklearn.linear_model import Lasso\n",
    "from sklearn.preprocessing import StandardScaler\n",
    "scaler = StandardScaler()"
   ]
  },
  {
   "cell_type": "code",
   "execution_count": 82,
   "metadata": {},
   "outputs": [],
   "source": [
    "from sklearn.model_selection import train_test_split\n",
    "x_train, x_test, y_train, y_test = train_test_split(scaler.fit_transform(ww2_weather_vars), \n",
    "                                                    target, \n",
    "                                                    test_size=0.2, \n",
    "                                                    random_state=1)"
   ]
  },
  {
   "cell_type": "code",
   "execution_count": 83,
   "metadata": {},
   "outputs": [],
   "source": [
    "#from sklearn.linear_model import Lasso\n",
    "#from sklearn.preprocessing import StandardScaler\n",
    "#scaler = StandardScaler()\n",
    "#X_std = scaler.fit_transform(x_train)\n",
    "#Remember, we ONLY are using continuous variables in this analysis.  The scaler cannot and should not be used with categorical features"
   ]
  },
  {
   "cell_type": "code",
   "execution_count": 84,
   "metadata": {
    "scrolled": true
   },
   "outputs": [],
   "source": [
    "#X_std"
   ]
  },
  {
   "cell_type": "code",
   "execution_count": 85,
   "metadata": {},
   "outputs": [],
   "source": [
    "# Create lasso regression with alpha value\n",
    "regr = Lasso(alpha=0.5)"
   ]
  },
  {
   "cell_type": "code",
   "execution_count": 86,
   "metadata": {},
   "outputs": [
    {
     "data": {
      "text/plain": [
       "Lasso(alpha=0.5)"
      ]
     },
     "execution_count": 86,
     "metadata": {},
     "output_type": "execute_result"
    }
   ],
   "source": [
    "regr"
   ]
  },
  {
   "cell_type": "code",
   "execution_count": 87,
   "metadata": {},
   "outputs": [],
   "source": [
    "# Fit the linear regression\n",
    "lasso_model = regr.fit(x_train, y_train)"
   ]
  },
  {
   "cell_type": "code",
   "execution_count": 88,
   "metadata": {},
   "outputs": [
    {
     "data": {
      "text/plain": [
       "Lasso(alpha=0.5)"
      ]
     },
     "execution_count": 88,
     "metadata": {},
     "output_type": "execute_result"
    }
   ],
   "source": [
    "lasso_model"
   ]
  },
  {
   "cell_type": "code",
   "execution_count": 89,
   "metadata": {},
   "outputs": [
    {
     "name": "stdout",
     "output_type": "stream",
     "text": [
      "[-0.         -0.          7.94848083 -0.         -0.         -0.\n",
      " -0.          0.         -0.        ] [27.05217019]\n"
     ]
    }
   ],
   "source": [
    "print(lasso_model.coef_, lasso_model.intercept_)"
   ]
  },
  {
   "cell_type": "code",
   "execution_count": 90,
   "metadata": {},
   "outputs": [],
   "source": [
    "# As we discussed in our lecture, alpha is a hyperparemter.  To find the best hyperparameter, we should use grid-search.\n",
    "# We can do this for LASSO with LASSO CV\n",
    "from sklearn.linear_model import LassoCV"
   ]
  },
  {
   "cell_type": "code",
   "execution_count": 91,
   "metadata": {},
   "outputs": [],
   "source": [
    "lasso_cv = LassoCV(alphas = [0.01, 0.1, 0.5, 1, 5, 10])"
   ]
  },
  {
   "cell_type": "markdown",
   "metadata": {},
   "source": [
    "5,10,15,200"
   ]
  },
  {
   "cell_type": "code",
   "execution_count": 92,
   "metadata": {
    "scrolled": true
   },
   "outputs": [],
   "source": [
    "# Fit the linear regression\n",
    "model_cv = lasso_cv.fit(x_train, y_train.values.ravel())"
   ]
  },
  {
   "cell_type": "code",
   "execution_count": 93,
   "metadata": {},
   "outputs": [
    {
     "data": {
      "text/plain": [
       "0.01"
      ]
     },
     "execution_count": 93,
     "metadata": {},
     "output_type": "execute_result"
    }
   ],
   "source": [
    "# To find the best alpha: \n",
    "model_cv.alpha_"
   ]
  },
  {
   "cell_type": "markdown",
   "metadata": {},
   "source": [
    "## 7. Ridge Cross Validation"
   ]
  },
  {
   "cell_type": "code",
   "execution_count": 94,
   "metadata": {},
   "outputs": [],
   "source": [
    "from sklearn.linear_model import RidgeCV"
   ]
  },
  {
   "cell_type": "code",
   "execution_count": 95,
   "metadata": {},
   "outputs": [],
   "source": [
    "ridge_cv = RidgeCV(alphas = [0.01, 0.1, 0.5, 1, 5, 10])"
   ]
  },
  {
   "cell_type": "code",
   "execution_count": 96,
   "metadata": {},
   "outputs": [],
   "source": [
    "# Fit the linear regression\n",
    "ridge_model_cv = ridge_cv.fit(x_train, y_train)"
   ]
  },
  {
   "cell_type": "code",
   "execution_count": 97,
   "metadata": {},
   "outputs": [
    {
     "data": {
      "text/plain": [
       "0.01"
      ]
     },
     "execution_count": 97,
     "metadata": {},
     "output_type": "execute_result"
    }
   ],
   "source": [
    "# To find the best alpha: \n",
    "model_cv.alpha_"
   ]
  }
 ],
 "metadata": {
  "kernelspec": {
   "display_name": "Python 3",
   "language": "python",
   "name": "python3"
  },
  "language_info": {
   "codemirror_mode": {
    "name": "ipython",
    "version": 3
   },
   "file_extension": ".py",
   "mimetype": "text/x-python",
   "name": "python",
   "nbconvert_exporter": "python",
   "pygments_lexer": "ipython3",
   "version": "3.8.3"
  }
 },
 "nbformat": 4,
 "nbformat_minor": 2
}
